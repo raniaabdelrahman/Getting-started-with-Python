{
 "cells": [
  {
   "cell_type": "markdown",
   "id": "47055a72",
   "metadata": {},
   "source": [
    "# Getting started with python"
   ]
  },
  {
   "cell_type": "code",
   "execution_count": 1,
   "id": "90fe5f91",
   "metadata": {},
   "outputs": [],
   "source": [
    "str = [\"a\", \"b\", \"c\"]"
   ]
  },
  {
   "cell_type": "code",
   "execution_count": 2,
   "id": "1a641125",
   "metadata": {},
   "outputs": [
    {
     "data": {
      "text/plain": [
       "list"
      ]
     },
     "execution_count": 2,
     "metadata": {},
     "output_type": "execute_result"
    }
   ],
   "source": [
    "type(str)"
   ]
  },
  {
   "cell_type": "code",
   "execution_count": 3,
   "id": "7eaa21e3",
   "metadata": {},
   "outputs": [
    {
     "name": "stdout",
     "output_type": "stream",
     "text": [
      "['a', 'b', 'c']\n"
     ]
    }
   ],
   "source": [
    "print(str)"
   ]
  },
  {
   "cell_type": "code",
   "execution_count": 4,
   "id": "75286550",
   "metadata": {},
   "outputs": [
    {
     "data": {
      "text/plain": [
       "3"
      ]
     },
     "execution_count": 4,
     "metadata": {},
     "output_type": "execute_result"
    }
   ],
   "source": [
    "len(str)"
   ]
  },
  {
   "cell_type": "code",
   "execution_count": 5,
   "id": "3540c7b9",
   "metadata": {},
   "outputs": [
    {
     "ename": "TypeError",
     "evalue": "int() argument must be a string, a bytes-like object or a real number, not 'list'",
     "output_type": "error",
     "traceback": [
      "\u001b[1;31m---------------------------------------------------------------------------\u001b[0m",
      "\u001b[1;31mTypeError\u001b[0m                                 Traceback (most recent call last)",
      "Cell \u001b[1;32mIn[5], line 1\u001b[0m\n\u001b[1;32m----> 1\u001b[0m \u001b[38;5;28;43mint\u001b[39;49m\u001b[43m(\u001b[49m\u001b[38;5;28;43mstr\u001b[39;49m\u001b[43m)\u001b[49m\n",
      "\u001b[1;31mTypeError\u001b[0m: int() argument must be a string, a bytes-like object or a real number, not 'list'"
     ]
    }
   ],
   "source": [
    "int(str)"
   ]
  },
  {
   "cell_type": "code",
   "execution_count": null,
   "id": "51f1920c",
   "metadata": {},
   "outputs": [],
   "source": [
    "text = 234"
   ]
  },
  {
   "cell_type": "code",
   "execution_count": null,
   "id": "ec9e468d",
   "metadata": {},
   "outputs": [],
   "source": [
    "float(text)"
   ]
  },
  {
   "cell_type": "code",
   "execution_count": null,
   "id": "74fd49ea",
   "metadata": {},
   "outputs": [],
   "source": [
    "int(text)"
   ]
  },
  {
   "cell_type": "code",
   "execution_count": null,
   "id": "55893a74",
   "metadata": {},
   "outputs": [],
   "source": [
    "str(text)"
   ]
  },
  {
   "cell_type": "code",
   "execution_count": null,
   "id": "91c17707",
   "metadata": {},
   "outputs": [],
   "source": [
    "print(\"this is \\ \"normal\\\" text\")"
   ]
  },
  {
   "cell_type": "markdown",
   "id": "85f37c31",
   "metadata": {},
   "source": [
    "# Special caracters"
   ]
  },
  {
   "cell_type": "code",
   "execution_count": 1,
   "id": "c2999cf1",
   "metadata": {},
   "outputs": [
    {
     "name": "stdout",
     "output_type": "stream",
     "text": [
      "this is \\ normal\\ text\n"
     ]
    }
   ],
   "source": [
    "print(\"this is \\\\ normal\\\\ text\") # backslash"
   ]
  },
  {
   "cell_type": "code",
   "execution_count": 2,
   "id": "a40531a6",
   "metadata": {},
   "outputs": [
    {
     "name": "stdout",
     "output_type": "stream",
     "text": [
      "this is normal\" text\n"
     ]
    }
   ],
   "source": [
    "print(\"this is normal\\\" text\") # qoute"
   ]
  },
  {
   "cell_type": "code",
   "execution_count": 3,
   "id": "cc40d452",
   "metadata": {},
   "outputs": [
    {
     "name": "stdout",
     "output_type": "stream",
     "text": [
      "this is\t normal text\n"
     ]
    }
   ],
   "source": [
    "print(\"this is\\t normal text\") # tabspace"
   ]
  },
  {
   "cell_type": "code",
   "execution_count": 4,
   "id": "b8735750",
   "metadata": {},
   "outputs": [
    {
     "name": "stdout",
     "output_type": "stream",
     "text": [
      "this is normal\n",
      " text\n"
     ]
    }
   ],
   "source": [
    "print(\"this is normal\\n text\") # newline"
   ]
  },
  {
   "cell_type": "code",
   "execution_count": 5,
   "id": "06652d50",
   "metadata": {},
   "outputs": [
    {
     "name": "stdout",
     "output_type": "stream",
     "text": [
      "this is \r",
      "normal text\n"
     ]
    }
   ],
   "source": [
    "print(\"this is \\rnormal text\") #carriage return"
   ]
  },
  {
   "cell_type": "code",
   "execution_count": 6,
   "id": "f66d1ad4",
   "metadata": {},
   "outputs": [
    {
     "name": "stdout",
     "output_type": "stream",
     "text": [
      "this is\bnormal text\n"
     ]
    }
   ],
   "source": [
    "print(\"this is\\bnormal text\") # backspace"
   ]
  },
  {
   "cell_type": "markdown",
   "id": "f80b3abd",
   "metadata": {},
   "source": [
    "# Index"
   ]
  },
  {
   "cell_type": "code",
   "execution_count": null,
   "id": "b8c29d72",
   "metadata": {},
   "outputs": [],
   "source": [
    "mystring = \"hello\"\n",
    "mystring[4]"
   ]
  },
  {
   "cell_type": "code",
   "execution_count": null,
   "id": "1c7a3d21",
   "metadata": {},
   "outputs": [],
   "source": [
    "mystring[-1]"
   ]
  },
  {
   "cell_type": "code",
   "execution_count": null,
   "id": "c51f38bb",
   "metadata": {},
   "outputs": [],
   "source": [
    "mystring[-4]"
   ]
  },
  {
   "cell_type": "code",
   "execution_count": null,
   "id": "4dbb7feb",
   "metadata": {},
   "outputs": [],
   "source": [
    "mystring[2:4] # slicing"
   ]
  },
  {
   "cell_type": "code",
   "execution_count": null,
   "id": "b635bcf8",
   "metadata": {},
   "outputs": [],
   "source": [
    "mystring[-2:4]"
   ]
  },
  {
   "cell_type": "code",
   "execution_count": null,
   "id": "a64b109e",
   "metadata": {},
   "outputs": [],
   "source": [
    "mystring.index(\"h\")"
   ]
  },
  {
   "cell_type": "code",
   "execution_count": null,
   "id": "fe7777ab",
   "metadata": {},
   "outputs": [],
   "source": [
    "mystring[:4]"
   ]
  },
  {
   "cell_type": "code",
   "execution_count": null,
   "id": "5219ea5f",
   "metadata": {},
   "outputs": [],
   "source": [
    "mystring[0:]"
   ]
  },
  {
   "cell_type": "code",
   "execution_count": null,
   "id": "b2a0e537",
   "metadata": {},
   "outputs": [],
   "source": [
    "mystring[:]"
   ]
  },
  {
   "cell_type": "code",
   "execution_count": null,
   "id": "7c580534",
   "metadata": {},
   "outputs": [],
   "source": [
    "mystring[0:-2]"
   ]
  },
  {
   "cell_type": "code",
   "execution_count": null,
   "id": "214575db",
   "metadata": {},
   "outputs": [],
   "source": [
    "mystring[::1] #[start:stop:step]"
   ]
  },
  {
   "cell_type": "code",
   "execution_count": null,
   "id": "cdcd75b5",
   "metadata": {},
   "outputs": [],
   "source": [
    "mystring[::2]"
   ]
  },
  {
   "cell_type": "code",
   "execution_count": null,
   "id": "efa90483",
   "metadata": {},
   "outputs": [],
   "source": [
    "txt = \"amro\""
   ]
  },
  {
   "cell_type": "markdown",
   "id": "afcdb003",
   "metadata": {},
   "source": [
    " txt[::2]"
   ]
  },
  {
   "cell_type": "code",
   "execution_count": null,
   "id": "fe1e2edf",
   "metadata": {},
   "outputs": [],
   "source": [
    "txt[::2]"
   ]
  },
  {
   "cell_type": "markdown",
   "id": "9cb3b09c",
   "metadata": {},
   "source": [
    "# Operators"
   ]
  },
  {
   "cell_type": "code",
   "execution_count": null,
   "id": "5c4771f9",
   "metadata": {},
   "outputs": [],
   "source": [
    "txt1 = \"Hello my dear\\n\""
   ]
  },
  {
   "cell_type": "code",
   "execution_count": null,
   "id": "2baff136",
   "metadata": {},
   "outputs": [],
   "source": [
    "txt2 = \"friend\""
   ]
  },
  {
   "cell_type": "code",
   "execution_count": null,
   "id": "e4c99d5b",
   "metadata": {},
   "outputs": [],
   "source": [
    "print(txt1 +\" \"+ txt2) #concatenate 2 strings"
   ]
  },
  {
   "cell_type": "code",
   "execution_count": null,
   "id": "61d2e23c",
   "metadata": {},
   "outputs": [],
   "source": [
    "print(txt1*3) # multiply string"
   ]
  },
  {
   "cell_type": "code",
   "execution_count": null,
   "id": "ae1e1206",
   "metadata": {},
   "outputs": [],
   "source": [
    "print (\"10\" + \"5\")"
   ]
  },
  {
   "cell_type": "code",
   "execution_count": null,
   "id": "841c767a",
   "metadata": {},
   "outputs": [],
   "source": [
    "text[1]= \"f\" # return error because string is immutable , value cannot be changed"
   ]
  },
  {
   "cell_type": "markdown",
   "id": "1350f25d",
   "metadata": {},
   "source": [
    "# String functions"
   ]
  },
  {
   "cell_type": "code",
   "execution_count": null,
   "id": "604662a0",
   "metadata": {},
   "outputs": [],
   "source": [
    "txt.capitalize() # string methods"
   ]
  },
  {
   "cell_type": "code",
   "execution_count": null,
   "id": "8e3f09f0",
   "metadata": {},
   "outputs": [],
   "source": [
    "txt.casefold()"
   ]
  },
  {
   "cell_type": "code",
   "execution_count": null,
   "id": "9a346d4f",
   "metadata": {},
   "outputs": [],
   "source": [
    "txt.count(\"m\") # recurrance of m"
   ]
  },
  {
   "cell_type": "code",
   "execution_count": null,
   "id": "183f4d03",
   "metadata": {},
   "outputs": [],
   "source": [
    "txt.find(\"o\") #  index of o"
   ]
  },
  {
   "cell_type": "code",
   "execution_count": null,
   "id": "4f940142",
   "metadata": {},
   "outputs": [],
   "source": [
    "txt.islower()"
   ]
  },
  {
   "cell_type": "code",
   "execution_count": null,
   "id": "bfbdd380",
   "metadata": {},
   "outputs": [],
   "source": [
    "txt.isupper()"
   ]
  },
  {
   "cell_type": "code",
   "execution_count": null,
   "id": "7ad90f04",
   "metadata": {},
   "outputs": [],
   "source": [
    "txt.isnumeric()"
   ]
  },
  {
   "cell_type": "code",
   "execution_count": null,
   "id": "a20727c8",
   "metadata": {},
   "outputs": [],
   "source": [
    "txt.lower()"
   ]
  },
  {
   "cell_type": "code",
   "execution_count": null,
   "id": "ec387f9f",
   "metadata": {},
   "outputs": [],
   "source": [
    "txt.upper()"
   ]
  },
  {
   "cell_type": "code",
   "execution_count": null,
   "id": "f858e5e0",
   "metadata": {},
   "outputs": [],
   "source": [
    "txt.split()"
   ]
  },
  {
   "cell_type": "code",
   "execution_count": null,
   "id": "689fe0fe",
   "metadata": {},
   "outputs": [],
   "source": [
    "txt = \"Amro Elkhider\""
   ]
  },
  {
   "cell_type": "code",
   "execution_count": null,
   "id": "d34de97b",
   "metadata": {},
   "outputs": [],
   "source": [
    "txt.split()"
   ]
  },
  {
   "cell_type": "code",
   "execution_count": null,
   "id": "5be3071e",
   "metadata": {},
   "outputs": [],
   "source": [
    "txt.replace(\"m\", \"n\")"
   ]
  },
  {
   "cell_type": "markdown",
   "id": "a1d77b3c",
   "metadata": {},
   "source": [
    "# .format () fuction "
   ]
  },
  {
   "cell_type": "code",
   "execution_count": null,
   "id": "2818f256",
   "metadata": {},
   "outputs": [],
   "source": [
    "print(\"Amro is {} now\".format(33)) # format to combine string and text"
   ]
  },
  {
   "cell_type": "code",
   "execution_count": null,
   "id": "7938e5d2",
   "metadata": {},
   "outputs": [],
   "source": [
    "string = \"my salary will be {} in my next job\"\n",
    "salary = 60000\n",
    "print(string.format(salary))"
   ]
  },
  {
   "cell_type": "code",
   "execution_count": null,
   "id": "2a70826d",
   "metadata": {},
   "outputs": [],
   "source": [
    "str2 = \"I have {} cats, {} dogs and {} monkies\"\n",
    "cats = 5\n",
    "dogs = 2\n",
    "print(str2.format(cats, dogs, 2))"
   ]
  },
  {
   "cell_type": "code",
   "execution_count": null,
   "id": "ba883982",
   "metadata": {},
   "outputs": [],
   "source": [
    "http://localhost:8889/notebooks/Downloads/Advanced%20DA%20course/Numpy%20%26%20Pandas/Pandas-Copy1.ipynb#str3 = \"I have {2} cats, {0} dogs and {1} monkies\"\n",
    "cats = 5\n",
    "dogs = 2"
   ]
  },
  {
   "cell_type": "code",
   "execution_count": null,
   "id": "9714302c",
   "metadata": {},
   "outputs": [],
   "source": [
    "print(str3.format(dogs, 3, cats))"
   ]
  },
  {
   "cell_type": "code",
   "execution_count": null,
   "id": "d8631dec",
   "metadata": {},
   "outputs": [],
   "source": [
    "str4 = \"I have {a} cats, {b} dogs and {c} monkies\"\n",
    "cats = 5\n",
    "dogs = 2"
   ]
  },
  {
   "cell_type": "code",
   "execution_count": null,
   "id": "334f3044",
   "metadata": {},
   "outputs": [],
   "source": [
    "print(str4.format(a=cats, b= dogs, c=3))"
   ]
  },
  {
   "cell_type": "code",
   "execution_count": null,
   "id": "1dd08c72",
   "metadata": {},
   "outputs": [],
   "source": [
    "10/7"
   ]
  },
  {
   "cell_type": "code",
   "execution_count": null,
   "id": "a6f197bf",
   "metadata": {},
   "outputs": [],
   "source": [
    "print(\"value is {r:1.4f}\".format(r= 10/7))"
   ]
  },
  {
   "cell_type": "code",
   "execution_count": null,
   "id": "61bf0d44",
   "metadata": {},
   "outputs": [],
   "source": [
    "num = 10/7\n",
    "print(\"value is {r:1.4f}\".format(r= num))"
   ]
  },
  {
   "cell_type": "markdown",
   "id": "88e32fb6",
   "metadata": {},
   "source": [
    "# Placeholders"
   ]
  },
  {
   "cell_type": "code",
   "execution_count": null,
   "id": "80ab82e2",
   "metadata": {},
   "outputs": [],
   "source": [
    "print(\"This string has%s missing %s which is %d and %f\"%(\"some\", \"values\", 10, 3.54)) # %s, %d, %f placeholders"
   ]
  },
  {
   "cell_type": "markdown",
   "id": "e13e4b9d",
   "metadata": {},
   "source": [
    "# PEMDAS"
   ]
  },
  {
   "cell_type": "code",
   "execution_count": null,
   "id": "136dbd82",
   "metadata": {},
   "outputs": [],
   "source": [
    "(5+3*6.6/12)**2 # operators PEMDAS: Parentheses, Exponents, Multiplication and Division (from left to right), Addition and Subtraction (from left to right)"
   ]
  },
  {
   "cell_type": "markdown",
   "id": "3735d47d",
   "metadata": {},
   "source": [
    "# Boolean"
   ]
  },
  {
   "cell_type": "code",
   "execution_count": null,
   "id": "f4f601c4",
   "metadata": {},
   "outputs": [],
   "source": [
    "True # boolean"
   ]
  },
  {
   "cell_type": "code",
   "execution_count": null,
   "id": "3ba4aef1",
   "metadata": {},
   "outputs": [],
   "source": [
    "False"
   ]
  },
  {
   "cell_type": "code",
   "execution_count": null,
   "id": "11899706",
   "metadata": {},
   "outputs": [],
   "source": [
    "x = 4\n",
    "y = 16\n",
    "x **2 == y"
   ]
  },
  {
   "cell_type": "code",
   "execution_count": null,
   "id": "15fad8b9",
   "metadata": {},
   "outputs": [],
   "source": [
    "x != y"
   ]
  },
  {
   "cell_type": "markdown",
   "id": "9e872a87",
   "metadata": {},
   "source": [
    "# Assignement operators"
   ]
  },
  {
   "cell_type": "code",
   "execution_count": null,
   "id": "daf6d575",
   "metadata": {},
   "outputs": [],
   "source": [
    "r= 5.3       #assgnement operators == , !=, >, <, >=, <=\n",
    "pi = 3.14\n",
    "c = 2*r*pi\n",
    "print(c)"
   ]
  },
  {
   "cell_type": "code",
   "execution_count": null,
   "id": "a06f250c",
   "metadata": {},
   "outputs": [],
   "source": [
    "c > 15"
   ]
  },
  {
   "cell_type": "code",
   "execution_count": null,
   "id": "4f00b2ca",
   "metadata": {},
   "outputs": [],
   "source": [
    "3>4"
   ]
  },
  {
   "cell_type": "code",
   "execution_count": null,
   "id": "3dc2703f",
   "metadata": {},
   "outputs": [],
   "source": [
    "5 == 7"
   ]
  },
  {
   "cell_type": "markdown",
   "id": "da90cd45",
   "metadata": {},
   "source": [
    "# Logical operators"
   ]
  },
  {
   "cell_type": "code",
   "execution_count": null,
   "id": "0ba2d8b8",
   "metadata": {},
   "outputs": [],
   "source": [
    "a= 5        # logical operators and, or, not\n",
    "b = 3\n",
    "c= 7\n",
    "\n",
    "a > b and b > c"
   ]
  },
  {
   "cell_type": "code",
   "execution_count": null,
   "id": "c95a1745",
   "metadata": {},
   "outputs": [],
   "source": [
    "a >b or b>c"
   ]
  },
  {
   "cell_type": "code",
   "execution_count": null,
   "id": "f5107df9",
   "metadata": {},
   "outputs": [],
   "source": [
    "not(a>c)"
   ]
  },
  {
   "cell_type": "markdown",
   "id": "e7f17307",
   "metadata": {},
   "source": [
    "# Variables"
   ]
  },
  {
   "cell_type": "code",
   "execution_count": null,
   "id": "248e6dbf",
   "metadata": {},
   "outputs": [],
   "source": [
    "x = 2   # variables\n",
    "y = 3\n",
    "\n",
    "print(x,y)"
   ]
  },
  {
   "cell_type": "code",
   "execution_count": null,
   "id": "6f63dd88",
   "metadata": {},
   "outputs": [],
   "source": [
    "r = 5\n",
    "r = True\n",
    "print(r)"
   ]
  },
  {
   "cell_type": "code",
   "execution_count": null,
   "id": "45ecf999",
   "metadata": {},
   "outputs": [],
   "source": [
    "Name = \"Rania\"                      # correct syntax for variables\n",
    "age = 32                            # case sensitive\n",
    "Date_of_birth = \"28-09-1990\"        # alphanumeric and underscore  \n",
    "_JobTitle = \"Data Analyst\"\n",
    "COMPANY  = \"Unkown yet\""
   ]
  },
  {
   "cell_type": "code",
   "execution_count": null,
   "id": "3ade8aa9",
   "metadata": {},
   "outputs": [],
   "source": [
    "1Name = \"Rania\"                      # Incorrect syntax for variables , cannot start with number\n",
    "Date-of-birth = \"28-09-1990\"\n",
    "Job Title = \"Data Analyst\""
   ]
  },
  {
   "cell_type": "markdown",
   "id": "0998933e",
   "metadata": {},
   "source": [
    "# Help functions"
   ]
  },
  {
   "cell_type": "code",
   "execution_count": null,
   "id": "3c8bd25f",
   "metadata": {},
   "outputs": [],
   "source": [
    "help(round)         #help function"
   ]
  },
  {
   "cell_type": "code",
   "execution_count": null,
   "id": "5a627872",
   "metadata": {},
   "outputs": [],
   "source": [
    "round?"
   ]
  },
  {
   "cell_type": "markdown",
   "id": "e4f1b7ac",
   "metadata": {},
   "source": [
    "# If statement"
   ]
  },
  {
   "cell_type": "code",
   "execution_count": null,
   "id": "55f63daf",
   "metadata": {},
   "outputs": [],
   "source": [
    "x = 10                                  # simple if statement\n",
    "if x % 2 == 0:\n",
    "    print(\"x is an even number!\")"
   ]
  },
  {
   "cell_type": "code",
   "execution_count": null,
   "id": "eab5799a",
   "metadata": {},
   "outputs": [],
   "source": [
    "y = 15                                  # simple if/else statement\n",
    "if y % 2 == 0:\n",
    "    print(\"This is an even number!\")\n",
    "else:\n",
    "    print(\"This is an odd number\")"
   ]
  },
  {
   "cell_type": "code",
   "execution_count": 6,
   "id": "e6f7a79c",
   "metadata": {},
   "outputs": [
    {
     "name": "stdout",
     "output_type": "stream",
     "text": [
      "first number is greater than second number\n"
     ]
    }
   ],
   "source": [
    "a, b = 15, 12                         # if/elif/else statement\n",
    "if a == b:\n",
    "    print(\"Two are equal number\")\n",
    "elif a > b:\n",
    "    print(\"first number is greater than second number\")\n",
    "else:\n",
    "    print(\"Second number is greater than the first number\")"
   ]
  },
  {
   "cell_type": "markdown",
   "id": "0640daa8",
   "metadata": {},
   "source": [
    "# For loop"
   ]
  },
  {
   "cell_type": "code",
   "execution_count": 7,
   "id": "bdfc7818",
   "metadata": {},
   "outputs": [
    {
     "name": "stdout",
     "output_type": "stream",
     "text": [
      "The itreration number is 0\n",
      "The itreration number is 1\n",
      "The itreration number is 2\n",
      "The itreration number is 3\n",
      "The itreration number is 4\n"
     ]
    }
   ],
   "source": [
    "for i in range(0,5):\n",
    "    print(\"The itreration number is {}\".format(i))    # in loops we should consider the indentation (space before each line)"
   ]
  },
  {
   "cell_type": "markdown",
   "id": "f1334c53",
   "metadata": {},
   "source": [
    "# While loop"
   ]
  },
  {
   "cell_type": "code",
   "execution_count": 8,
   "id": "affeff27",
   "metadata": {},
   "outputs": [
    {
     "name": "stdout",
     "output_type": "stream",
     "text": [
      "The iteration number is 0 which is less than the target value 5\n",
      "The iteration number is 1 which is less than the target value 5\n",
      "The iteration number is 2 which is less than the target value 5\n",
      "The iteration number is 3 which is less than the target value 5\n",
      "The iteration number is 4 which is less than the target value 5\n"
     ]
    }
   ],
   "source": [
    "tar_val = 5\n",
    "iter_var = 0\n",
    "while iter_var < tar_val:\n",
    "    print(\"The iteration number is {} which is less than the target value {}\".format(iter_var, tar_val))\n",
    "    iter_var = iter_var + 1"
   ]
  },
  {
   "cell_type": "markdown",
   "id": "9ea2dd36",
   "metadata": {},
   "source": [
    "# Repetition – Nested Loops"
   ]
  },
  {
   "cell_type": "code",
   "execution_count": 9,
   "id": "a3f112b8",
   "metadata": {},
   "outputs": [
    {
     "name": "stdout",
     "output_type": "stream",
     "text": [
      "1 2 3 4 5 6 7 8 9 10 \n",
      "2 4 6 8 10 12 14 16 18 20 \n",
      "3 6 9 12 15 18 21 24 27 30 \n",
      "4 8 12 16 20 24 28 32 36 40 \n"
     ]
    }
   ],
   "source": [
    "for i in range(1,5):                 # outer loop\n",
    "    for j in range(1,11):            # inner loop iterates from 1:10\n",
    "        print(i * j, end = ' ')      # for each i, j itrates from 1:10\n",
    "    print()    "
   ]
  },
  {
   "cell_type": "markdown",
   "id": "23dd6d03",
   "metadata": {},
   "source": [
    "# Repetition – Break"
   ]
  },
  {
   "cell_type": "code",
   "execution_count": 10,
   "id": "e6260c0e",
   "metadata": {},
   "outputs": [
    {
     "name": "stdout",
     "output_type": "stream",
     "text": [
      "Iteraion variable 0 is less than taget value 5\n",
      "Iteraion variable 1 is less than taget value 5\n",
      "Iteraion variable 2 is less than taget value 5\n",
      "Condition met! breaking out the loop\n"
     ]
    }
   ],
   "source": [
    "tar_val = 5\n",
    "iter_var = 0\n",
    "while iter_var < tar_val:\n",
    "    print(\"Iteraion variable {} is less than taget value {}\".format(iter_var, tar_val))\n",
    "    if iter_var == 2:\n",
    "        print(\"Condition met! breaking out the loop\")\n",
    "        break;\n",
    "    iter_var = iter_var +1    "
   ]
  },
  {
   "cell_type": "markdown",
   "id": "7c5f1fad",
   "metadata": {},
   "source": [
    "# Repetition – Continue"
   ]
  },
  {
   "cell_type": "code",
   "execution_count": 11,
   "id": "a71e6bf7",
   "metadata": {},
   "outputs": [
    {
     "name": "stdout",
     "output_type": "stream",
     "text": [
      "Iteration variable 1 is less than the target value 5\n",
      "Iteration variable 3 is less than the target value 5\n",
      "Iteration variable 4 is less than the target value 5\n",
      "Iteration variable 5 is less than the target value 5\n"
     ]
    }
   ],
   "source": [
    "tar_val = 5\n",
    "iter_var = 0\n",
    "while iter_var < tar_val:\n",
    "    iter_var = iter_var +1\n",
    "    if iter_var == 2:\n",
    "        continue;            # skips 2\n",
    "    print(\"Iteration variable {} is less than the target value {}\".format(iter_var, tar_val))"
   ]
  },
  {
   "cell_type": "markdown",
   "id": "c5aec958",
   "metadata": {},
   "source": [
    "# Lists"
   ]
  },
  {
   "cell_type": "markdown",
   "id": "e4e4346d",
   "metadata": {},
   "source": [
    "ordered, changeable, allow duplicates, indexed, different datatypes"
   ]
  },
  {
   "cell_type": "code",
   "execution_count": 12,
   "id": "9c936f64",
   "metadata": {},
   "outputs": [
    {
     "name": "stdout",
     "output_type": "stream",
     "text": [
      "['Rania', 'Rayan', 'mazin', 'Dalia']\n"
     ]
    }
   ],
   "source": [
    "mylist = [\"Rania\",\"Rayan\",\"mazin\",\"Dalia\"]    # list is ordered,changeable, allow duplicate \n",
    "print(mylist)"
   ]
  },
  {
   "cell_type": "code",
   "execution_count": 13,
   "id": "363e7f2b",
   "metadata": {},
   "outputs": [
    {
     "data": {
      "text/plain": [
       "'mazin'"
      ]
     },
     "execution_count": 13,
     "metadata": {},
     "output_type": "execute_result"
    }
   ],
   "source": [
    "mylist[2]                # lists are indexed"
   ]
  },
  {
   "cell_type": "code",
   "execution_count": 14,
   "id": "af0acecb",
   "metadata": {},
   "outputs": [
    {
     "name": "stdout",
     "output_type": "stream",
     "text": [
      "['Rania', 'Rayan', 'mazin', 'Wala']\n"
     ]
    }
   ],
   "source": [
    "mylist[3]= \"Wala\"        # lists changeable\n",
    "print(mylist)"
   ]
  },
  {
   "cell_type": "code",
   "execution_count": 15,
   "id": "8243fd91",
   "metadata": {
    "scrolled": true
   },
   "outputs": [
    {
     "name": "stdout",
     "output_type": "stream",
     "text": [
      "['Rania', 'Rayan', 'Dalia', 'Noor', 'Amro', 'Wala']\n"
     ]
    }
   ],
   "source": [
    "mylist[2:3] = \"Dalia\", \"Noor\",\"Amro\"       # can change more than one item at a time\n",
    "print(mylist)"
   ]
  },
  {
   "cell_type": "code",
   "execution_count": 16,
   "id": "bd9e4983",
   "metadata": {},
   "outputs": [
    {
     "name": "stdout",
     "output_type": "stream",
     "text": [
      "5\n"
     ]
    }
   ],
   "source": [
    "print(mylist.index(\"Wala\"))"
   ]
  },
  {
   "cell_type": "code",
   "execution_count": 17,
   "id": "38927bc9",
   "metadata": {},
   "outputs": [
    {
     "name": "stdout",
     "output_type": "stream",
     "text": [
      "['Rania', 'Rayan', 'mazin', 'Dalia', 'Wala', 'Dalia']\n"
     ]
    }
   ],
   "source": [
    "mylist2 =['Rania', 'Rayan', 'mazin', 'Dalia', 'Wala', 'Dalia']   # lists allow duplicate\n",
    "print(mylist2)"
   ]
  },
  {
   "cell_type": "code",
   "execution_count": 18,
   "id": "46656eb8",
   "metadata": {},
   "outputs": [
    {
     "name": "stdout",
     "output_type": "stream",
     "text": [
      "['Noor', 3, True]\n"
     ]
    }
   ],
   "source": [
    "mylist3 = [\"Noor\", 3, True]             # lists may contain different datatypes\n",
    "print(mylist3)"
   ]
  },
  {
   "cell_type": "code",
   "execution_count": 19,
   "id": "8833e546",
   "metadata": {},
   "outputs": [
    {
     "name": "stdout",
     "output_type": "stream",
     "text": [
      "6\n"
     ]
    }
   ],
   "source": [
    "print(len(mylist2))        # list length"
   ]
  },
  {
   "cell_type": "code",
   "execution_count": 20,
   "id": "f95c3d95",
   "metadata": {},
   "outputs": [
    {
     "name": "stdout",
     "output_type": "stream",
     "text": [
      "<class 'list'>\n"
     ]
    }
   ],
   "source": [
    "print(type(mylist2))     # list type"
   ]
  },
  {
   "cell_type": "code",
   "execution_count": 21,
   "id": "26753d77",
   "metadata": {},
   "outputs": [
    {
     "name": "stdout",
     "output_type": "stream",
     "text": [
      "Yes, Mazin is there.\n"
     ]
    }
   ],
   "source": [
    "if \"mazin\" in mylist2:\n",
    "    print(\"Yes, Mazin is there.\")      #check if item exist"
   ]
  },
  {
   "cell_type": "markdown",
   "id": "af0caa50",
   "metadata": {},
   "source": [
    "# List methods"
   ]
  },
  {
   "cell_type": "code",
   "execution_count": 22,
   "id": "24d82c46",
   "metadata": {},
   "outputs": [
    {
     "name": "stdout",
     "output_type": "stream",
     "text": [
      "['Rania', 'Rayan', 'Mohamed', 'mazin', 'Dalia', 'Wala', 'Dalia']\n"
     ]
    }
   ],
   "source": [
    "mylist2.insert(2,\"Mohamed\")          #insert method\n",
    "print(mylist2)"
   ]
  },
  {
   "cell_type": "code",
   "execution_count": 23,
   "id": "c8e7df38",
   "metadata": {},
   "outputs": [
    {
     "name": "stdout",
     "output_type": "stream",
     "text": [
      "['Rania', 'Rayan', 'Mohamed', 'mazin', 'Dalia', 'Wala', 'Dalia', 'Noor']\n"
     ]
    }
   ],
   "source": [
    "mylist2.append(\"Noor\")       # append method\n",
    "print(mylist2)"
   ]
  },
  {
   "cell_type": "code",
   "execution_count": 24,
   "id": "b81630e3",
   "metadata": {},
   "outputs": [
    {
     "name": "stdout",
     "output_type": "stream",
     "text": [
      "['Rania', 'Rayan', 'Mohamed', 'mazin', 'Dalia', 'Wala', 'Dalia', 'Noor', 'Noor', 3, True]\n"
     ]
    }
   ],
   "source": [
    "mylist2.extend(mylist3)         # extend can be used to add any iterable object to the list (list, tuple, dict)\n",
    "print(mylist2)"
   ]
  },
  {
   "cell_type": "code",
   "execution_count": 25,
   "id": "f699e775",
   "metadata": {},
   "outputs": [
    {
     "name": "stdout",
     "output_type": "stream",
     "text": [
      "['Rania', 'Rayan', 'Mohamed', 'mazin', 'Dalia', 'Wala', 'Dalia', 'Noor', 3, True]\n"
     ]
    }
   ],
   "source": [
    "mylist2.remove(\"Noor\")     # remove metod, in case of duplicated items, it removes the first one\n",
    "print(mylist2)"
   ]
  },
  {
   "cell_type": "code",
   "execution_count": 26,
   "id": "9fd08266",
   "metadata": {},
   "outputs": [
    {
     "name": "stdout",
     "output_type": "stream",
     "text": [
      "['Rania', 'Rayan', 'Mohamed', 'mazin', 'Dalia', 'Wala', 'Dalia', 'Noor', True]\n"
     ]
    }
   ],
   "source": [
    "mylist2.pop(8)          # pop method removes specified indexed item\n",
    "print(mylist2)"
   ]
  },
  {
   "cell_type": "code",
   "execution_count": 27,
   "id": "94615876",
   "metadata": {},
   "outputs": [
    {
     "name": "stdout",
     "output_type": "stream",
     "text": [
      "['Rania', 'Rayan', 'Mohamed', 'mazin', 'Dalia', 'Wala', 'Dalia', 'Noor']\n"
     ]
    }
   ],
   "source": [
    "mylist2.pop()            # if index not specifed, it removes the last item\n",
    "print(mylist2)"
   ]
  },
  {
   "cell_type": "code",
   "execution_count": 28,
   "id": "1ad2aab0",
   "metadata": {},
   "outputs": [
    {
     "name": "stdout",
     "output_type": "stream",
     "text": [
      "['Dalia', 'Dalia', 'Mohamed', 'Noor', 'Rania', 'Rayan', 'Wala', 'mazin']\n"
     ]
    }
   ],
   "source": [
    "mylist2.sort()    # sort method sorts the list items alphabatically if text. it sorts with capital letters first\n",
    "print(mylist2)"
   ]
  },
  {
   "cell_type": "code",
   "execution_count": 29,
   "id": "5f3ca36b",
   "metadata": {},
   "outputs": [
    {
     "name": "stdout",
     "output_type": "stream",
     "text": [
      "7\n"
     ]
    }
   ],
   "source": [
    "print(mylist2.index(\"mazin\"))\n"
   ]
  },
  {
   "cell_type": "code",
   "execution_count": 30,
   "id": "df19c3da",
   "metadata": {},
   "outputs": [
    {
     "name": "stdout",
     "output_type": "stream",
     "text": [
      "['Dalia', 'Dalia', 'Mohamed', 'Noor', 'Rania', 'Rayan', 'Wala', 'Mazin']\n"
     ]
    }
   ],
   "source": [
    "mylist2[7] = \"Mazin\"   # it sorts with capital letters first then small letters\n",
    "print(mylist2)"
   ]
  },
  {
   "cell_type": "code",
   "execution_count": 31,
   "id": "df314653",
   "metadata": {},
   "outputs": [
    {
     "name": "stdout",
     "output_type": "stream",
     "text": [
      "['Dalia', 'Dalia', 'Mazin', 'Mohamed', 'Noor', 'Rania', 'Rayan', 'Wala']\n"
     ]
    }
   ],
   "source": [
    "mylist2.sort()\n",
    "print(mylist2)"
   ]
  },
  {
   "cell_type": "code",
   "execution_count": 32,
   "id": "1703e8b0",
   "metadata": {},
   "outputs": [
    {
     "name": "stdout",
     "output_type": "stream",
     "text": [
      "[2, 3, 10, 14, 22, 59]\n"
     ]
    }
   ],
   "source": [
    "mylist4 = [3, 14, 2, 59, 22, 10] # sort ascending if numbers\n",
    "mylist4.sort()\n",
    "print(mylist4)"
   ]
  },
  {
   "cell_type": "code",
   "execution_count": 33,
   "id": "404d7056",
   "metadata": {},
   "outputs": [
    {
     "name": "stdout",
     "output_type": "stream",
     "text": [
      "['Wala', 'Rayan', 'Rania', 'Noor', 'Mohamed', 'Mazin', 'Dalia', 'Dalia']\n"
     ]
    }
   ],
   "source": [
    "mylist2.reverse()  # Reverse the sort\n",
    "print(mylist2)"
   ]
  },
  {
   "cell_type": "code",
   "execution_count": 34,
   "id": "ffd1ab2d",
   "metadata": {},
   "outputs": [
    {
     "name": "stdout",
     "output_type": "stream",
     "text": [
      "['Wala', 'Rayan', 'Rania', 'Noor', 'Mohamed', 'Mazin', 'Dalia', 'Dalia', 2, 3, 10, 14, 22, 59]\n"
     ]
    }
   ],
   "source": [
    "mylist5 = mylist2 + mylist4   # join using + operator.. needs to create a new list\n",
    "print(mylist5)"
   ]
  },
  {
   "cell_type": "code",
   "execution_count": 35,
   "id": "2ca23b99",
   "metadata": {},
   "outputs": [
    {
     "name": "stdout",
     "output_type": "stream",
     "text": [
      "Help on built-in function append:\n",
      "\n",
      "append(object, /) method of builtins.list instance\n",
      "    Append object to the end of the list.\n",
      "\n"
     ]
    }
   ],
   "source": [
    "help(mylist5.append) # help with methods"
   ]
  },
  {
   "cell_type": "code",
   "execution_count": 36,
   "id": "54f924bd",
   "metadata": {},
   "outputs": [
    {
     "name": "stdout",
     "output_type": "stream",
     "text": [
      "Wala\n",
      "Rayan\n",
      "Rania\n",
      "Noor\n",
      "Mohamed\n",
      "Mazin\n",
      "Dalia\n",
      "Dalia\n"
     ]
    }
   ],
   "source": [
    "for element in mylist2: # loops in list\n",
    "    print(element)"
   ]
  },
  {
   "cell_type": "code",
   "execution_count": 37,
   "id": "120f0694",
   "metadata": {},
   "outputs": [
    {
     "name": "stdout",
     "output_type": "stream",
     "text": [
      "0 Wala\n",
      "1 Rayan\n",
      "2 Rania\n",
      "3 Noor\n",
      "4 Mohamed\n",
      "5 Mazin\n",
      "6 Dalia\n",
      "7 Dalia\n"
     ]
    }
   ],
   "source": [
    "for element in range(len(mylist2)): # using range and len functions to loop lists\n",
    "    print(element, mylist2[element])"
   ]
  },
  {
   "cell_type": "code",
   "execution_count": 38,
   "id": "67d51c45",
   "metadata": {},
   "outputs": [
    {
     "name": "stdout",
     "output_type": "stream",
     "text": [
      "Dalia\n"
     ]
    }
   ],
   "source": [
    "print(mylist2[element])   #?????????"
   ]
  },
  {
   "cell_type": "code",
   "execution_count": 39,
   "id": "6593cdc2",
   "metadata": {},
   "outputs": [
    {
     "name": "stdout",
     "output_type": "stream",
     "text": [
      "[1000, 250, 340]\n"
     ]
    }
   ],
   "source": [
    "mylist6 = [10, 1000, 250, 100, 17, 75, 340] \n",
    "\n",
    "newlist_conventional = []       # conventional method to create a new list form another existing list\n",
    "\n",
    "for i in mylist6:\n",
    "    if i > 100:\n",
    "        newlist_conventional.append(i)\n",
    "print(newlist_conventional)   "
   ]
  },
  {
   "cell_type": "code",
   "execution_count": 40,
   "id": "30c4ce2b",
   "metadata": {},
   "outputs": [
    {
     "name": "stdout",
     "output_type": "stream",
     "text": [
      "[1000, 250, 340]\n"
     ]
    }
   ],
   "source": [
    "#newlist_comperhension = []  # comperhension method to create a new list form another existing list\n",
    "\n",
    "newlist_comperhension = [i for i in mylist6 if i > 100]\n",
    "print(newlist_comperhension)"
   ]
  },
  {
   "cell_type": "code",
   "execution_count": 41,
   "id": "283b0974",
   "metadata": {},
   "outputs": [
    {
     "name": "stdout",
     "output_type": "stream",
     "text": [
      "[10, 17, 75]\n"
     ]
    }
   ],
   "source": [
    "newlist2_comperhension = [i for i in mylist6 if i < 100]\n",
    "print(newlist2_comperhension)"
   ]
  },
  {
   "cell_type": "code",
   "execution_count": 42,
   "id": "6673789a",
   "metadata": {},
   "outputs": [
    {
     "ename": "NameError",
     "evalue": "name 'newlist2_conventional' is not defined",
     "output_type": "error",
     "traceback": [
      "\u001b[1;31m---------------------------------------------------------------------------\u001b[0m",
      "\u001b[1;31mNameError\u001b[0m                                 Traceback (most recent call last)",
      "Cell \u001b[1;32mIn[42], line 3\u001b[0m\n\u001b[0;32m      1\u001b[0m \u001b[38;5;28;01mfor\u001b[39;00m i \u001b[38;5;129;01min\u001b[39;00m mylist6:                        \u001b[38;5;66;03m# new list name must be defind first before executing the code\u001b[39;00m\n\u001b[0;32m      2\u001b[0m     \u001b[38;5;28;01mif\u001b[39;00m i \u001b[38;5;241m>\u001b[39m \u001b[38;5;241m100\u001b[39m:\n\u001b[1;32m----> 3\u001b[0m         \u001b[43mnewlist2_conventional\u001b[49m\u001b[38;5;241m.\u001b[39mappend(i)\n\u001b[0;32m      4\u001b[0m \u001b[38;5;28mprint\u001b[39m(newlist2_conventional)\n",
      "\u001b[1;31mNameError\u001b[0m: name 'newlist2_conventional' is not defined"
     ]
    }
   ],
   "source": [
    "for i in mylist6:                        # new list name must be defind first before executing the code\n",
    "    if i > 100:\n",
    "        newlist2_conventional.append(i)\n",
    "print(newlist2_conventional)  "
   ]
  },
  {
   "cell_type": "code",
   "execution_count": null,
   "id": "da12be8d",
   "metadata": {},
   "outputs": [],
   "source": [
    "newlist2 = [i for i in mylist2 if \"r\" in i]\n",
    "print(newlist2)"
   ]
  },
  {
   "cell_type": "code",
   "execution_count": null,
   "id": "94e6e8a0",
   "metadata": {},
   "outputs": [],
   "source": [
    "newlist2 = [i for i in mylist2 if \"R\" in i]\n",
    "print(newlist2)"
   ]
  },
  {
   "cell_type": "code",
   "execution_count": null,
   "id": "3cac98bb",
   "metadata": {},
   "outputs": [],
   "source": [
    "newlist = [i for i in range(10)] # no condition\n",
    "print(newlist)"
   ]
  },
  {
   "cell_type": "code",
   "execution_count": null,
   "id": "295d5160",
   "metadata": {},
   "outputs": [],
   "source": [
    "newlist = [i for i in range(10) if i<6] # with condition\n",
    "print(newlist)"
   ]
  },
  {
   "cell_type": "code",
   "execution_count": null,
   "id": "d45d9d42",
   "metadata": {},
   "outputs": [],
   "source": [
    "newlist3 = [i.upper() for i in mylist2]\n",
    "print(newlist3)"
   ]
  },
  {
   "cell_type": "code",
   "execution_count": null,
   "id": "d479113c",
   "metadata": {},
   "outputs": [],
   "source": [
    "newlist4 = [i**3 for i in range(10)]\n",
    "print(newlist4)"
   ]
  },
  {
   "cell_type": "code",
   "execution_count": null,
   "id": "644eb9b0",
   "metadata": {},
   "outputs": [],
   "source": [
    "newlist4 = [i**3 for i in range(10) if i<5]\n",
    "print(newlist4)"
   ]
  },
  {
   "cell_type": "code",
   "execution_count": null,
   "id": "56bcde26",
   "metadata": {},
   "outputs": [],
   "source": [
    "mylist_nested = [1, 2, 4, [12, True, \"q\"], 5, 7] # nested lists\n",
    "\n",
    "sub_list= mylist_nested[3]\n",
    "element= mylist_nested[3][1]\n",
    "print(mylist_nested)\n",
    "print(sub_list)\n",
    "print(element)"
   ]
  },
  {
   "cell_type": "code",
   "execution_count": null,
   "id": "540d10cf",
   "metadata": {},
   "outputs": [],
   "source": [
    "matrix = [[1,2,3],\n",
    "          [4,5,6],\n",
    "         [7,8,9]]\n",
    "rows = len(matrix)\n",
    "col = len(matrix[0])\n",
    "\n",
    "for i in range(0, rows):\n",
    "    print(matrix[i])\n",
    "print(\"Elemnet in row 2 and col 3: \", matrix[1][2])\n"
   ]
  },
  {
   "cell_type": "markdown",
   "id": "8515629c",
   "metadata": {},
   "source": [
    "# Dictionaries"
   ]
  },
  {
   "cell_type": "markdown",
   "id": "b19be8ad",
   "metadata": {},
   "source": [
    "ordered, changeable, no duplicates, indexed, different datatypes"
   ]
  },
  {
   "cell_type": "code",
   "execution_count": null,
   "id": "df2715cd",
   "metadata": {},
   "outputs": [],
   "source": [
    "mydict = {\"Name\":\"Noor\",\n",
    "          \"Age\":3,\n",
    "          \"Nursery\": \"Honey Pot\"}\n",
    "print(mydict)"
   ]
  },
  {
   "cell_type": "code",
   "execution_count": null,
   "id": "0b3f1448",
   "metadata": {},
   "outputs": [],
   "source": [
    "for i in mydict:\n",
    "    print(i)"
   ]
  },
  {
   "cell_type": "code",
   "execution_count": null,
   "id": "b5d1e74d",
   "metadata": {},
   "outputs": [],
   "source": [
    "print(mydict[\"Name\"])   # dictionaries are changeable"
   ]
  },
  {
   "cell_type": "code",
   "execution_count": null,
   "id": "bf7c7fc9",
   "metadata": {},
   "outputs": [],
   "source": [
    "mydict[\"Age\"] = 3.9\n",
    "print(mydict)"
   ]
  },
  {
   "cell_type": "code",
   "execution_count": null,
   "id": "d0dc6bb3",
   "metadata": {},
   "outputs": [],
   "source": [
    "print(len(mydict))"
   ]
  },
  {
   "cell_type": "code",
   "execution_count": null,
   "id": "8caa867e",
   "metadata": {},
   "outputs": [],
   "source": [
    "print(type(mydict))"
   ]
  },
  {
   "cell_type": "code",
   "execution_count": null,
   "id": "93aad9ed",
   "metadata": {},
   "outputs": [],
   "source": [
    "mydict2 = {1:{\"a\":2, \"b\":3, \"c\":1},   # Dictionaries can be nested\n",
    "           2:{\"r\":15, \"s\":14,\"t\":12}}\n",
    "\n",
    "print(mydict2[1])\n",
    "print(mydict2[2])"
   ]
  },
  {
   "cell_type": "code",
   "execution_count": null,
   "id": "7393ac72",
   "metadata": {},
   "outputs": [],
   "source": [
    "mylist_dict = [{\"a\":2, \"b\":3, \"c\":1},   # list of dictionaries\n",
    "           {\"r\":15, \"s\":14,\"t\":12}]\n",
    "print(mylist_dict)"
   ]
  },
  {
   "cell_type": "code",
   "execution_count": null,
   "id": "c34a3eb5",
   "metadata": {},
   "outputs": [],
   "source": [
    "print(mylist_dict[1])"
   ]
  },
  {
   "cell_type": "code",
   "execution_count": null,
   "id": "562d8c29",
   "metadata": {},
   "outputs": [],
   "source": [
    "print(mylist_dict[0][\"a\"])"
   ]
  },
  {
   "cell_type": "markdown",
   "id": "637623d7",
   "metadata": {},
   "source": [
    "# Dictionary methods"
   ]
  },
  {
   "cell_type": "code",
   "execution_count": null,
   "id": "1ddeab72",
   "metadata": {},
   "outputs": [],
   "source": [
    "print(mydict.keys()) # keys() method return all dict keys"
   ]
  },
  {
   "cell_type": "code",
   "execution_count": null,
   "id": "b91f6c57",
   "metadata": {},
   "outputs": [],
   "source": [
    "print(mydict.values()) # values() methods return all dict values"
   ]
  },
  {
   "cell_type": "code",
   "execution_count": null,
   "id": "9d1fa943",
   "metadata": {},
   "outputs": [],
   "source": [
    "print(mydict.items()) # items() methods return all dict items as tuples"
   ]
  },
  {
   "cell_type": "code",
   "execution_count": null,
   "id": "7cb1171a",
   "metadata": {},
   "outputs": [],
   "source": [
    "if \"Age\" in mydict:          # check if key exists in the dict using in keyword\n",
    "    print(\"yes, age exists\")"
   ]
  },
  {
   "cell_type": "code",
   "execution_count": null,
   "id": "fc88a625",
   "metadata": {},
   "outputs": [],
   "source": [
    "mydict.update({\"Nursery\" : \"the HoneyPot\"})               # update() method will update existing item  \n",
    "mydict.update({\"Gender\" : \"Female\" , \"DoB\":\"12-09-2019\"}) # or ad it if not exist\n",
    "print(mydict)"
   ]
  },
  {
   "cell_type": "code",
   "execution_count": null,
   "id": "11f53d80",
   "metadata": {},
   "outputs": [],
   "source": [
    "mydict.pop(\"Nursery\")    # pop() removed the specified key\n",
    "print(mydict)"
   ]
  },
  {
   "cell_type": "code",
   "execution_count": null,
   "id": "204e06db",
   "metadata": {},
   "outputs": [],
   "source": [
    "del mydict[\"Gender\"]   # del keyword will delete specified item\n",
    "print(mydict)"
   ]
  },
  {
   "cell_type": "code",
   "execution_count": null,
   "id": "25e29b30",
   "metadata": {},
   "outputs": [],
   "source": [
    "del mydict2     # can aslo delete the whole dectionary"
   ]
  },
  {
   "cell_type": "code",
   "execution_count": null,
   "id": "dc38e619",
   "metadata": {},
   "outputs": [],
   "source": [
    "print(mydict2)"
   ]
  },
  {
   "cell_type": "code",
   "execution_count": null,
   "id": "f795bb8f",
   "metadata": {},
   "outputs": [],
   "source": [
    "mydict.clear()   # clear() empty the dictionary, delete all items\n",
    "print(mydict)"
   ]
  },
  {
   "cell_type": "markdown",
   "id": "1bcee4e7",
   "metadata": {},
   "source": [
    "# Dictionary loops"
   ]
  },
  {
   "cell_type": "code",
   "execution_count": null,
   "id": "2fda57a4",
   "metadata": {},
   "outputs": [],
   "source": [
    "mydict = {\"Name\": \"Noor\", \"Age\": 3, \"Gender\": \"Female\"}\n",
    "for item in mydict:                    # by defult the loop will return the keys\n",
    "    print(item)"
   ]
  },
  {
   "cell_type": "code",
   "execution_count": null,
   "id": "a5b38826",
   "metadata": {},
   "outputs": [],
   "source": [
    "for item in mydict:                 # using these methods to return the values\n",
    "    print(mydict[item])"
   ]
  },
  {
   "cell_type": "code",
   "execution_count": null,
   "id": "c2194dd5",
   "metadata": {},
   "outputs": [],
   "source": [
    "for item in mydict.values():      # using these methods to return the values\n",
    "    print(item)"
   ]
  },
  {
   "cell_type": "code",
   "execution_count": null,
   "id": "b7b4a2a3",
   "metadata": {},
   "outputs": [],
   "source": [
    "for keys, values in mydict.items():\n",
    "    print(keys,values)"
   ]
  },
  {
   "cell_type": "markdown",
   "id": "111aa6a6",
   "metadata": {},
   "source": [
    "# Tuples"
   ]
  },
  {
   "cell_type": "markdown",
   "id": "7e84376b",
   "metadata": {},
   "source": [
    "ordered, unchangebale, allow duplicates, indexed, allow different datatypes"
   ]
  },
  {
   "cell_type": "code",
   "execution_count": null,
   "id": "0ece59ca",
   "metadata": {},
   "outputs": [],
   "source": [
    "mytuple= (\"Tesla\", \"BMW\", \"Hondai\")  # tuples are ordered, unchangeabble, allow duplicates, allow different datatypes\n",
    "print(mytuple)"
   ]
  },
  {
   "cell_type": "code",
   "execution_count": null,
   "id": "88e2e472",
   "metadata": {},
   "outputs": [],
   "source": [
    "mytuple= (\"Tesla\", \"BMW\", \"Hondai\", \"Telsa\")        # tuples allow duplicates\n",
    "print(mytuple)"
   ]
  },
  {
   "cell_type": "code",
   "execution_count": null,
   "id": "ef6caa63",
   "metadata": {},
   "outputs": [],
   "source": [
    "mytuple= (\"Tesla\", \"BMW\", \"Hondai\", \"Telsa\", True, 300) # tuples allow different datatypes\n",
    "print(mytuple)"
   ]
  },
  {
   "cell_type": "code",
   "execution_count": null,
   "id": "f8104f97",
   "metadata": {},
   "outputs": [],
   "source": [
    "print(mytuple[2])          # tuples indexing and sclicing same as lists\n",
    "print(mytuple[-2])\n",
    "print(mytuple[1:4])"
   ]
  },
  {
   "cell_type": "code",
   "execution_count": null,
   "id": "37a7f72e",
   "metadata": {},
   "outputs": [],
   "source": [
    "mylist = list(mytuple) # tuples are not changeable, to change an item, convert tuple to list, make the change\n",
    "                       #  and reconvert to tuple "
   ]
  },
  {
   "cell_type": "code",
   "execution_count": null,
   "id": "be9fb4ee",
   "metadata": {},
   "outputs": [],
   "source": [
    "mylist[-1] = \"Toyota\"\n",
    "print(mylist)"
   ]
  },
  {
   "cell_type": "code",
   "execution_count": null,
   "id": "eda5c235",
   "metadata": {},
   "outputs": [],
   "source": [
    "mytuple = tuple(mylist)\n",
    "print(mytuple)"
   ]
  },
  {
   "cell_type": "code",
   "execution_count": null,
   "id": "3bce8c06",
   "metadata": {},
   "outputs": [],
   "source": [
    "mytup = (\"a\", 3, True)\n",
    "print(mytup)"
   ]
  },
  {
   "cell_type": "markdown",
   "id": "b4571134",
   "metadata": {},
   "source": [
    "# Tuple Methods"
   ]
  },
  {
   "cell_type": "code",
   "execution_count": null,
   "id": "0e7bc8c7",
   "metadata": {},
   "outputs": [],
   "source": [
    "print(mytuple.index(\"Tesla\")) # index method"
   ]
  },
  {
   "cell_type": "code",
   "execution_count": null,
   "id": "8efd531d",
   "metadata": {},
   "outputs": [],
   "source": [
    "print(mytuple.count(\"BMW\")) # count method returns no of times value occurs "
   ]
  },
  {
   "cell_type": "code",
   "execution_count": null,
   "id": "7648990b",
   "metadata": {},
   "outputs": [],
   "source": [
    "for item in mytuple: #for loop\n",
    "    print(item)"
   ]
  },
  {
   "cell_type": "code",
   "execution_count": null,
   "id": "e55f5b85",
   "metadata": {},
   "outputs": [],
   "source": [
    "for item in range(len(mytuple)): # for loop\n",
    "    print(mytuple[item])\n"
   ]
  },
  {
   "cell_type": "markdown",
   "id": "d5c94a80",
   "metadata": {},
   "source": [
    "# Tuples packing & unpacking"
   ]
  },
  {
   "cell_type": "code",
   "execution_count": null,
   "id": "a50690af",
   "metadata": {},
   "outputs": [],
   "source": [
    "mytuple2 = (\"Rania\", \"Noor\", \"Amro\")  # packing means assign values to tuple\n",
    "name1, name2, name3 = mytuple2  # unpacking means extract vaules bacn into variables\n",
    "print(name1)\n",
    "print(name2)\n",
    "print(name3)"
   ]
  },
  {
   "cell_type": "markdown",
   "id": "ab713a57",
   "metadata": {},
   "source": [
    "# Sets"
   ]
  },
  {
   "cell_type": "markdown",
   "id": "30491356",
   "metadata": {},
   "source": [
    "unorderd, unchangeable, no duplicates, no index, can be different datatypes"
   ]
  },
  {
   "cell_type": "code",
   "execution_count": null,
   "id": "f4529b74",
   "metadata": {},
   "outputs": [],
   "source": [
    "myset = {\"Apple\", 20, True}\n",
    "print(myset)\n",
    "print(len(myset))\n",
    "print(type(myset))"
   ]
  },
  {
   "cell_type": "code",
   "execution_count": null,
   "id": "0802cf5f",
   "metadata": {},
   "outputs": [],
   "source": [
    "print(myset[1:2])  # do not allow slicing since no indexing"
   ]
  },
  {
   "cell_type": "code",
   "execution_count": null,
   "id": "1da3ee12",
   "metadata": {},
   "outputs": [],
   "source": [
    "for item in myset:  # loops work similar to lists and tuples. not ordered so result could come in any order\n",
    "    print(item)"
   ]
  },
  {
   "cell_type": "markdown",
   "id": "9e2edf4f",
   "metadata": {},
   "source": [
    "# Set methods"
   ]
  },
  {
   "cell_type": "code",
   "execution_count": null,
   "id": "13a79040",
   "metadata": {},
   "outputs": [],
   "source": [
    "myset.add(\"Orange\") # Add method\n",
    "print(myset)"
   ]
  },
  {
   "cell_type": "code",
   "execution_count": null,
   "id": "b310f2ab",
   "metadata": {},
   "outputs": [],
   "source": [
    "myset.pop() # pop method removes random value\n",
    "print(myset)"
   ]
  },
  {
   "cell_type": "code",
   "execution_count": null,
   "id": "e3af533c",
   "metadata": {},
   "outputs": [],
   "source": [
    "myset1 = {\"a\", \"b\", \"c\"}\n",
    "myset2 = {\"f\", \"a\", \"b\", \"g\"}\n",
    "\n",
    "myset3 = myset1.intersection(myset2)   # intersection method returns common values in 2 methods\n",
    "myset4 = myset1.union(myset2)        # union method returns all values in both methods\n",
    "\n",
    "print(myset3)\n",
    "print(myset4)"
   ]
  },
  {
   "cell_type": "code",
   "execution_count": null,
   "id": "51f33084",
   "metadata": {},
   "outputs": [],
   "source": [
    "print(myset1.issubset(myset4))   # issubset method returns true if first set is sub from second set"
   ]
  },
  {
   "cell_type": "code",
   "execution_count": null,
   "id": "132678d6",
   "metadata": {},
   "outputs": [],
   "source": [
    "print(myset1.issubset(myset2))"
   ]
  },
  {
   "cell_type": "code",
   "execution_count": null,
   "id": "6fdea090",
   "metadata": {},
   "outputs": [],
   "source": [
    "print(myset4.issuperset(myset1)) # issuperset returns if the first set contains the second set"
   ]
  },
  {
   "cell_type": "code",
   "execution_count": null,
   "id": "5f628f01",
   "metadata": {},
   "outputs": [],
   "source": [
    "myset2.update(myset1)  # update method updates the the first set with values of the second set\n",
    "print(myset2)"
   ]
  },
  {
   "cell_type": "code",
   "execution_count": null,
   "id": "926b9615",
   "metadata": {},
   "outputs": [],
   "source": [
    "myset1.clear()  # clear mthod deletes all vaules in the set\n",
    "print(myset1)"
   ]
  },
  {
   "cell_type": "markdown",
   "id": "54a68fae",
   "metadata": {},
   "source": [
    "# Libraries"
   ]
  },
  {
   "cell_type": "code",
   "execution_count": null,
   "id": "91f74c22",
   "metadata": {},
   "outputs": [],
   "source": [
    "import numpy as np\n",
    "import pandas as pd\n",
    "import matplotlib.pyplot as plt\n",
    "import seaborn as sns\n",
    "import math\n",
    "import scipy"
   ]
  },
  {
   "cell_type": "code",
   "execution_count": null,
   "id": "c5e08795",
   "metadata": {},
   "outputs": [],
   "source": [
    "!pip install pyodbc       # installing new python libraries with pip install\n",
    "import pyodbc\n",
    "import pandas as pd"
   ]
  },
  {
   "cell_type": "markdown",
   "id": "6ec038a7",
   "metadata": {},
   "source": [
    "# Numpy"
   ]
  },
  {
   "cell_type": "code",
   "execution_count": null,
   "id": "e5859deb",
   "metadata": {},
   "outputs": [],
   "source": [
    "import numpy as np"
   ]
  },
  {
   "cell_type": "code",
   "execution_count": null,
   "id": "af2f5a30",
   "metadata": {},
   "outputs": [],
   "source": [
    "arr = np.array([1,2,3,4])\n",
    "print(arr)"
   ]
  },
  {
   "cell_type": "code",
   "execution_count": null,
   "id": "1054dd1b",
   "metadata": {},
   "outputs": [],
   "source": [
    "arr = np.array((1,2,3,4))          # you can create numpy array from tuples\n",
    "print (arr)"
   ]
  },
  {
   "cell_type": "code",
   "execution_count": null,
   "id": "02312ada",
   "metadata": {},
   "outputs": [],
   "source": [
    "arr_0 = np.array(3)            # 0 dimentional array\n",
    "print(arr_0)"
   ]
  },
  {
   "cell_type": "code",
   "execution_count": null,
   "id": "20c81d46",
   "metadata": {},
   "outputs": [],
   "source": [
    "arr_1 = np.array([1,2,3])           # 1 dimentional array\n",
    "print(arr_1)"
   ]
  },
  {
   "cell_type": "code",
   "execution_count": null,
   "id": "a6b6653c",
   "metadata": {},
   "outputs": [],
   "source": [
    "arr_2 = np.array([[1,2,3], [4,5,6]])           # 2 dimentional array\n",
    "print(arr_2)"
   ]
  },
  {
   "cell_type": "code",
   "execution_count": null,
   "id": "fe78d81a",
   "metadata": {},
   "outputs": [],
   "source": [
    "arr_3 = np.array([[[1,2,3,4], [4,5,6,7],[7,8,9,10]]])     # 3 dimentional array\n",
    "print(arr_3)"
   ]
  },
  {
   "cell_type": "markdown",
   "id": "87ff0a38",
   "metadata": {},
   "source": [
    "**.ndim & .shape**"
   ]
  },
  {
   "cell_type": "code",
   "execution_count": 43,
   "id": "7190d960",
   "metadata": {},
   "outputs": [
    {
     "ename": "NameError",
     "evalue": "name 'arr_0' is not defined",
     "output_type": "error",
     "traceback": [
      "\u001b[1;31m---------------------------------------------------------------------------\u001b[0m",
      "\u001b[1;31mNameError\u001b[0m                                 Traceback (most recent call last)",
      "Cell \u001b[1;32mIn[43], line 1\u001b[0m\n\u001b[1;32m----> 1\u001b[0m \u001b[38;5;28mprint\u001b[39m(\u001b[38;5;124m\"\u001b[39m\u001b[38;5;124mthe dimention of this array is \u001b[39m\u001b[38;5;124m\"\u001b[39m, \u001b[43marr_0\u001b[49m\u001b[38;5;241m.\u001b[39mndim)  \u001b[38;5;66;03m# .ndim show the dimention of the array\u001b[39;00m\n\u001b[0;32m      2\u001b[0m \u001b[38;5;28mprint\u001b[39m(\u001b[38;5;124m\"\u001b[39m\u001b[38;5;124mthe dimention of this array is \u001b[39m\u001b[38;5;124m\"\u001b[39m, arr_1\u001b[38;5;241m.\u001b[39mndim)\n\u001b[0;32m      3\u001b[0m \u001b[38;5;28mprint\u001b[39m(\u001b[38;5;124m\"\u001b[39m\u001b[38;5;124mthe dimention of this array is \u001b[39m\u001b[38;5;124m\"\u001b[39m, arr_2\u001b[38;5;241m.\u001b[39mndim)\n",
      "\u001b[1;31mNameError\u001b[0m: name 'arr_0' is not defined"
     ]
    }
   ],
   "source": [
    "print(\"the dimention of this array is \", arr_0.ndim)  # .ndim show the dimention of the array\n",
    "print(\"the dimention of this array is \", arr_1.ndim)\n",
    "print(\"the dimention of this array is \", arr_2.ndim)\n",
    "print(\"the dimention of this array is \", arr_3.ndim)"
   ]
  },
  {
   "cell_type": "code",
   "execution_count": null,
   "id": "9ce0629f",
   "metadata": {},
   "outputs": [],
   "source": [
    "print(\"the shape of this array is \", arr_0.shape)  # .shape returns the ;ength of the array along with its dimention\n",
    "print(\"the shape of this array is \", arr_1.shape)\n",
    "print(\"the shape of this array is \", arr_2.shape)\n",
    "print(\"the shape of this array is \", arr_3.shape)"
   ]
  },
  {
   "cell_type": "markdown",
   "id": "18f89888",
   "metadata": {},
   "source": [
    "**Numpy functions**"
   ]
  },
  {
   "cell_type": "code",
   "execution_count": null,
   "id": "c9c902dd",
   "metadata": {},
   "outputs": [],
   "source": [
    "arr_zeros = np.zeros(5)   # .zeros() fill the array with zeros\n",
    "print(arr_zeros)"
   ]
  },
  {
   "cell_type": "code",
   "execution_count": null,
   "id": "d94b9128",
   "metadata": {},
   "outputs": [],
   "source": [
    "arr_ones = np.ones(5) # .ones() fill th earry with ones\n",
    "print(arr_ones)"
   ]
  },
  {
   "cell_type": "code",
   "execution_count": null,
   "id": "b41d3ea7",
   "metadata": {},
   "outputs": [],
   "source": [
    "arr_empty = np.empty(4)\n",
    "print(arr_empty)"
   ]
  },
  {
   "cell_type": "code",
   "execution_count": 44,
   "id": "22424241",
   "metadata": {},
   "outputs": [
    {
     "ename": "NameError",
     "evalue": "name 'np' is not defined",
     "output_type": "error",
     "traceback": [
      "\u001b[1;31m---------------------------------------------------------------------------\u001b[0m",
      "\u001b[1;31mNameError\u001b[0m                                 Traceback (most recent call last)",
      "Cell \u001b[1;32mIn[44], line 1\u001b[0m\n\u001b[1;32m----> 1\u001b[0m arr_random \u001b[38;5;241m=\u001b[39m \u001b[43mnp\u001b[49m\u001b[38;5;241m.\u001b[39mrandom\u001b[38;5;241m.\u001b[39mrand(\u001b[38;5;241m3\u001b[39m,\u001b[38;5;241m2\u001b[39m)      \u001b[38;5;66;03m# .random.rand() create radnom array, must specify dimentions\u001b[39;00m\n\u001b[0;32m      2\u001b[0m \u001b[38;5;28mprint\u001b[39m(arr_random)\n",
      "\u001b[1;31mNameError\u001b[0m: name 'np' is not defined"
     ]
    }
   ],
   "source": [
    "arr_random = np.random.rand(3,2)      # .random.rand() create radnom array, must specify dimentions\n",
    "print(arr_random)"
   ]
  },
  {
   "cell_type": "code",
   "execution_count": null,
   "id": "eb21d4f0",
   "metadata": {},
   "outputs": [],
   "source": [
    "arr_arange = np.arange(1,10,2)  # .arange() creates array with specified starting interval, ending interval and jump in value\n",
    "print(arr_arange)"
   ]
  },
  {
   "cell_type": "code",
   "execution_count": null,
   "id": "9febbf47",
   "metadata": {},
   "outputs": [],
   "source": [
    "np.linspace(2.0, 3.0, num=5) # .lispace() Return evenly spaced numbers over a specified intervals"
   ]
  },
  {
   "cell_type": "markdown",
   "id": "352ead3f",
   "metadata": {},
   "source": [
    "numpy.linspace(start,\n",
    "               stop,\n",
    "               num = 50,\n",
    "               endpoint = True,\n",
    "               retstep = False,\n",
    "               dtype = None)\n",
    "               \n",
    "- start  : [optional] start of interval range. By default start = 0\n",
    "- stop   : end of interval range\n",
    "- restep : If True, return (samples, step). By default restep = False\n",
    "- num    : [int, optional] No. of samples to generate\n",
    "- dtype  : type of output array"
   ]
  },
  {
   "cell_type": "code",
   "execution_count": null,
   "id": "144bfca8",
   "metadata": {},
   "outputs": [],
   "source": [
    "np.transpose(arr_3)   # transpose convert columns to rows and rows to columns"
   ]
  },
  {
   "cell_type": "code",
   "execution_count": null,
   "id": "f5621c32",
   "metadata": {},
   "outputs": [],
   "source": [
    "arr_3.reshape(4,3)  # .reshape takes the shape as input and convert the array into that shape"
   ]
  },
  {
   "cell_type": "markdown",
   "id": "2bb0b439",
   "metadata": {},
   "source": [
    "**Array Indexing**"
   ]
  },
  {
   "cell_type": "code",
   "execution_count": 45,
   "id": "0b3dbe7d",
   "metadata": {},
   "outputs": [
    {
     "ename": "NameError",
     "evalue": "name 'arr_1' is not defined",
     "output_type": "error",
     "traceback": [
      "\u001b[1;31m---------------------------------------------------------------------------\u001b[0m",
      "\u001b[1;31mNameError\u001b[0m                                 Traceback (most recent call last)",
      "Cell \u001b[1;32mIn[45], line 1\u001b[0m\n\u001b[1;32m----> 1\u001b[0m \u001b[38;5;28mprint\u001b[39m(\u001b[43marr_1\u001b[49m[\u001b[38;5;241m2\u001b[39m]) \u001b[38;5;66;03m# indexing 1D array\u001b[39;00m\n\u001b[0;32m      2\u001b[0m \u001b[38;5;28mprint\u001b[39m(arr_1[\u001b[38;5;241m1\u001b[39m])\n",
      "\u001b[1;31mNameError\u001b[0m: name 'arr_1' is not defined"
     ]
    }
   ],
   "source": [
    "print(arr_1[2]) # indexing 1D array\n",
    "print(arr_1[1])"
   ]
  },
  {
   "cell_type": "code",
   "execution_count": null,
   "id": "8b739433",
   "metadata": {},
   "outputs": [],
   "source": [
    "print(arr_2[0][1])   # indexing 2D array\n",
    "print(arr_2[1][2])"
   ]
  },
  {
   "cell_type": "code",
   "execution_count": null,
   "id": "2ddf2e8b",
   "metadata": {},
   "outputs": [],
   "source": [
    "ar = arr_3.ndim\n",
    "print(ar)"
   ]
  },
  {
   "cell_type": "code",
   "execution_count": 46,
   "id": "a5229845",
   "metadata": {},
   "outputs": [
    {
     "ename": "NameError",
     "evalue": "name 'arr_2' is not defined",
     "output_type": "error",
     "traceback": [
      "\u001b[1;31m---------------------------------------------------------------------------\u001b[0m",
      "\u001b[1;31mNameError\u001b[0m                                 Traceback (most recent call last)",
      "Cell \u001b[1;32mIn[46], line 1\u001b[0m\n\u001b[1;32m----> 1\u001b[0m sliced_arr \u001b[38;5;241m=\u001b[39m \u001b[43marr_2\u001b[49m[\u001b[38;5;241m0\u001b[39m:\u001b[38;5;241m1\u001b[39m]    \u001b[38;5;66;03m# slicing aarrays\u001b[39;00m\n\u001b[0;32m      2\u001b[0m \u001b[38;5;28mprint\u001b[39m(sliced_arr)\n",
      "\u001b[1;31mNameError\u001b[0m: name 'arr_2' is not defined"
     ]
    }
   ],
   "source": [
    "sliced_arr = arr_2[0:1]    # slicing aarrays\n",
    "print(sliced_arr)"
   ]
  },
  {
   "cell_type": "code",
   "execution_count": null,
   "id": "7643a761",
   "metadata": {},
   "outputs": [],
   "source": [
    "sliced_arr[0] = 5      # change value of sliced array\n",
    "print(sliced_arr)"
   ]
  },
  {
   "cell_type": "code",
   "execution_count": null,
   "id": "a2c88ee6",
   "metadata": {},
   "outputs": [],
   "source": [
    "print(arr_2)       # the changed value in sliced array will affect the original array and vice versa"
   ]
  },
  {
   "cell_type": "code",
   "execution_count": null,
   "id": "fbf07342",
   "metadata": {},
   "outputs": [],
   "source": [
    "arr_slc = np.array([[1,2,3],\n",
    "                    [4,5,6],\n",
    "                    [7,8,9]])\n",
    "print(arr_slc)"
   ]
  },
  {
   "cell_type": "code",
   "execution_count": null,
   "id": "113df878",
   "metadata": {},
   "outputs": [],
   "source": [
    "arr_slice = arr_slc[1]  # slice the second row\n",
    "print(arr_slice)"
   ]
  },
  {
   "cell_type": "code",
   "execution_count": null,
   "id": "50446672",
   "metadata": {},
   "outputs": [],
   "source": [
    "arr_slc[1] = [3,6,0] # change the second row\n",
    "print(arr_slc)"
   ]
  },
  {
   "cell_type": "code",
   "execution_count": null,
   "id": "50d8dc62",
   "metadata": {},
   "outputs": [],
   "source": [
    "arr_slc[:,2]= [4,6,3]  # change the 3rd column\n",
    "print(arr_slc)"
   ]
  },
  {
   "cell_type": "markdown",
   "id": "8c5406cf",
   "metadata": {},
   "source": [
    "**Numpy statistical functions**"
   ]
  },
  {
   "cell_type": "code",
   "execution_count": 47,
   "id": "0d7c3d74",
   "metadata": {},
   "outputs": [
    {
     "ename": "NameError",
     "evalue": "name 'arr_3' is not defined",
     "output_type": "error",
     "traceback": [
      "\u001b[1;31m---------------------------------------------------------------------------\u001b[0m",
      "\u001b[1;31mNameError\u001b[0m                                 Traceback (most recent call last)",
      "Cell \u001b[1;32mIn[47], line 1\u001b[0m\n\u001b[1;32m----> 1\u001b[0m \u001b[38;5;28mprint\u001b[39m(\u001b[43marr_3\u001b[49m)\n\u001b[0;32m      2\u001b[0m \u001b[38;5;28mprint\u001b[39m(np\u001b[38;5;241m.\u001b[39mamin(arr_3))\n",
      "\u001b[1;31mNameError\u001b[0m: name 'arr_3' is not defined"
     ]
    }
   ],
   "source": [
    "print(arr_3)\n",
    "print(np.amin(arr_3))     # amin()returns minimum value"
   ]
  },
  {
   "cell_type": "code",
   "execution_count": null,
   "id": "baaee64d",
   "metadata": {},
   "outputs": [],
   "source": [
    "print(np.amax(arr_3))    # amax() returns max value"
   ]
  },
  {
   "cell_type": "code",
   "execution_count": null,
   "id": "c46a250b",
   "metadata": {},
   "outputs": [],
   "source": [
    "print(np.mean(arr_3))    # mean()"
   ]
  },
  {
   "cell_type": "code",
   "execution_count": null,
   "id": "97601af7",
   "metadata": {},
   "outputs": [],
   "source": [
    "print(np.median(arr_3))    # median()"
   ]
  },
  {
   "cell_type": "code",
   "execution_count": null,
   "id": "5528d834",
   "metadata": {},
   "outputs": [],
   "source": [
    "print(np.std(arr_3))    # standard deviation"
   ]
  },
  {
   "cell_type": "code",
   "execution_count": 48,
   "id": "c75e177c",
   "metadata": {},
   "outputs": [
    {
     "ename": "NameError",
     "evalue": "name 'np' is not defined",
     "output_type": "error",
     "traceback": [
      "\u001b[1;31m---------------------------------------------------------------------------\u001b[0m",
      "\u001b[1;31mNameError\u001b[0m                                 Traceback (most recent call last)",
      "Cell \u001b[1;32mIn[48], line 1\u001b[0m\n\u001b[1;32m----> 1\u001b[0m \u001b[38;5;28mprint\u001b[39m(\u001b[43mnp\u001b[49m\u001b[38;5;241m.\u001b[39mvar(arr_3))\n",
      "\u001b[1;31mNameError\u001b[0m: name 'np' is not defined"
     ]
    }
   ],
   "source": [
    "print(np.var(arr_3))    # variance"
   ]
  },
  {
   "cell_type": "markdown",
   "id": "b5caf8f2",
   "metadata": {},
   "source": [
    "**Methods for boolean arrays**"
   ]
  },
  {
   "cell_type": "code",
   "execution_count": null,
   "id": "7405bba5",
   "metadata": {},
   "outputs": [],
   "source": [
    "arr_4 = np.array([-2,1,3,-7,-5,5])\n",
    "post_val = (arr_4 > 0)     # check the positive values\n",
    "print (post_val)"
   ]
  },
  {
   "cell_type": "code",
   "execution_count": null,
   "id": "ecd5c593",
   "metadata": {},
   "outputs": [],
   "source": [
    "arr_4[arr_4 < 0] = 0        # change negative vaules to 0\n",
    "print(arr_4)"
   ]
  },
  {
   "cell_type": "code",
   "execution_count": null,
   "id": "6a16d242",
   "metadata": {},
   "outputs": [],
   "source": [
    "post_val.any()          # any() check if any values of array are positive"
   ]
  },
  {
   "cell_type": "code",
   "execution_count": 49,
   "id": "8a75b3a1",
   "metadata": {},
   "outputs": [
    {
     "ename": "NameError",
     "evalue": "name 'post_val' is not defined",
     "output_type": "error",
     "traceback": [
      "\u001b[1;31m---------------------------------------------------------------------------\u001b[0m",
      "\u001b[1;31mNameError\u001b[0m                                 Traceback (most recent call last)",
      "Cell \u001b[1;32mIn[49], line 1\u001b[0m\n\u001b[1;32m----> 1\u001b[0m \u001b[43mpost_val\u001b[49m\u001b[38;5;241m.\u001b[39mall()\n",
      "\u001b[1;31mNameError\u001b[0m: name 'post_val' is not defined"
     ]
    }
   ],
   "source": [
    "post_val.all()      # .all() check if all values are positive"
   ]
  },
  {
   "cell_type": "code",
   "execution_count": null,
   "id": "daa5abbd",
   "metadata": {},
   "outputs": [],
   "source": [
    "arr_4.sort()        #.sort() sort the array\n",
    "print(arr_4)    "
   ]
  },
  {
   "cell_type": "code",
   "execution_count": null,
   "id": "46cadf65",
   "metadata": {},
   "outputs": [],
   "source": [
    "np.unique(arr_4)    # .unique() return unique values without redundancy"
   ]
  },
  {
   "cell_type": "markdown",
   "id": "bcd41516",
   "metadata": {},
   "source": [
    "# File Handling - Modes"
   ]
  },
  {
   "cell_type": "code",
   "execution_count": null,
   "id": "3151a44a",
   "metadata": {},
   "outputs": [],
   "source": [
    "open(\"file samples.txt\", \"r\")  # open, \"r\" - read mode - return an error if file is not exists - default value"
   ]
  },
  {
   "cell_type": "code",
   "execution_count": null,
   "id": "869f3024",
   "metadata": {},
   "outputs": [],
   "source": [
    "open(\"file samples.txt\", \"a\")    # \"a\" - append - open the file to append it. creates the file if not exist"
   ]
  },
  {
   "cell_type": "code",
   "execution_count": 50,
   "id": "6f893347",
   "metadata": {},
   "outputs": [
    {
     "data": {
      "text/plain": [
       "<_io.TextIOWrapper name='file samples.txt' mode='w' encoding='cp1252'>"
      ]
     },
     "execution_count": 50,
     "metadata": {},
     "output_type": "execute_result"
    }
   ],
   "source": [
    "open(\"file samples.txt\", \"w\") # \"w\" - write - open the file to write on it. creates the file if not exists"
   ]
  },
  {
   "cell_type": "code",
   "execution_count": 51,
   "id": "45e6d72d",
   "metadata": {},
   "outputs": [
    {
     "ename": "FileExistsError",
     "evalue": "[Errno 17] File exists: 'file samples.txt'",
     "output_type": "error",
     "traceback": [
      "\u001b[1;31m---------------------------------------------------------------------------\u001b[0m",
      "\u001b[1;31mFileExistsError\u001b[0m                           Traceback (most recent call last)",
      "Cell \u001b[1;32mIn[51], line 1\u001b[0m\n\u001b[1;32m----> 1\u001b[0m \u001b[38;5;28;43mopen\u001b[39;49m\u001b[43m(\u001b[49m\u001b[38;5;124;43m\"\u001b[39;49m\u001b[38;5;124;43mfile samples.txt\u001b[39;49m\u001b[38;5;124;43m\"\u001b[39;49m\u001b[43m,\u001b[49m\u001b[43m \u001b[49m\u001b[38;5;124;43m\"\u001b[39;49m\u001b[38;5;124;43mx\u001b[39;49m\u001b[38;5;124;43m\"\u001b[39;49m\u001b[43m)\u001b[49m\n",
      "File \u001b[1;32m~\\anaconda3\\lib\\site-packages\\IPython\\core\\interactiveshell.py:282\u001b[0m, in \u001b[0;36m_modified_open\u001b[1;34m(file, *args, **kwargs)\u001b[0m\n\u001b[0;32m    275\u001b[0m \u001b[38;5;28;01mif\u001b[39;00m file \u001b[38;5;129;01min\u001b[39;00m {\u001b[38;5;241m0\u001b[39m, \u001b[38;5;241m1\u001b[39m, \u001b[38;5;241m2\u001b[39m}:\n\u001b[0;32m    276\u001b[0m     \u001b[38;5;28;01mraise\u001b[39;00m \u001b[38;5;167;01mValueError\u001b[39;00m(\n\u001b[0;32m    277\u001b[0m         \u001b[38;5;124mf\u001b[39m\u001b[38;5;124m\"\u001b[39m\u001b[38;5;124mIPython won\u001b[39m\u001b[38;5;124m'\u001b[39m\u001b[38;5;124mt let you open fd=\u001b[39m\u001b[38;5;132;01m{\u001b[39;00mfile\u001b[38;5;132;01m}\u001b[39;00m\u001b[38;5;124m by default \u001b[39m\u001b[38;5;124m\"\u001b[39m\n\u001b[0;32m    278\u001b[0m         \u001b[38;5;124m\"\u001b[39m\u001b[38;5;124mas it is likely to crash IPython. If you know what you are doing, \u001b[39m\u001b[38;5;124m\"\u001b[39m\n\u001b[0;32m    279\u001b[0m         \u001b[38;5;124m\"\u001b[39m\u001b[38;5;124myou can use builtins\u001b[39m\u001b[38;5;124m'\u001b[39m\u001b[38;5;124m open.\u001b[39m\u001b[38;5;124m\"\u001b[39m\n\u001b[0;32m    280\u001b[0m     )\n\u001b[1;32m--> 282\u001b[0m \u001b[38;5;28;01mreturn\u001b[39;00m io_open(file, \u001b[38;5;241m*\u001b[39margs, \u001b[38;5;241m*\u001b[39m\u001b[38;5;241m*\u001b[39mkwargs)\n",
      "\u001b[1;31mFileExistsError\u001b[0m: [Errno 17] File exists: 'file samples.txt'"
     ]
    }
   ],
   "source": [
    "open(\"file samples.txt\", \"x\")   # \"x\" - create - creates the file. return an error if the file exists"
   ]
  },
  {
   "cell_type": "code",
   "execution_count": null,
   "id": "97c60c35",
   "metadata": {},
   "outputs": [],
   "source": [
    "file_handle = open(\"file samples.txt\") # open the file and read it \n",
    "print(file_handle.read())              # if we didn't pass arguments to read(), it will return all the file text "
   ]
  },
  {
   "cell_type": "code",
   "execution_count": null,
   "id": "bc7d6f96",
   "metadata": {},
   "outputs": [],
   "source": [
    "file_handle = open(\"file samples.txt\") # open the file and read it \n",
    "print(file_handle.read(20))    # if arguments passed, it will return number of characters specified"
   ]
  },
  {
   "cell_type": "code",
   "execution_count": null,
   "id": "9cf5913e",
   "metadata": {},
   "outputs": [],
   "source": [
    "print(file_handle.read())  # the next call for read() will start reading from where it stops in the previous read call"
   ]
  },
  {
   "cell_type": "code",
   "execution_count": null,
   "id": "e0e61b65",
   "metadata": {},
   "outputs": [],
   "source": [
    "file_handle.seek(0)   # seek() will reset the file pointer to the first pointer location\n",
    "print(file_handle.read(30))"
   ]
  },
  {
   "cell_type": "code",
   "execution_count": null,
   "id": "e081fa8a",
   "metadata": {},
   "outputs": [],
   "source": [
    "print(file_handle.readline()) # readline() reads one line at a time. as we didnt' reset the last read, it will read the next line "
   ]
  },
  {
   "cell_type": "code",
   "execution_count": null,
   "id": "0ed5c88f",
   "metadata": {},
   "outputs": [],
   "source": [
    "print(file_handle.readline()) # keep reading the next line"
   ]
  },
  {
   "cell_type": "code",
   "execution_count": null,
   "id": "cbee75cd",
   "metadata": {},
   "outputs": [],
   "source": [
    "file_handle.close() # .close() will close the file. good housekeeping to close the file"
   ]
  },
  {
   "cell_type": "code",
   "execution_count": 52,
   "id": "6b52d7cc",
   "metadata": {},
   "outputs": [
    {
     "ename": "NameError",
     "evalue": "name 'file_handle' is not defined",
     "output_type": "error",
     "traceback": [
      "\u001b[1;31m---------------------------------------------------------------------------\u001b[0m",
      "\u001b[1;31mNameError\u001b[0m                                 Traceback (most recent call last)",
      "Cell \u001b[1;32mIn[52], line 1\u001b[0m\n\u001b[1;32m----> 1\u001b[0m \u001b[38;5;28mprint\u001b[39m(\u001b[43mfile_handle\u001b[49m\u001b[38;5;241m.\u001b[39mread())\n",
      "\u001b[1;31mNameError\u001b[0m: name 'file_handle' is not defined"
     ]
    }
   ],
   "source": [
    "print(file_handle.read()) # returns an error as the file is now closed "
   ]
  },
  {
   "cell_type": "code",
   "execution_count": null,
   "id": "26f6d2f8",
   "metadata": {},
   "outputs": [],
   "source": [
    "f = open(\"file samples.txt\") \n",
    "print(f.read())"
   ]
  },
  {
   "cell_type": "code",
   "execution_count": null,
   "id": "8159a233",
   "metadata": {},
   "outputs": [],
   "source": [
    "f.write(\"This is added line\") # will return an error because file is not opnened in write/ append mode"
   ]
  },
  {
   "cell_type": "code",
   "execution_count": null,
   "id": "f8ed7871",
   "metadata": {},
   "outputs": [],
   "source": [
    "f = open(\"file samples.txt\", \"a\") # open file in append mode to avoid overwriting \n",
    "f.write(\"This is added line\")"
   ]
  },
  {
   "cell_type": "code",
   "execution_count": null,
   "id": "4f29ce86",
   "metadata": {},
   "outputs": [],
   "source": [
    "f = open(\"file samples.txt\")  # open the file again to read it\n",
    "print(f.read())"
   ]
  },
  {
   "cell_type": "code",
   "execution_count": 53,
   "id": "ea44cecc",
   "metadata": {},
   "outputs": [
    {
     "data": {
      "text/plain": [
       "20"
      ]
     },
     "execution_count": 53,
     "metadata": {},
     "output_type": "execute_result"
    }
   ],
   "source": [
    "f = open(\"file samples.txt\", \"a\") # open file in a ppend mode to avoid overwriting \n",
    "f.write(\"\\n This is added line\") # add the new text in new line"
   ]
  },
  {
   "cell_type": "code",
   "execution_count": 54,
   "id": "9b949114",
   "metadata": {},
   "outputs": [
    {
     "name": "stdout",
     "output_type": "stream",
     "text": [
      "\n",
      " This is added line\n"
     ]
    }
   ],
   "source": [
    "f = open(\"file samples.txt\")\n",
    "print(f.read())"
   ]
  },
  {
   "cell_type": "code",
   "execution_count": 55,
   "id": "f6c00612",
   "metadata": {},
   "outputs": [
    {
     "data": {
      "text/plain": [
       "37"
      ]
     },
     "execution_count": 55,
     "metadata": {},
     "output_type": "execute_result"
    }
   ],
   "source": [
    "f = open(\"file samples.txt\", \"w\")      # write mode will write in the file but will overwite all the text\n",
    "f.write(\"This text will overwite the old text!\")"
   ]
  },
  {
   "cell_type": "code",
   "execution_count": 56,
   "id": "90092cd5",
   "metadata": {},
   "outputs": [
    {
     "name": "stdout",
     "output_type": "stream",
     "text": [
      "This text will overwite the old text!\n"
     ]
    }
   ],
   "source": [
    "f = open(\"file samples.txt\")\n",
    "print(f.read())"
   ]
  },
  {
   "cell_type": "code",
   "execution_count": 57,
   "id": "eba27483",
   "metadata": {},
   "outputs": [],
   "source": [
    "f.close()"
   ]
  },
  {
   "cell_type": "markdown",
   "id": "9f37c4c1",
   "metadata": {},
   "source": [
    "# Pandas"
   ]
  },
  {
   "cell_type": "code",
   "execution_count": 58,
   "id": "2a2d1c7f",
   "metadata": {},
   "outputs": [],
   "source": [
    "import pandas as pd # pandas has Dataframes and Series"
   ]
  },
  {
   "cell_type": "code",
   "execution_count": 59,
   "id": "8e29609b",
   "metadata": {},
   "outputs": [],
   "source": [
    "import numpy as np"
   ]
  },
  {
   "cell_type": "markdown",
   "id": "8b4b5ea7",
   "metadata": {},
   "source": [
    "## Series"
   ]
  },
  {
   "cell_type": "code",
   "execution_count": 60,
   "id": "2008db4c",
   "metadata": {},
   "outputs": [
    {
     "name": "stdout",
     "output_type": "stream",
     "text": [
      "0    A\n",
      "1    B\n",
      "2    C\n",
      "3    D\n",
      "dtype: object\n"
     ]
    }
   ],
   "source": [
    "sers = pd.Series([\"A\", \"B\", \"C\", \"D\"]) #  Series is one dimential array with different datatypes\n",
    "print(sers)"
   ]
  },
  {
   "cell_type": "code",
   "execution_count": 61,
   "id": "35947ac8",
   "metadata": {},
   "outputs": [
    {
     "name": "stdout",
     "output_type": "stream",
     "text": [
      "0    Rania\n",
      "1     Noor\n",
      "2     Amro\n",
      "3    Rayan\n",
      "4    Mazin\n",
      "dtype: object\n"
     ]
    }
   ],
   "source": [
    "arr = np.array([\"Rania\", \"Noor\", \"Amro\",\"Rayan\",\"Mazin\"]) # create Series from numpy array\n",
    "ser = pd.Series(arr)    \n",
    "print(ser)"
   ]
  },
  {
   "cell_type": "code",
   "execution_count": 62,
   "id": "c05fa48e",
   "metadata": {},
   "outputs": [
    {
     "name": "stdout",
     "output_type": "stream",
     "text": [
      "a    Rania\n",
      "b     Noor\n",
      "c     Amro\n",
      "d    Rayan\n",
      "e    Mazin\n",
      "dtype: object\n"
     ]
    }
   ],
   "source": [
    "ser = pd.Series(arr, index = [\"a\",\"b\",\"c\",\"d\",\"e\"]) # indexed could be specified . defult are 0 to n-1\n",
    "print(ser)"
   ]
  },
  {
   "cell_type": "code",
   "execution_count": 63,
   "id": "9e132f26",
   "metadata": {},
   "outputs": [
    {
     "data": {
      "text/plain": [
       "a    Rania\n",
       "b     Noor\n",
       "c     Amro\n",
       "dtype: object"
      ]
     },
     "execution_count": 63,
     "metadata": {},
     "output_type": "execute_result"
    }
   ],
   "source": [
    "ser[0:3]  # getting index"
   ]
  },
  {
   "cell_type": "code",
   "execution_count": 64,
   "id": "ffa47ee7",
   "metadata": {},
   "outputs": [
    {
     "ename": "TypeError",
     "evalue": "cannot do slice indexing on Index with these indexers [0] of type int",
     "output_type": "error",
     "traceback": [
      "\u001b[1;31m---------------------------------------------------------------------------\u001b[0m",
      "\u001b[1;31mTypeError\u001b[0m                                 Traceback (most recent call last)",
      "Cell \u001b[1;32mIn[64], line 1\u001b[0m\n\u001b[1;32m----> 1\u001b[0m \u001b[43mser\u001b[49m\u001b[38;5;241;43m.\u001b[39;49m\u001b[43mloc\u001b[49m\u001b[43m[\u001b[49m\u001b[38;5;241;43m0\u001b[39;49m\u001b[43m:\u001b[49m\u001b[38;5;241;43m3\u001b[39;49m\u001b[43m]\u001b[49m\n",
      "File \u001b[1;32m~\\anaconda3\\lib\\site-packages\\pandas\\core\\indexing.py:1073\u001b[0m, in \u001b[0;36m_LocationIndexer.__getitem__\u001b[1;34m(self, key)\u001b[0m\n\u001b[0;32m   1070\u001b[0m axis \u001b[38;5;241m=\u001b[39m \u001b[38;5;28mself\u001b[39m\u001b[38;5;241m.\u001b[39maxis \u001b[38;5;129;01mor\u001b[39;00m \u001b[38;5;241m0\u001b[39m\n\u001b[0;32m   1072\u001b[0m maybe_callable \u001b[38;5;241m=\u001b[39m com\u001b[38;5;241m.\u001b[39mapply_if_callable(key, \u001b[38;5;28mself\u001b[39m\u001b[38;5;241m.\u001b[39mobj)\n\u001b[1;32m-> 1073\u001b[0m \u001b[38;5;28;01mreturn\u001b[39;00m \u001b[38;5;28;43mself\u001b[39;49m\u001b[38;5;241;43m.\u001b[39;49m\u001b[43m_getitem_axis\u001b[49m\u001b[43m(\u001b[49m\u001b[43mmaybe_callable\u001b[49m\u001b[43m,\u001b[49m\u001b[43m \u001b[49m\u001b[43maxis\u001b[49m\u001b[38;5;241;43m=\u001b[39;49m\u001b[43maxis\u001b[49m\u001b[43m)\u001b[49m\n",
      "File \u001b[1;32m~\\anaconda3\\lib\\site-packages\\pandas\\core\\indexing.py:1290\u001b[0m, in \u001b[0;36m_LocIndexer._getitem_axis\u001b[1;34m(self, key, axis)\u001b[0m\n\u001b[0;32m   1288\u001b[0m \u001b[38;5;28;01mif\u001b[39;00m \u001b[38;5;28misinstance\u001b[39m(key, \u001b[38;5;28mslice\u001b[39m):\n\u001b[0;32m   1289\u001b[0m     \u001b[38;5;28mself\u001b[39m\u001b[38;5;241m.\u001b[39m_validate_key(key, axis)\n\u001b[1;32m-> 1290\u001b[0m     \u001b[38;5;28;01mreturn\u001b[39;00m \u001b[38;5;28;43mself\u001b[39;49m\u001b[38;5;241;43m.\u001b[39;49m\u001b[43m_get_slice_axis\u001b[49m\u001b[43m(\u001b[49m\u001b[43mkey\u001b[49m\u001b[43m,\u001b[49m\u001b[43m \u001b[49m\u001b[43maxis\u001b[49m\u001b[38;5;241;43m=\u001b[39;49m\u001b[43maxis\u001b[49m\u001b[43m)\u001b[49m\n\u001b[0;32m   1291\u001b[0m \u001b[38;5;28;01melif\u001b[39;00m com\u001b[38;5;241m.\u001b[39mis_bool_indexer(key):\n\u001b[0;32m   1292\u001b[0m     \u001b[38;5;28;01mreturn\u001b[39;00m \u001b[38;5;28mself\u001b[39m\u001b[38;5;241m.\u001b[39m_getbool_axis(key, axis\u001b[38;5;241m=\u001b[39maxis)\n",
      "File \u001b[1;32m~\\anaconda3\\lib\\site-packages\\pandas\\core\\indexing.py:1324\u001b[0m, in \u001b[0;36m_LocIndexer._get_slice_axis\u001b[1;34m(self, slice_obj, axis)\u001b[0m\n\u001b[0;32m   1321\u001b[0m     \u001b[38;5;28;01mreturn\u001b[39;00m obj\u001b[38;5;241m.\u001b[39mcopy(deep\u001b[38;5;241m=\u001b[39m\u001b[38;5;28;01mFalse\u001b[39;00m)\n\u001b[0;32m   1323\u001b[0m labels \u001b[38;5;241m=\u001b[39m obj\u001b[38;5;241m.\u001b[39m_get_axis(axis)\n\u001b[1;32m-> 1324\u001b[0m indexer \u001b[38;5;241m=\u001b[39m \u001b[43mlabels\u001b[49m\u001b[38;5;241;43m.\u001b[39;49m\u001b[43mslice_indexer\u001b[49m\u001b[43m(\u001b[49m\u001b[43mslice_obj\u001b[49m\u001b[38;5;241;43m.\u001b[39;49m\u001b[43mstart\u001b[49m\u001b[43m,\u001b[49m\u001b[43m \u001b[49m\u001b[43mslice_obj\u001b[49m\u001b[38;5;241;43m.\u001b[39;49m\u001b[43mstop\u001b[49m\u001b[43m,\u001b[49m\u001b[43m \u001b[49m\u001b[43mslice_obj\u001b[49m\u001b[38;5;241;43m.\u001b[39;49m\u001b[43mstep\u001b[49m\u001b[43m)\u001b[49m\n\u001b[0;32m   1326\u001b[0m \u001b[38;5;28;01mif\u001b[39;00m \u001b[38;5;28misinstance\u001b[39m(indexer, \u001b[38;5;28mslice\u001b[39m):\n\u001b[0;32m   1327\u001b[0m     \u001b[38;5;28;01mreturn\u001b[39;00m \u001b[38;5;28mself\u001b[39m\u001b[38;5;241m.\u001b[39mobj\u001b[38;5;241m.\u001b[39m_slice(indexer, axis\u001b[38;5;241m=\u001b[39maxis)\n",
      "File \u001b[1;32m~\\anaconda3\\lib\\site-packages\\pandas\\core\\indexes\\base.py:6559\u001b[0m, in \u001b[0;36mIndex.slice_indexer\u001b[1;34m(self, start, end, step, kind)\u001b[0m\n\u001b[0;32m   6516\u001b[0m \u001b[38;5;124;03m\"\"\"\u001b[39;00m\n\u001b[0;32m   6517\u001b[0m \u001b[38;5;124;03mCompute the slice indexer for input labels and step.\u001b[39;00m\n\u001b[0;32m   6518\u001b[0m \n\u001b[1;32m   (...)\u001b[0m\n\u001b[0;32m   6555\u001b[0m \u001b[38;5;124;03mslice(1, 3, None)\u001b[39;00m\n\u001b[0;32m   6556\u001b[0m \u001b[38;5;124;03m\"\"\"\u001b[39;00m\n\u001b[0;32m   6557\u001b[0m \u001b[38;5;28mself\u001b[39m\u001b[38;5;241m.\u001b[39m_deprecated_arg(kind, \u001b[38;5;124m\"\u001b[39m\u001b[38;5;124mkind\u001b[39m\u001b[38;5;124m\"\u001b[39m, \u001b[38;5;124m\"\u001b[39m\u001b[38;5;124mslice_indexer\u001b[39m\u001b[38;5;124m\"\u001b[39m)\n\u001b[1;32m-> 6559\u001b[0m start_slice, end_slice \u001b[38;5;241m=\u001b[39m \u001b[38;5;28;43mself\u001b[39;49m\u001b[38;5;241;43m.\u001b[39;49m\u001b[43mslice_locs\u001b[49m\u001b[43m(\u001b[49m\u001b[43mstart\u001b[49m\u001b[43m,\u001b[49m\u001b[43m \u001b[49m\u001b[43mend\u001b[49m\u001b[43m,\u001b[49m\u001b[43m \u001b[49m\u001b[43mstep\u001b[49m\u001b[38;5;241;43m=\u001b[39;49m\u001b[43mstep\u001b[49m\u001b[43m)\u001b[49m\n\u001b[0;32m   6561\u001b[0m \u001b[38;5;66;03m# return a slice\u001b[39;00m\n\u001b[0;32m   6562\u001b[0m \u001b[38;5;28;01mif\u001b[39;00m \u001b[38;5;129;01mnot\u001b[39;00m is_scalar(start_slice):\n",
      "File \u001b[1;32m~\\anaconda3\\lib\\site-packages\\pandas\\core\\indexes\\base.py:6767\u001b[0m, in \u001b[0;36mIndex.slice_locs\u001b[1;34m(self, start, end, step, kind)\u001b[0m\n\u001b[0;32m   6765\u001b[0m start_slice \u001b[38;5;241m=\u001b[39m \u001b[38;5;28;01mNone\u001b[39;00m\n\u001b[0;32m   6766\u001b[0m \u001b[38;5;28;01mif\u001b[39;00m start \u001b[38;5;129;01mis\u001b[39;00m \u001b[38;5;129;01mnot\u001b[39;00m \u001b[38;5;28;01mNone\u001b[39;00m:\n\u001b[1;32m-> 6767\u001b[0m     start_slice \u001b[38;5;241m=\u001b[39m \u001b[38;5;28;43mself\u001b[39;49m\u001b[38;5;241;43m.\u001b[39;49m\u001b[43mget_slice_bound\u001b[49m\u001b[43m(\u001b[49m\u001b[43mstart\u001b[49m\u001b[43m,\u001b[49m\u001b[43m \u001b[49m\u001b[38;5;124;43m\"\u001b[39;49m\u001b[38;5;124;43mleft\u001b[39;49m\u001b[38;5;124;43m\"\u001b[39;49m\u001b[43m)\u001b[49m\n\u001b[0;32m   6768\u001b[0m \u001b[38;5;28;01mif\u001b[39;00m start_slice \u001b[38;5;129;01mis\u001b[39;00m \u001b[38;5;28;01mNone\u001b[39;00m:\n\u001b[0;32m   6769\u001b[0m     start_slice \u001b[38;5;241m=\u001b[39m \u001b[38;5;241m0\u001b[39m\n",
      "File \u001b[1;32m~\\anaconda3\\lib\\site-packages\\pandas\\core\\indexes\\base.py:6676\u001b[0m, in \u001b[0;36mIndex.get_slice_bound\u001b[1;34m(self, label, side, kind)\u001b[0m\n\u001b[0;32m   6672\u001b[0m original_label \u001b[38;5;241m=\u001b[39m label\n\u001b[0;32m   6674\u001b[0m \u001b[38;5;66;03m# For datetime indices label may be a string that has to be converted\u001b[39;00m\n\u001b[0;32m   6675\u001b[0m \u001b[38;5;66;03m# to datetime boundary according to its resolution.\u001b[39;00m\n\u001b[1;32m-> 6676\u001b[0m label \u001b[38;5;241m=\u001b[39m \u001b[38;5;28;43mself\u001b[39;49m\u001b[38;5;241;43m.\u001b[39;49m\u001b[43m_maybe_cast_slice_bound\u001b[49m\u001b[43m(\u001b[49m\u001b[43mlabel\u001b[49m\u001b[43m,\u001b[49m\u001b[43m \u001b[49m\u001b[43mside\u001b[49m\u001b[43m)\u001b[49m\n\u001b[0;32m   6678\u001b[0m \u001b[38;5;66;03m# we need to look up the label\u001b[39;00m\n\u001b[0;32m   6679\u001b[0m \u001b[38;5;28;01mtry\u001b[39;00m:\n",
      "File \u001b[1;32m~\\anaconda3\\lib\\site-packages\\pandas\\core\\indexes\\base.py:6623\u001b[0m, in \u001b[0;36mIndex._maybe_cast_slice_bound\u001b[1;34m(self, label, side, kind)\u001b[0m\n\u001b[0;32m   6618\u001b[0m \u001b[38;5;66;03m# We are a plain index here (sub-class override this method if they\u001b[39;00m\n\u001b[0;32m   6619\u001b[0m \u001b[38;5;66;03m# wish to have special treatment for floats/ints, e.g. Float64Index and\u001b[39;00m\n\u001b[0;32m   6620\u001b[0m \u001b[38;5;66;03m# datetimelike Indexes\u001b[39;00m\n\u001b[0;32m   6621\u001b[0m \u001b[38;5;66;03m# reject them, if index does not contain label\u001b[39;00m\n\u001b[0;32m   6622\u001b[0m \u001b[38;5;28;01mif\u001b[39;00m (is_float(label) \u001b[38;5;129;01mor\u001b[39;00m is_integer(label)) \u001b[38;5;129;01mand\u001b[39;00m label \u001b[38;5;129;01mnot\u001b[39;00m \u001b[38;5;129;01min\u001b[39;00m \u001b[38;5;28mself\u001b[39m:\n\u001b[1;32m-> 6623\u001b[0m     \u001b[38;5;28;01mraise\u001b[39;00m \u001b[38;5;28mself\u001b[39m\u001b[38;5;241m.\u001b[39m_invalid_indexer(\u001b[38;5;124m\"\u001b[39m\u001b[38;5;124mslice\u001b[39m\u001b[38;5;124m\"\u001b[39m, label)\n\u001b[0;32m   6625\u001b[0m \u001b[38;5;28;01mreturn\u001b[39;00m label\n",
      "\u001b[1;31mTypeError\u001b[0m: cannot do slice indexing on Index with these indexers [0] of type int"
     ]
    }
   ],
   "source": [
    "ser.loc[0:3] # using .loc will retieve based on labels of rows and columns"
   ]
  },
  {
   "cell_type": "code",
   "execution_count": null,
   "id": "68c3b10f",
   "metadata": {},
   "outputs": [],
   "source": [
    "ser.iloc[0:3] # using .iloc will retrieve based on index"
   ]
  },
  {
   "cell_type": "markdown",
   "id": "4d40b670",
   "metadata": {},
   "source": [
    "## DataFrames"
   ]
  },
  {
   "cell_type": "code",
   "execution_count": null,
   "id": "031178fe",
   "metadata": {},
   "outputs": [],
   "source": [
    "# create dataframe\n",
    "data = pd.DataFrame({\"Name\": [\"Noor\", \"Rania\", \"Amro\", \"Mazin\", \"Dalia\", \"Rayan\"], \"Age\": [3, 32, 33, 39, 41, 34]}) \n",
    "data"
   ]
  },
  {
   "cell_type": "code",
   "execution_count": null,
   "id": "7ec93b90",
   "metadata": {},
   "outputs": [],
   "source": [
    "# create dataframe using series\n",
    "Team = pd.Series([\"England\", \"Brazil\", \"Italy\", \"Spain\"])\n",
    "Goals = pd.Series([33, 35, 12])                             # NaN for null values\n",
    "\n",
    "d_frame = pd.DataFrame({\"Team\": Team, \"Number of Goals\": Goals})\n",
    "d_frame"
   ]
  },
  {
   "cell_type": "markdown",
   "id": "fa41b62c",
   "metadata": {},
   "source": [
    "**Reading File**"
   ]
  },
  {
   "cell_type": "code",
   "execution_count": null,
   "id": "08dcdd28",
   "metadata": {},
   "outputs": [],
   "source": [
    "df = pd.read_csv(\"Food samples.csv\") # read csv file that exists on the same path of the notebook\n",
    "df"
   ]
  },
  {
   "cell_type": "code",
   "execution_count": null,
   "id": "663520c0",
   "metadata": {},
   "outputs": [],
   "source": [
    "df_excel = pd.read_excel(\"food samples.xlsx\") # read excel file\n",
    "df_excel"
   ]
  },
  {
   "cell_type": "code",
   "execution_count": null,
   "id": "4a2ce6a3",
   "metadata": {},
   "outputs": [],
   "source": [
    "df.info()"
   ]
  },
  {
   "cell_type": "code",
   "execution_count": null,
   "id": "2270e097",
   "metadata": {},
   "outputs": [],
   "source": [
    "# slicing dataframes\n",
    "df.iloc[0:3]   # slicing the first 3 rows"
   ]
  },
  {
   "cell_type": "code",
   "execution_count": null,
   "id": "523746a9",
   "metadata": {},
   "outputs": [],
   "source": [
    "df.iloc[:,1:3] # slicing the columns 2 to 3"
   ]
  },
  {
   "cell_type": "code",
   "execution_count": null,
   "id": "2051eb0a",
   "metadata": {},
   "outputs": [],
   "source": [
    "df.loc[1:3] # using loc function in dataframe"
   ]
  },
  {
   "cell_type": "code",
   "execution_count": null,
   "id": "98ab607f",
   "metadata": {},
   "outputs": [],
   "source": [
    "#df.loc[:,2:3]"
   ]
  },
  {
   "cell_type": "markdown",
   "id": "1a8bcb21",
   "metadata": {},
   "source": [
    "**DataFrame methods**"
   ]
  },
  {
   "cell_type": "code",
   "execution_count": null,
   "id": "b03b7d0a",
   "metadata": {},
   "outputs": [],
   "source": [
    "df.describe() # generate descriptive statistics (for numeric columns only)"
   ]
  },
  {
   "cell_type": "code",
   "execution_count": null,
   "id": "949fb5b1",
   "metadata": {},
   "outputs": [],
   "source": [
    "df.head(4) # first n rows"
   ]
  },
  {
   "cell_type": "code",
   "execution_count": null,
   "id": "d1796e9a",
   "metadata": {},
   "outputs": [],
   "source": [
    "df.tail(3) # last n rows"
   ]
  },
  {
   "cell_type": "code",
   "execution_count": null,
   "id": "fd7a0cfc",
   "metadata": {},
   "outputs": [],
   "source": [
    "df.min() # return min values for all numeric columns"
   ]
  },
  {
   "cell_type": "code",
   "execution_count": null,
   "id": "41ac1dc8",
   "metadata": {},
   "outputs": [],
   "source": [
    "df.max() # return max values for all numeric columns"
   ]
  },
  {
   "cell_type": "code",
   "execution_count": null,
   "id": "818ff7be",
   "metadata": {},
   "outputs": [],
   "source": [
    "df.mean() # return mean values for all numeric columns"
   ]
  },
  {
   "cell_type": "code",
   "execution_count": null,
   "id": "eeb2a100",
   "metadata": {},
   "outputs": [],
   "source": [
    "df.median() # return median values for all numeric columns"
   ]
  },
  {
   "cell_type": "code",
   "execution_count": null,
   "id": "f3e7621b",
   "metadata": {},
   "outputs": [],
   "source": [
    "df.std() # return standard deviation values for all numeric columns"
   ]
  },
  {
   "cell_type": "code",
   "execution_count": null,
   "id": "b9b0feb1",
   "metadata": {},
   "outputs": [],
   "source": [
    "df.sample(3) # return a random sample of the data frame. if n not specified it returns one row"
   ]
  },
  {
   "cell_type": "code",
   "execution_count": null,
   "id": "d8edcac1",
   "metadata": {},
   "outputs": [],
   "source": [
    "df.dropna() # drop all the records with missing values"
   ]
  },
  {
   "cell_type": "code",
   "execution_count": null,
   "id": "949e225b",
   "metadata": {},
   "outputs": [],
   "source": [
    "df.groupby(\"Region\") # group data based on some criteria and calculate summary statistics\n",
    "df"
   ]
  },
  {
   "cell_type": "markdown",
   "id": "df9356a5",
   "metadata": {},
   "source": [
    "**DateFrame Attributes**"
   ]
  },
  {
   "cell_type": "code",
   "execution_count": null,
   "id": "e98166e6",
   "metadata": {},
   "outputs": [],
   "source": [
    "df.dtypes      # list the types of columns"
   ]
  },
  {
   "cell_type": "code",
   "execution_count": null,
   "id": "a87d7ed1",
   "metadata": {},
   "outputs": [],
   "source": [
    "df.columns       # list the column names"
   ]
  },
  {
   "cell_type": "code",
   "execution_count": null,
   "id": "afe58a92",
   "metadata": {},
   "outputs": [],
   "source": [
    "df.axes         # list the row labels and column names"
   ]
  },
  {
   "cell_type": "code",
   "execution_count": null,
   "id": "4d9cd465",
   "metadata": {},
   "outputs": [],
   "source": [
    "df.ndim        # number of dimensions "
   ]
  },
  {
   "cell_type": "code",
   "execution_count": null,
   "id": "18474d20",
   "metadata": {},
   "outputs": [],
   "source": [
    "df.size       # number of elements"
   ]
  },
  {
   "cell_type": "code",
   "execution_count": null,
   "id": "ecba114a",
   "metadata": {},
   "outputs": [],
   "source": [
    "df.shape     # return a tuple representing the dimensionality"
   ]
  },
  {
   "cell_type": "code",
   "execution_count": null,
   "id": "083181b2",
   "metadata": {},
   "outputs": [],
   "source": [
    "df.values   # numpy representation of the data"
   ]
  },
  {
   "cell_type": "markdown",
   "id": "dd1f5a3d",
   "metadata": {},
   "source": [
    "**Working with missing values**"
   ]
  },
  {
   "cell_type": "markdown",
   "id": "68266f9e",
   "metadata": {},
   "source": [
    "**These functions can also be used with missing values in Pandas Series:**\n",
    "* isnull()\n",
    "* notnull()\n",
    "* dropna()\n",
    "* fillna()\n",
    "* replace()\n",
    "* interpolate()"
   ]
  },
  {
   "cell_type": "code",
   "execution_count": null,
   "id": "df7c2a78",
   "metadata": {},
   "outputs": [],
   "source": [
    "df.loc[df.isnull().any(axis=1)]               # specify missing row \n",
    "                                              # Axis 0 finds the missing v alue for all the ROWS in each COLUMN\n",
    "                                              # Axis 1 finds the missing v alues for all the COLUMNS in each ROW"
   ]
  },
  {
   "cell_type": "code",
   "execution_count": null,
   "id": "104da136",
   "metadata": {},
   "outputs": [],
   "source": [
    "df.isnull().sum()   # number of missing values in each column"
   ]
  },
  {
   "cell_type": "code",
   "execution_count": null,
   "id": "c6c039f3",
   "metadata": {},
   "outputs": [],
   "source": [
    "df.isnull().sum().sum()   # number of all null values"
   ]
  },
  {
   "cell_type": "markdown",
   "id": "0ebe92eb",
   "metadata": {},
   "source": [
    "We can also use any() method. It tell which row (axis=1) or column (axis=0) contains null values. "
   ]
  },
  {
   "cell_type": "code",
   "execution_count": null,
   "id": "fb6b1d98",
   "metadata": {},
   "outputs": [],
   "source": [
    "df.isnull().any(axis=0) # columns with null values"
   ]
  },
  {
   "cell_type": "code",
   "execution_count": null,
   "id": "285e0db5",
   "metadata": {},
   "outputs": [],
   "source": [
    "df.isnull().any(axis=1) # rows with null values. shows row number "
   ]
  },
  {
   "cell_type": "code",
   "execution_count": null,
   "id": "ecd2efcf",
   "metadata": {},
   "outputs": [],
   "source": [
    "df.loc[df.isnull().any(axis=1)] # shows the whole rows with nulls"
   ]
  },
  {
   "cell_type": "markdown",
   "id": "d57bc29b",
   "metadata": {},
   "source": [
    "use **~** to extract out the selected values"
   ]
  },
  {
   "cell_type": "code",
   "execution_count": null,
   "id": "8c4d7740",
   "metadata": {},
   "outputs": [],
   "source": [
    "df.loc[~df.isnull().any(axis=1)] # return all rows except those with null values"
   ]
  },
  {
   "cell_type": "code",
   "execution_count": null,
   "id": "35b51bf9",
   "metadata": {
    "scrolled": true
   },
   "outputs": [],
   "source": [
    "df. dropna() # drop rows with nulll values"
   ]
  },
  {
   "cell_type": "code",
   "execution_count": null,
   "id": "2ec98cd2",
   "metadata": {},
   "outputs": [],
   "source": [
    "df.fillna(0) # fill the null values with 0"
   ]
  },
  {
   "cell_type": "code",
   "execution_count": null,
   "id": "1b236923",
   "metadata": {},
   "outputs": [],
   "source": [
    "df['City'] = df['City'].replace(np.nan, 'Unkown') # replace null values with specifc value\n",
    "df"
   ]
  },
  {
   "cell_type": "code",
   "execution_count": null,
   "id": "8b700def",
   "metadata": {},
   "outputs": [],
   "source": [
    "df['Quantity'] = df['Quantity'].replace(np.nan, df['Quantity'].mean()) # replace with calculated value\n",
    "df"
   ]
  },
  {
   "cell_type": "code",
   "execution_count": null,
   "id": "840e8a22",
   "metadata": {},
   "outputs": [],
   "source": [
    "df.sum(skipna = True) # skipna used to ignore null values "
   ]
  },
  {
   "cell_type": "markdown",
   "id": "d5b5c0f4",
   "metadata": {},
   "source": [
    "**Remove Duplicates**"
   ]
  },
  {
   "cell_type": "code",
   "execution_count": null,
   "id": "43c631e6",
   "metadata": {},
   "outputs": [],
   "source": [
    "print(df.duplicated()) # check if there are any duplicates"
   ]
  },
  {
   "cell_type": "code",
   "execution_count": null,
   "id": "d07b14c8",
   "metadata": {},
   "outputs": [],
   "source": [
    "df.drop_duplicates()  # remove all duplicated rows"
   ]
  },
  {
   "cell_type": "markdown",
   "id": "305b9757",
   "metadata": {},
   "source": [
    "**reset indexes**"
   ]
  },
  {
   "cell_type": "code",
   "execution_count": null,
   "id": "74806788",
   "metadata": {},
   "outputs": [],
   "source": [
    "df.dropna()"
   ]
  },
  {
   "cell_type": "code",
   "execution_count": null,
   "id": "70fdce9a",
   "metadata": {
    "scrolled": true
   },
   "outputs": [],
   "source": [
    "df = df.reset_index()\n",
    "df"
   ]
  },
  {
   "cell_type": "markdown",
   "id": "02713187",
   "metadata": {},
   "source": [
    "**EDA**\n",
    "\n",
    "Lets try our following quesrues\n",
    "\n",
    "* Extraxt name and age with satisfaction level \"highly Satisfied\"\n",
    "* What percentage of male employee have income greater then 50k\n",
    "* What is the median income of Junior employees\n",
    "* What is the minimum income of employee in each satisfaction category\n",
    "* Who are more satisfied: Male or Female"
   ]
  },
  {
   "cell_type": "code",
   "execution_count": null,
   "id": "c4383cae",
   "metadata": {
    "scrolled": false
   },
   "outputs": [],
   "source": [
    "df = pd.read_excel(\"employee_satisfaction.xlsx\")\n",
    "df"
   ]
  },
  {
   "cell_type": "code",
   "execution_count": null,
   "id": "8ed76b40",
   "metadata": {},
   "outputs": [],
   "source": [
    "# data cleansing\n",
    "df = df.drop_duplicates()\n",
    "df = df.dropna()\n",
    "df"
   ]
  },
  {
   "cell_type": "markdown",
   "id": "d6a93acf",
   "metadata": {},
   "source": [
    " name and age with satisfaction level \"highly Satisfied\""
   ]
  },
  {
   "cell_type": "code",
   "execution_count": null,
   "id": "f2da915d",
   "metadata": {},
   "outputs": [],
   "source": [
    "df[df[\"Satisfaction\"] == \"Highly Satisfied\"] [[\"Name\", \"Age\"]]"
   ]
  },
  {
   "cell_type": "markdown",
   "id": "f77c0fb1",
   "metadata": {},
   "source": [
    "percentage of male employee have income greater then 50k"
   ]
  },
  {
   "cell_type": "code",
   "execution_count": null,
   "id": "d82cd087",
   "metadata": {},
   "outputs": [],
   "source": [
    "newdf = df[(df[\"Income\"] > 50000) & (df[\"Gender\"] == \"Male\")] # first step: extract the male who earn > 50k\n",
    "newdf"
   ]
  },
  {
   "cell_type": "code",
   "execution_count": null,
   "id": "4988ada0",
   "metadata": {},
   "outputs": [],
   "source": [
    "len(newdf) # second step: get the number of them"
   ]
  },
  {
   "cell_type": "code",
   "execution_count": null,
   "id": "0cfe5104",
   "metadata": {},
   "outputs": [],
   "source": [
    "len(df) # third step: get the total number "
   ]
  },
  {
   "cell_type": "code",
   "execution_count": null,
   "id": "004ab3ae",
   "metadata": {},
   "outputs": [],
   "source": [
    "precentage = (len(newdf)/len(df))* 100 # finally calculate the percentage\n",
    "precentage"
   ]
  },
  {
   "cell_type": "markdown",
   "id": "a60151b7",
   "metadata": {},
   "source": [
    " median income of Junior employees"
   ]
  },
  {
   "cell_type": "code",
   "execution_count": null,
   "id": "c80de815",
   "metadata": {},
   "outputs": [],
   "source": [
    "df[df[\"Level\"] == \"Junior\"][\"Income\"].median()"
   ]
  },
  {
   "cell_type": "markdown",
   "id": "1b864a17",
   "metadata": {},
   "source": [
    " minimum income of employee in each satisfaction category"
   ]
  },
  {
   "cell_type": "code",
   "execution_count": null,
   "id": "f3b5f6d5",
   "metadata": {},
   "outputs": [],
   "source": [
    "df.groupby(\"Satisfaction\")[\"Income\"].min()"
   ]
  },
  {
   "cell_type": "code",
   "execution_count": null,
   "id": "0427eb3e",
   "metadata": {},
   "outputs": [],
   "source": [
    "df.groupby(\"Satisfaction\").min() # for all coulmns"
   ]
  },
  {
   "cell_type": "markdown",
   "id": "4b1ad978",
   "metadata": {},
   "source": [
    "Who are more satisfied: Male or Female"
   ]
  },
  {
   "cell_type": "code",
   "execution_count": null,
   "id": "4ea01aaa",
   "metadata": {
    "scrolled": true
   },
   "outputs": [],
   "source": [
    "new = df[df[\"Satisfaction\"].isin([\"Highly Satisfied\", \"Satisfied\"])]\n",
    "new\n",
    "new.groupby(\"Gender\")[\"Satisfaction\"].count()\n",
    "         "
   ]
  },
  {
   "cell_type": "markdown",
   "id": "1eaa26f6",
   "metadata": {},
   "source": [
    "Other important methods\n",
    "* value_counts()\n",
    "* sort_values()\n",
    "* unique()\n",
    "* nunique()\n",
    "* quantile()\n",
    "* rename()\n",
    "* drop()\n",
    "* cut()\n",
    "* concat()\n",
    "* merge()\n",
    "* pivot()\n",
    "* pivot_table()"
   ]
  },
  {
   "cell_type": "code",
   "execution_count": null,
   "id": "c4744f53",
   "metadata": {},
   "outputs": [],
   "source": [
    "df[\"Satisfaction\"].value_counts()"
   ]
  },
  {
   "cell_type": "code",
   "execution_count": null,
   "id": "d774e62e",
   "metadata": {},
   "outputs": [],
   "source": [
    "df[\"Age\"].sort_values()"
   ]
  },
  {
   "cell_type": "code",
   "execution_count": null,
   "id": "775f7940",
   "metadata": {},
   "outputs": [],
   "source": [
    "df.sort_values(\"Age\").head(5)"
   ]
  },
  {
   "cell_type": "code",
   "execution_count": null,
   "id": "137cc8c4",
   "metadata": {},
   "outputs": [],
   "source": [
    "df.sort_values(by = \"Age\", ascending = False).head(5)"
   ]
  },
  {
   "cell_type": "code",
   "execution_count": null,
   "id": "2b2bf258",
   "metadata": {},
   "outputs": [],
   "source": [
    "df[\"Level\"].unique()  # return the unique values in the column"
   ]
  },
  {
   "cell_type": "code",
   "execution_count": null,
   "id": "439eb127",
   "metadata": {},
   "outputs": [],
   "source": [
    "df.nunique() # number of unique values in each column"
   ]
  },
  {
   "cell_type": "code",
   "execution_count": null,
   "id": "40512370",
   "metadata": {},
   "outputs": [],
   "source": [
    "df[\"Age\"].quantile(0.75) # the 75th quantile"
   ]
  },
  {
   "cell_type": "code",
   "execution_count": null,
   "id": "9ce6798c",
   "metadata": {},
   "outputs": [],
   "source": [
    "df = df.rename(columns= {\"Level\":\"Experience\"}) # rename coulmn\n",
    "df.head(3)"
   ]
  },
  {
   "cell_type": "code",
   "execution_count": null,
   "id": "10c80cee",
   "metadata": {},
   "outputs": [],
   "source": [
    "df = df.drop(columns = \"index\")\n",
    "df.head(3)"
   ]
  },
  {
   "cell_type": "code",
   "execution_count": null,
   "id": "6a831da0",
   "metadata": {},
   "outputs": [],
   "source": [
    "df[\"AgeBins\"] = pd.cut(df.Age, bins=3, right= True) # creating bins\n",
    "df"
   ]
  },
  {
   "cell_type": "code",
   "execution_count": null,
   "id": "86b6558e",
   "metadata": {},
   "outputs": [],
   "source": [
    "df[\"AgeBins\"] = pd.cut(df.Age, bins = 3, labels= [\"Young\", \"Mid-age\", \"Old\"])\n",
    "df"
   ]
  },
  {
   "cell_type": "markdown",
   "id": "b5c6b543",
   "metadata": {},
   "source": [
    "**Concat**"
   ]
  },
  {
   "cell_type": "code",
   "execution_count": null,
   "id": "d9c17b1a",
   "metadata": {},
   "outputs": [],
   "source": [
    "df1 = pd.DataFrame([[2021, 2.0],[2018, 1.8],[2022, 1.8]],\n",
    "     index=['Toyota', 'Honda', 'Nissan'],\n",
    "     columns=['Model Year', 'Engine Size'])    \n",
    "df1        "
   ]
  },
  {
   "cell_type": "code",
   "execution_count": null,
   "id": "a910d032",
   "metadata": {},
   "outputs": [],
   "source": [
    "df2 = pd.DataFrame([[2021, 2.4], [2017, 3.0], [2020, 1.4]],\n",
    "     index=['BMW', 'Mercedez', 'Ford'],\n",
    "     columns=['Model Year', 'Engine Size'])\n",
    "df2"
   ]
  },
  {
   "cell_type": "code",
   "execution_count": null,
   "id": "a3bcf384",
   "metadata": {},
   "outputs": [],
   "source": [
    "pd.concat([df1,df2]) # concat rows"
   ]
  },
  {
   "cell_type": "code",
   "execution_count": null,
   "id": "77a6c334",
   "metadata": {},
   "outputs": [],
   "source": [
    "df3 = pd.DataFrame([[\"Black\", 1], [\"White\", 3], [\"Gray\", 1]],\n",
    "     index=['Toyota', 'Honda', 'Nissan'],\n",
    "     columns=['Colour', 'No. of Owners'])\n",
    "df3"
   ]
  },
  {
   "cell_type": "code",
   "execution_count": null,
   "id": "744abd3e",
   "metadata": {},
   "outputs": [],
   "source": [
    "pd.concat([df1,df3], axis=1) # concat coulmns"
   ]
  },
  {
   "cell_type": "markdown",
   "id": "a0624ad8",
   "metadata": {},
   "source": [
    "**Merge**"
   ]
  },
  {
   "cell_type": "code",
   "execution_count": null,
   "id": "b6f48aab",
   "metadata": {},
   "outputs": [],
   "source": [
    "df1 = pd.DataFrame([[121, \"Mark\", \"Wood\"], [122, \"Ahmed\", \"Raza\"], [123, \"Sara\", \"Hadley\"], [124, \"Richard\", \"Savage\"]],\n",
    "     columns=['empID', 'First Name', \"Last Name\"])\n",
    "df1"
   ]
  },
  {
   "cell_type": "code",
   "execution_count": null,
   "id": "cf495784",
   "metadata": {},
   "outputs": [],
   "source": [
    "df2 = pd.DataFrame([[124, \"London\", \"Sales\"], [122, \"Paris\", \"IT\"], [121, \"Barcelona\", \"Sales\"], [123, \"Budapest\", \"Marketing\"]],\n",
    "     columns=['ID', 'City', \"Department\"])\n",
    "df2"
   ]
  },
  {
   "cell_type": "code",
   "execution_count": null,
   "id": "8a963661",
   "metadata": {},
   "outputs": [],
   "source": [
    "df1.merge(df2, how= \"left\", left_on=\"empID\", right_on=\"ID\")"
   ]
  },
  {
   "cell_type": "code",
   "execution_count": null,
   "id": "2328e5ed",
   "metadata": {},
   "outputs": [],
   "source": [
    "df1.merge(df2, how= \"right\", left_on= \"empID\", right_on=\"ID\")"
   ]
  },
  {
   "cell_type": "code",
   "execution_count": null,
   "id": "b9c8a2a1",
   "metadata": {
    "scrolled": true
   },
   "outputs": [],
   "source": [
    "df1.merge(df2, how= \"inner\", left_on= \"empID\", right_on=\"ID\")"
   ]
  },
  {
   "cell_type": "code",
   "execution_count": null,
   "id": "8a57985e",
   "metadata": {},
   "outputs": [],
   "source": [
    "# create a pivot table\n",
    "df2 = df2.pivot(index='ID', columns='Department', values='City')\n",
    "df2"
   ]
  },
  {
   "cell_type": "code",
   "execution_count": null,
   "id": "13e75931",
   "metadata": {},
   "outputs": [],
   "source": [
    "df1.dtypes  # data types of each column"
   ]
  },
  {
   "cell_type": "code",
   "execution_count": null,
   "id": "9ecf9652",
   "metadata": {},
   "outputs": [],
   "source": [
    "df1[\"empID\"].astype(int)"
   ]
  },
  {
   "cell_type": "markdown",
   "id": "55f208fe",
   "metadata": {},
   "source": [
    "# datetime module"
   ]
  },
  {
   "cell_type": "code",
   "execution_count": null,
   "id": "39727793",
   "metadata": {},
   "outputs": [],
   "source": [
    "import datetime\n",
    "x = datetime.datetime.now()\n",
    "x"
   ]
  },
  {
   "cell_type": "code",
   "execution_count": null,
   "id": "8a3a379f",
   "metadata": {},
   "outputs": [],
   "source": [
    "print(x.year)\n",
    "print(x.month)\n",
    "print(x.day)"
   ]
  },
  {
   "cell_type": "code",
   "execution_count": null,
   "id": "e5aac9e8",
   "metadata": {},
   "outputs": [],
   "source": [
    "print(x.strftime(\"%A\"))  # %A returns the weekday"
   ]
  },
  {
   "cell_type": "code",
   "execution_count": null,
   "id": "16751a57",
   "metadata": {},
   "outputs": [],
   "source": [
    "print(x.strftime(\"%B\")) # %B returns month"
   ]
  },
  {
   "cell_type": "code",
   "execution_count": null,
   "id": "a22ac12e",
   "metadata": {},
   "outputs": [],
   "source": [
    "print(x.strftime(\"%C\")) # %C returns ????"
   ]
  },
  {
   "cell_type": "code",
   "execution_count": null,
   "id": "ba23c7d2",
   "metadata": {},
   "outputs": [],
   "source": [
    "# using pandas to get the timestamp\n",
    "import pandas as pd\n",
    "date = pd.to_datetime(\"today\") # to_datetime converts the string into timestamp\n",
    "date"
   ]
  },
  {
   "cell_type": "code",
   "execution_count": null,
   "id": "efa86985",
   "metadata": {},
   "outputs": [],
   "source": [
    "date = pd.to_datetime(\"12th of June 2034\")\n",
    "date"
   ]
  },
  {
   "cell_type": "code",
   "execution_count": null,
   "id": "d2a0217b",
   "metadata": {},
   "outputs": [],
   "source": [
    "# using numpy operations to add days to the date\n",
    "\n",
    "import numpy as np\n",
    "date + pd.to_timedelta(np.arange(12), 'D')"
   ]
  },
  {
   "cell_type": "code",
   "execution_count": null,
   "id": "5443c7b1",
   "metadata": {},
   "outputs": [],
   "source": [
    "index = pd.DatetimeIndex(['2022-10-13', '2022-11-13', '2023-10-13', '2023-11-13']) # index by timestamps(use dates as indexes)\n",
    "data = pd.Series([0,1,2,3], index= index)\n",
    "data                          "
   ]
  },
  {
   "cell_type": "code",
   "execution_count": null,
   "id": "4752207e",
   "metadata": {},
   "outputs": [],
   "source": [
    "data['2022-10-13':'2022-11-13']  # slicing timestamps"
   ]
  },
  {
   "cell_type": "code",
   "execution_count": null,
   "id": "84707fbc",
   "metadata": {},
   "outputs": [],
   "source": [
    "data['2023'] # slicing using year only"
   ]
  },
  {
   "cell_type": "code",
   "execution_count": null,
   "id": "2639bd25",
   "metadata": {},
   "outputs": [],
   "source": [
    "pd.date_range('2023-1-12', '2023-1-20') # date range in regular frequency which is day (freq='D')"
   ]
  },
  {
   "cell_type": "code",
   "execution_count": null,
   "id": "eaf27b01",
   "metadata": {},
   "outputs": [],
   "source": [
    "pd.date_range('2023-1-12', periods=9) # using periods to specify the range"
   ]
  },
  {
   "cell_type": "code",
   "execution_count": null,
   "id": "9a6f0cde",
   "metadata": {},
   "outputs": [],
   "source": [
    "pd.date_range('2023-12-12', periods=9, freq='H')  # frequency by hours"
   ]
  },
  {
   "cell_type": "code",
   "execution_count": null,
   "id": "1c4c33e5",
   "metadata": {},
   "outputs": [],
   "source": [
    "pd.date_range('2023-12-12', periods=9, freq='M') # frequency by months"
   ]
  },
  {
   "cell_type": "code",
   "execution_count": null,
   "id": "6fda9a72",
   "metadata": {},
   "outputs": [],
   "source": [
    "pd.date_range('2023-12-12', periods=9, freq='Y') # frequency by years"
   ]
  },
  {
   "cell_type": "markdown",
   "id": "153a2542",
   "metadata": {},
   "source": [
    "## Date formats"
   ]
  },
  {
   "cell_type": "code",
   "execution_count": null,
   "id": "7e9e2839",
   "metadata": {},
   "outputs": [],
   "source": [
    "import datetime\n",
    "x = datetime.datetime(2015,11,13)"
   ]
  },
  {
   "cell_type": "code",
   "execution_count": null,
   "id": "ac50c494",
   "metadata": {},
   "outputs": [],
   "source": [
    "print(x.strftime(\"%A\"))"
   ]
  },
  {
   "cell_type": "markdown",
   "id": "34f68f9d",
   "metadata": {},
   "source": [
    "# Data Cleansing"
   ]
  },
  {
   "cell_type": "code",
   "execution_count": null,
   "id": "ae759590",
   "metadata": {},
   "outputs": [],
   "source": [
    "import pandas as pd\n",
    "df = pd.read_csv(\"Food samples.csv\")\n",
    "df"
   ]
  },
  {
   "cell_type": "code",
   "execution_count": null,
   "id": "bdd32cfc",
   "metadata": {},
   "outputs": [],
   "source": [
    "df = df.dropna().reset_index(drop = True) # drop null values and reset the index\n",
    "df"
   ]
  },
  {
   "cell_type": "code",
   "execution_count": null,
   "id": "8a7a4add",
   "metadata": {},
   "outputs": [],
   "source": [
    "df = df.dropna(how = 'all').reset_index(drop= True) # drop Nan where all row is null\n",
    "df"
   ]
  },
  {
   "cell_type": "code",
   "execution_count": null,
   "id": "06b14b2e",
   "metadata": {},
   "outputs": [],
   "source": [
    "df = df.dropna(subset = [\"OrderDate\", \"City\", \"Category\"]) # drop nan in specified columns\n",
    "df"
   ]
  },
  {
   "cell_type": "code",
   "execution_count": null,
   "id": "9511eb12",
   "metadata": {},
   "outputs": [],
   "source": [
    "df.drop([\"id\"], axis = 1, inplace = True) # inplace = True makes all the changes in the existing dataframe \n",
    "df"
   ]
  },
  {
   "cell_type": "markdown",
   "id": "f481d669",
   "metadata": {},
   "source": [
    "### Arithmatic operation on columns"
   ]
  },
  {
   "cell_type": "code",
   "execution_count": null,
   "id": "19038b68",
   "metadata": {},
   "outputs": [],
   "source": [
    "df[\"TotalPrice\"] = df[\"Quantity\"] * df[\"UnitPrice\"]\n",
    "df"
   ]
  },
  {
   "cell_type": "code",
   "execution_count": null,
   "id": "0a2257c2",
   "metadata": {},
   "outputs": [],
   "source": [
    "df.drop([\"TotalPrice\"], axis=1, inplace= True)"
   ]
  },
  {
   "cell_type": "code",
   "execution_count": null,
   "id": "e0541cb9",
   "metadata": {},
   "outputs": [],
   "source": [
    "df[\"TotalPrice\"]= df.apply(lambda x: x[\"Quantity\"] * x[\"UnitPrice\"], axis =1) # Using apply and Lambda\n",
    "df"
   ]
  },
  {
   "cell_type": "markdown",
   "id": "7e467e27",
   "metadata": {},
   "source": [
    "### Unique value and value counts"
   ]
  },
  {
   "cell_type": "code",
   "execution_count": null,
   "id": "85366fc5",
   "metadata": {},
   "outputs": [],
   "source": [
    "df.City.unique()  # unique cities"
   ]
  },
  {
   "cell_type": "code",
   "execution_count": null,
   "id": "421fbc01",
   "metadata": {},
   "outputs": [],
   "source": [
    "df.City.unique().tolist() # convert array to list"
   ]
  },
  {
   "cell_type": "code",
   "execution_count": null,
   "id": "953338b1",
   "metadata": {},
   "outputs": [],
   "source": [
    "df.City.value_counts() # count number of each city recurrence"
   ]
  },
  {
   "cell_type": "code",
   "execution_count": null,
   "id": "7e592921",
   "metadata": {},
   "outputs": [],
   "source": [
    "df.info() # OrderDate column should be datetime datatype"
   ]
  },
  {
   "cell_type": "code",
   "execution_count": null,
   "id": "f9a6b864",
   "metadata": {},
   "outputs": [],
   "source": [
    "df[\"OrderDate\"]= pd.to_datetime(df[\"OrderDate\"]) # change to datetime datatype\n",
    "df.info()"
   ]
  },
  {
   "cell_type": "code",
   "execution_count": null,
   "id": "1a671c58",
   "metadata": {},
   "outputs": [],
   "source": [
    "df[\"Category\"] = df[\"Category\"].astype(\"category\") # convert somecoulmns to category datatype\n",
    "df[\"Product\"] = df[\"Product\"].astype(\"category\")\n",
    "df.info()"
   ]
  },
  {
   "cell_type": "markdown",
   "id": "11cef129",
   "metadata": {},
   "source": [
    "## Activity\n",
    "Data exploration and getting ready for EDA\n",
    "\n",
    "* Load sales.csv data and explore it.  \n",
    "* Once get familiarize, clean the data is it is needed."
   ]
  },
  {
   "cell_type": "code",
   "execution_count": null,
   "id": "8b751f24",
   "metadata": {},
   "outputs": [],
   "source": [
    "## Data Exploration:\n",
    "\n",
    "# Describe\n",
    "# info\n",
    "# Duplicate\n",
    "# NAN\n",
    "# Iterate column by column\n",
    "# Datatypes\n",
    "\n",
    "#-----------------------------\n",
    "## Data cleaning:\n",
    "\n",
    "# Delete the duplicate rows \n",
    "# Impute (replace) the nan values\n",
    "# Delete the remaining nan values\n",
    "# Replace the values as needed (spelling meistakes,..etc)\n",
    "#change the data types\n",
    "# Engineer new features (i.e name to first and second nname)\n",
    "# Drop unwanted columns \n",
    "\n",
    "#---------------------------------\n",
    "## automate function:\n",
    "\n",
    "# write all these steps in one cell and create a function : data_preparation(df)\n",
    "# return df\n",
    "#df = data_preparation(df)"
   ]
  },
  {
   "cell_type": "code",
   "execution_count": null,
   "id": "06a81f46",
   "metadata": {},
   "outputs": [],
   "source": [
    "df = pd.read_csv(\"sales.csv\")\n",
    "df.head()"
   ]
  },
  {
   "cell_type": "code",
   "execution_count": null,
   "id": "ff6c91b4",
   "metadata": {},
   "outputs": [],
   "source": [
    "df.info()"
   ]
  },
  {
   "cell_type": "code",
   "execution_count": null,
   "id": "bec88f98",
   "metadata": {},
   "outputs": [],
   "source": [
    "df.describe()"
   ]
  },
  {
   "cell_type": "code",
   "execution_count": null,
   "id": "018c2860",
   "metadata": {},
   "outputs": [],
   "source": [
    "df.duplicated().count()"
   ]
  },
  {
   "cell_type": "code",
   "execution_count": null,
   "id": "edfc9803",
   "metadata": {},
   "outputs": [],
   "source": [
    "df.drop_duplicates()"
   ]
  },
  {
   "cell_type": "code",
   "execution_count": null,
   "id": "4c0c8670",
   "metadata": {},
   "outputs": [],
   "source": [
    "df.isnull().sum()"
   ]
  },
  {
   "cell_type": "code",
   "execution_count": null,
   "id": "395641f4",
   "metadata": {},
   "outputs": [],
   "source": [
    "df.isnull().sum().sum()"
   ]
  },
  {
   "cell_type": "code",
   "execution_count": null,
   "id": "a46af026",
   "metadata": {},
   "outputs": [],
   "source": [
    "df.isnull().all().sum()"
   ]
  },
  {
   "cell_type": "code",
   "execution_count": null,
   "id": "c91de8f1",
   "metadata": {},
   "outputs": [],
   "source": [
    "df.loc[df.isnull().any(axis=1)]"
   ]
  },
  {
   "cell_type": "code",
   "execution_count": null,
   "id": "81aa1bc8",
   "metadata": {},
   "outputs": [],
   "source": [
    "df[\"Country\"] = df[\"Country\"].replace(np.nan, \"United States\")"
   ]
  },
  {
   "cell_type": "code",
   "execution_count": null,
   "id": "26e54a1b",
   "metadata": {},
   "outputs": [],
   "source": [
    "df.drop([\"Postal Code\"], axis=1, inplace = True)"
   ]
  },
  {
   "cell_type": "code",
   "execution_count": null,
   "id": "8b1274d1",
   "metadata": {},
   "outputs": [],
   "source": [
    "df.isnull().sum().sum()"
   ]
  },
  {
   "cell_type": "code",
   "execution_count": null,
   "id": "d82f3ae4",
   "metadata": {},
   "outputs": [],
   "source": [
    "df.drop([\"Row ID\"], axis = 1, inplace= True)"
   ]
  },
  {
   "cell_type": "code",
   "execution_count": null,
   "id": "8553db2f",
   "metadata": {},
   "outputs": [],
   "source": [
    "df.head(2)"
   ]
  },
  {
   "cell_type": "code",
   "execution_count": null,
   "id": "a7e04b35",
   "metadata": {},
   "outputs": [],
   "source": [
    "df.dtypes"
   ]
  },
  {
   "cell_type": "code",
   "execution_count": null,
   "id": "f789c939",
   "metadata": {},
   "outputs": [],
   "source": [
    "df[\"Order Date\"] = pd.to_datetime(df[\"Order Date\"])"
   ]
  },
  {
   "cell_type": "code",
   "execution_count": null,
   "id": "79339392",
   "metadata": {},
   "outputs": [],
   "source": [
    "df[\"Ship Date\"] = pd.to_datetime(df[\"Ship Date\"])"
   ]
  },
  {
   "cell_type": "code",
   "execution_count": null,
   "id": "01088adf",
   "metadata": {},
   "outputs": [],
   "source": [
    "df[\"Segment\"] = df[\"Segment\"].astype(\"category\")"
   ]
  },
  {
   "cell_type": "code",
   "execution_count": null,
   "id": "334604a9",
   "metadata": {},
   "outputs": [],
   "source": [
    "df[\"Category\"] = df[\"Category\"].astype(\"category\")"
   ]
  },
  {
   "cell_type": "code",
   "execution_count": null,
   "id": "82874c67",
   "metadata": {},
   "outputs": [],
   "source": [
    "df[\"Sub-Category\"] = df[\"Sub-Category\"].astype(\"category\")"
   ]
  },
  {
   "cell_type": "code",
   "execution_count": null,
   "id": "d90bf001",
   "metadata": {},
   "outputs": [],
   "source": [
    "df.dtypes"
   ]
  },
  {
   "cell_type": "code",
   "execution_count": null,
   "id": "a6cd0aac",
   "metadata": {},
   "outputs": [],
   "source": [
    "df[['Customer First Name', 'Customer Last Name']] = df['Customer Name'].str.split(' ', 1, expand=True)\n",
    "df"
   ]
  },
  {
   "cell_type": "code",
   "execution_count": null,
   "id": "5f16e2c5",
   "metadata": {},
   "outputs": [],
   "source": [
    "df.drop([\"Customer Name\"], axis= 1, inplace= True)"
   ]
  },
  {
   "cell_type": "code",
   "execution_count": null,
   "id": "95464f10",
   "metadata": {},
   "outputs": [],
   "source": [
    "df"
   ]
  },
  {
   "cell_type": "markdown",
   "id": "1cc6c3c7",
   "metadata": {},
   "source": [
    "# Matplotlib"
   ]
  },
  {
   "cell_type": "code",
   "execution_count": 1,
   "id": "bf0763a8",
   "metadata": {},
   "outputs": [],
   "source": [
    "import matplotlib.pyplot as plt\n",
    "import pandas as pd\n",
    "import numpy as np"
   ]
  },
  {
   "cell_type": "code",
   "execution_count": 2,
   "id": "e61542e4",
   "metadata": {},
   "outputs": [
    {
     "data": {
      "text/html": [
       "<div>\n",
       "<style scoped>\n",
       "    .dataframe tbody tr th:only-of-type {\n",
       "        vertical-align: middle;\n",
       "    }\n",
       "\n",
       "    .dataframe tbody tr th {\n",
       "        vertical-align: top;\n",
       "    }\n",
       "\n",
       "    .dataframe thead th {\n",
       "        text-align: right;\n",
       "    }\n",
       "</style>\n",
       "<table border=\"1\" class=\"dataframe\">\n",
       "  <thead>\n",
       "    <tr style=\"text-align: right;\">\n",
       "      <th></th>\n",
       "      <th>Name</th>\n",
       "      <th>Age</th>\n",
       "      <th>Income</th>\n",
       "      <th>Gender</th>\n",
       "      <th>Level</th>\n",
       "      <th>Priorities</th>\n",
       "      <th>Satisfaction</th>\n",
       "    </tr>\n",
       "  </thead>\n",
       "  <tbody>\n",
       "    <tr>\n",
       "      <th>0</th>\n",
       "      <td>Alan</td>\n",
       "      <td>20.0</td>\n",
       "      <td>33000.0</td>\n",
       "      <td>Male</td>\n",
       "      <td>Junior</td>\n",
       "      <td>Freedom</td>\n",
       "      <td>Neutral</td>\n",
       "    </tr>\n",
       "    <tr>\n",
       "      <th>1</th>\n",
       "      <td>Mark</td>\n",
       "      <td>42.0</td>\n",
       "      <td>NaN</td>\n",
       "      <td>Male</td>\n",
       "      <td>Senior</td>\n",
       "      <td>Life Balance</td>\n",
       "      <td>Satisfied</td>\n",
       "    </tr>\n",
       "    <tr>\n",
       "      <th>2</th>\n",
       "      <td>Sara</td>\n",
       "      <td>NaN</td>\n",
       "      <td>23000.0</td>\n",
       "      <td>Female</td>\n",
       "      <td>Junior</td>\n",
       "      <td>Learning</td>\n",
       "      <td>Highly Satisfied</td>\n",
       "    </tr>\n",
       "    <tr>\n",
       "      <th>3</th>\n",
       "      <td>David</td>\n",
       "      <td>23.0</td>\n",
       "      <td>22000.0</td>\n",
       "      <td>Male</td>\n",
       "      <td>Junior</td>\n",
       "      <td>Freedom</td>\n",
       "      <td>Neutral</td>\n",
       "    </tr>\n",
       "    <tr>\n",
       "      <th>4</th>\n",
       "      <td>Luke</td>\n",
       "      <td>34.0</td>\n",
       "      <td>65000.0</td>\n",
       "      <td>Male</td>\n",
       "      <td>Senior</td>\n",
       "      <td>Entrepreneurship</td>\n",
       "      <td>Unsatisfied</td>\n",
       "    </tr>\n",
       "  </tbody>\n",
       "</table>\n",
       "</div>"
      ],
      "text/plain": [
       "    Name   Age   Income  Gender   Level        Priorities      Satisfaction\n",
       "0   Alan  20.0  33000.0    Male  Junior           Freedom           Neutral\n",
       "1   Mark  42.0      NaN    Male  Senior      Life Balance         Satisfied\n",
       "2   Sara   NaN  23000.0  Female  Junior          Learning  Highly Satisfied\n",
       "3  David  23.0  22000.0    Male  Junior           Freedom           Neutral\n",
       "4   Luke  34.0  65000.0    Male  Senior  Entrepreneurship       Unsatisfied"
      ]
     },
     "execution_count": 2,
     "metadata": {},
     "output_type": "execute_result"
    }
   ],
   "source": [
    "df = pd.read_excel(\"employee_satisfaction.xlsx\")\n",
    "df.head()"
   ]
  },
  {
   "cell_type": "code",
   "execution_count": 3,
   "id": "7c787346",
   "metadata": {},
   "outputs": [
    {
     "data": {
      "text/plain": [
       "Name            0\n",
       "Age             4\n",
       "Income          1\n",
       "Gender          0\n",
       "Level           0\n",
       "Priorities      0\n",
       "Satisfaction    1\n",
       "dtype: int64"
      ]
     },
     "execution_count": 3,
     "metadata": {},
     "output_type": "execute_result"
    }
   ],
   "source": [
    "df.isnull().sum()"
   ]
  },
  {
   "cell_type": "code",
   "execution_count": 4,
   "id": "18755080",
   "metadata": {},
   "outputs": [
    {
     "data": {
      "text/html": [
       "<div>\n",
       "<style scoped>\n",
       "    .dataframe tbody tr th:only-of-type {\n",
       "        vertical-align: middle;\n",
       "    }\n",
       "\n",
       "    .dataframe tbody tr th {\n",
       "        vertical-align: top;\n",
       "    }\n",
       "\n",
       "    .dataframe thead th {\n",
       "        text-align: right;\n",
       "    }\n",
       "</style>\n",
       "<table border=\"1\" class=\"dataframe\">\n",
       "  <thead>\n",
       "    <tr style=\"text-align: right;\">\n",
       "      <th></th>\n",
       "      <th>index</th>\n",
       "      <th>Name</th>\n",
       "      <th>Age</th>\n",
       "      <th>Income</th>\n",
       "      <th>Gender</th>\n",
       "      <th>Level</th>\n",
       "      <th>Priorities</th>\n",
       "      <th>Satisfaction</th>\n",
       "    </tr>\n",
       "  </thead>\n",
       "  <tbody>\n",
       "    <tr>\n",
       "      <th>0</th>\n",
       "      <td>7</td>\n",
       "      <td>Tanya</td>\n",
       "      <td>10.0</td>\n",
       "      <td>51000.0</td>\n",
       "      <td>Female</td>\n",
       "      <td>Senior</td>\n",
       "      <td>Freedom</td>\n",
       "      <td>Neutral</td>\n",
       "    </tr>\n",
       "    <tr>\n",
       "      <th>1</th>\n",
       "      <td>0</td>\n",
       "      <td>Alan</td>\n",
       "      <td>20.0</td>\n",
       "      <td>33000.0</td>\n",
       "      <td>Male</td>\n",
       "      <td>Junior</td>\n",
       "      <td>Freedom</td>\n",
       "      <td>Neutral</td>\n",
       "    </tr>\n",
       "    <tr>\n",
       "      <th>2</th>\n",
       "      <td>18</td>\n",
       "      <td>Charlie</td>\n",
       "      <td>22.0</td>\n",
       "      <td>25000.0</td>\n",
       "      <td>Male</td>\n",
       "      <td>Junior</td>\n",
       "      <td>Life Balance</td>\n",
       "      <td>NaN</td>\n",
       "    </tr>\n",
       "    <tr>\n",
       "      <th>3</th>\n",
       "      <td>3</td>\n",
       "      <td>David</td>\n",
       "      <td>23.0</td>\n",
       "      <td>22000.0</td>\n",
       "      <td>Male</td>\n",
       "      <td>Junior</td>\n",
       "      <td>Freedom</td>\n",
       "      <td>Neutral</td>\n",
       "    </tr>\n",
       "    <tr>\n",
       "      <th>4</th>\n",
       "      <td>5</td>\n",
       "      <td>Maria</td>\n",
       "      <td>23.0</td>\n",
       "      <td>22000.0</td>\n",
       "      <td>Female</td>\n",
       "      <td>Junior</td>\n",
       "      <td>Learning</td>\n",
       "      <td>Satisfied</td>\n",
       "    </tr>\n",
       "    <tr>\n",
       "      <th>5</th>\n",
       "      <td>11</td>\n",
       "      <td>Henry</td>\n",
       "      <td>23.0</td>\n",
       "      <td>27000.0</td>\n",
       "      <td>Male</td>\n",
       "      <td>Junior</td>\n",
       "      <td>Life Balance</td>\n",
       "      <td>Neutral</td>\n",
       "    </tr>\n",
       "    <tr>\n",
       "      <th>6</th>\n",
       "      <td>15</td>\n",
       "      <td>Freya</td>\n",
       "      <td>27.0</td>\n",
       "      <td>23000.0</td>\n",
       "      <td>Female</td>\n",
       "      <td>Junior</td>\n",
       "      <td>Learning</td>\n",
       "      <td>Unsatisfied</td>\n",
       "    </tr>\n",
       "    <tr>\n",
       "      <th>7</th>\n",
       "      <td>9</td>\n",
       "      <td>Hileni</td>\n",
       "      <td>27.0</td>\n",
       "      <td>44000.0</td>\n",
       "      <td>Female</td>\n",
       "      <td>Mid</td>\n",
       "      <td>Management</td>\n",
       "      <td>Highly Unsatisfied</td>\n",
       "    </tr>\n",
       "    <tr>\n",
       "      <th>8</th>\n",
       "      <td>22</td>\n",
       "      <td>Hileni</td>\n",
       "      <td>27.0</td>\n",
       "      <td>44000.0</td>\n",
       "      <td>Female</td>\n",
       "      <td>Mid</td>\n",
       "      <td>Management</td>\n",
       "      <td>Highly Unsatisfied</td>\n",
       "    </tr>\n",
       "    <tr>\n",
       "      <th>9</th>\n",
       "      <td>4</td>\n",
       "      <td>Luke</td>\n",
       "      <td>34.0</td>\n",
       "      <td>65000.0</td>\n",
       "      <td>Male</td>\n",
       "      <td>Senior</td>\n",
       "      <td>Entrepreneurship</td>\n",
       "      <td>Unsatisfied</td>\n",
       "    </tr>\n",
       "    <tr>\n",
       "      <th>10</th>\n",
       "      <td>19</td>\n",
       "      <td>Leo</td>\n",
       "      <td>37.0</td>\n",
       "      <td>40000.0</td>\n",
       "      <td>Male</td>\n",
       "      <td>Mid</td>\n",
       "      <td>Hello</td>\n",
       "      <td>Highly Satisfied</td>\n",
       "    </tr>\n",
       "    <tr>\n",
       "      <th>11</th>\n",
       "      <td>10</td>\n",
       "      <td>Tim</td>\n",
       "      <td>38.0</td>\n",
       "      <td>45000.0</td>\n",
       "      <td>Male</td>\n",
       "      <td>Mid</td>\n",
       "      <td>freedom</td>\n",
       "      <td>Highly Satisfied</td>\n",
       "    </tr>\n",
       "    <tr>\n",
       "      <th>12</th>\n",
       "      <td>21</td>\n",
       "      <td>Tim</td>\n",
       "      <td>38.0</td>\n",
       "      <td>45000.0</td>\n",
       "      <td>Male</td>\n",
       "      <td>Mid</td>\n",
       "      <td>Freedom</td>\n",
       "      <td>Highly Satisfied</td>\n",
       "    </tr>\n",
       "    <tr>\n",
       "      <th>13</th>\n",
       "      <td>20</td>\n",
       "      <td>Sophia</td>\n",
       "      <td>41.0</td>\n",
       "      <td>52000.0</td>\n",
       "      <td>Female</td>\n",
       "      <td>Mid</td>\n",
       "      <td>Life Balance</td>\n",
       "      <td>Unsatisfied</td>\n",
       "    </tr>\n",
       "    <tr>\n",
       "      <th>14</th>\n",
       "      <td>1</td>\n",
       "      <td>Mark</td>\n",
       "      <td>42.0</td>\n",
       "      <td>NaN</td>\n",
       "      <td>Male</td>\n",
       "      <td>Senior</td>\n",
       "      <td>Life Balance</td>\n",
       "      <td>Satisfied</td>\n",
       "    </tr>\n",
       "    <tr>\n",
       "      <th>15</th>\n",
       "      <td>13</td>\n",
       "      <td>Olivia</td>\n",
       "      <td>43.0</td>\n",
       "      <td>60000.0</td>\n",
       "      <td>Female</td>\n",
       "      <td>Senior</td>\n",
       "      <td>Expertise</td>\n",
       "      <td>Satisfied</td>\n",
       "    </tr>\n",
       "    <tr>\n",
       "      <th>16</th>\n",
       "      <td>23</td>\n",
       "      <td>Olivia</td>\n",
       "      <td>43.0</td>\n",
       "      <td>60000.0</td>\n",
       "      <td>Female</td>\n",
       "      <td>Senior</td>\n",
       "      <td>Expertise</td>\n",
       "      <td>Satisfied</td>\n",
       "    </tr>\n",
       "    <tr>\n",
       "      <th>17</th>\n",
       "      <td>8</td>\n",
       "      <td>Allen</td>\n",
       "      <td>45.0</td>\n",
       "      <td>43000.0</td>\n",
       "      <td>Female</td>\n",
       "      <td>Mid</td>\n",
       "      <td>Expertise</td>\n",
       "      <td>Highly Satisfied</td>\n",
       "    </tr>\n",
       "    <tr>\n",
       "      <th>18</th>\n",
       "      <td>12</td>\n",
       "      <td>Thomas</td>\n",
       "      <td>49.0</td>\n",
       "      <td>65000.0</td>\n",
       "      <td>Male</td>\n",
       "      <td>Senior</td>\n",
       "      <td>Management</td>\n",
       "      <td>Highly Unsatisfied</td>\n",
       "    </tr>\n",
       "    <tr>\n",
       "      <th>19</th>\n",
       "      <td>16</td>\n",
       "      <td>Thomas</td>\n",
       "      <td>49.0</td>\n",
       "      <td>65000.0</td>\n",
       "      <td>Male</td>\n",
       "      <td>Senior</td>\n",
       "      <td>Management</td>\n",
       "      <td>Highly Unsatisfied</td>\n",
       "    </tr>\n",
       "    <tr>\n",
       "      <th>20</th>\n",
       "      <td>14</td>\n",
       "      <td>Harry</td>\n",
       "      <td>60.0</td>\n",
       "      <td>85000.0</td>\n",
       "      <td>Male</td>\n",
       "      <td>Senior</td>\n",
       "      <td>Entrepreneurship</td>\n",
       "      <td>Unsatisfied</td>\n",
       "    </tr>\n",
       "    <tr>\n",
       "      <th>21</th>\n",
       "      <td>2</td>\n",
       "      <td>Sara</td>\n",
       "      <td>NaN</td>\n",
       "      <td>23000.0</td>\n",
       "      <td>Female</td>\n",
       "      <td>Junior</td>\n",
       "      <td>Learning</td>\n",
       "      <td>Highly Satisfied</td>\n",
       "    </tr>\n",
       "    <tr>\n",
       "      <th>22</th>\n",
       "      <td>24</td>\n",
       "      <td>Sara</td>\n",
       "      <td>NaN</td>\n",
       "      <td>23000.0</td>\n",
       "      <td>Female</td>\n",
       "      <td>Junior</td>\n",
       "      <td>Learning</td>\n",
       "      <td>Highly Satisfied</td>\n",
       "    </tr>\n",
       "    <tr>\n",
       "      <th>23</th>\n",
       "      <td>6</td>\n",
       "      <td>Dave</td>\n",
       "      <td>NaN</td>\n",
       "      <td>42000.0</td>\n",
       "      <td>Male</td>\n",
       "      <td>Mid</td>\n",
       "      <td>Life Balance</td>\n",
       "      <td>Satisfied</td>\n",
       "    </tr>\n",
       "    <tr>\n",
       "      <th>24</th>\n",
       "      <td>17</td>\n",
       "      <td>Oscar</td>\n",
       "      <td>NaN</td>\n",
       "      <td>70000.0</td>\n",
       "      <td>Male</td>\n",
       "      <td>Senior</td>\n",
       "      <td>Entrepreneurship</td>\n",
       "      <td>Neutral</td>\n",
       "    </tr>\n",
       "  </tbody>\n",
       "</table>\n",
       "</div>"
      ],
      "text/plain": [
       "    index     Name   Age   Income  Gender   Level        Priorities  \\\n",
       "0       7    Tanya  10.0  51000.0  Female  Senior           Freedom   \n",
       "1       0     Alan  20.0  33000.0    Male  Junior           Freedom   \n",
       "2      18  Charlie  22.0  25000.0    Male  Junior      Life Balance   \n",
       "3       3    David  23.0  22000.0    Male  Junior           Freedom   \n",
       "4       5    Maria  23.0  22000.0  Female  Junior          Learning   \n",
       "5      11    Henry  23.0  27000.0    Male  Junior      Life Balance   \n",
       "6      15    Freya  27.0  23000.0  Female  Junior          Learning   \n",
       "7       9   Hileni  27.0  44000.0  Female     Mid        Management   \n",
       "8      22   Hileni  27.0  44000.0  Female     Mid        Management   \n",
       "9       4     Luke  34.0  65000.0    Male  Senior  Entrepreneurship   \n",
       "10     19      Leo  37.0  40000.0    Male     Mid             Hello   \n",
       "11     10      Tim  38.0  45000.0    Male     Mid           freedom   \n",
       "12     21      Tim  38.0  45000.0    Male     Mid           Freedom   \n",
       "13     20   Sophia  41.0  52000.0  Female     Mid      Life Balance   \n",
       "14      1     Mark  42.0      NaN    Male  Senior      Life Balance   \n",
       "15     13   Olivia  43.0  60000.0  Female  Senior         Expertise   \n",
       "16     23   Olivia  43.0  60000.0  Female  Senior         Expertise   \n",
       "17      8    Allen  45.0  43000.0  Female     Mid         Expertise   \n",
       "18     12   Thomas  49.0  65000.0    Male  Senior        Management   \n",
       "19     16   Thomas  49.0  65000.0    Male  Senior        Management   \n",
       "20     14    Harry  60.0  85000.0    Male  Senior  Entrepreneurship   \n",
       "21      2     Sara   NaN  23000.0  Female  Junior          Learning   \n",
       "22     24     Sara   NaN  23000.0  Female  Junior          Learning   \n",
       "23      6     Dave   NaN  42000.0    Male     Mid      Life Balance   \n",
       "24     17    Oscar   NaN  70000.0    Male  Senior  Entrepreneurship   \n",
       "\n",
       "          Satisfaction  \n",
       "0              Neutral  \n",
       "1              Neutral  \n",
       "2                  NaN  \n",
       "3              Neutral  \n",
       "4            Satisfied  \n",
       "5              Neutral  \n",
       "6          Unsatisfied  \n",
       "7   Highly Unsatisfied  \n",
       "8   Highly Unsatisfied  \n",
       "9          Unsatisfied  \n",
       "10    Highly Satisfied  \n",
       "11    Highly Satisfied  \n",
       "12    Highly Satisfied  \n",
       "13         Unsatisfied  \n",
       "14           Satisfied  \n",
       "15           Satisfied  \n",
       "16           Satisfied  \n",
       "17    Highly Satisfied  \n",
       "18  Highly Unsatisfied  \n",
       "19  Highly Unsatisfied  \n",
       "20         Unsatisfied  \n",
       "21    Highly Satisfied  \n",
       "22    Highly Satisfied  \n",
       "23           Satisfied  \n",
       "24             Neutral  "
      ]
     },
     "execution_count": 4,
     "metadata": {},
     "output_type": "execute_result"
    }
   ],
   "source": [
    "df = df.sort_values(by= [\"Age\",\"Income\"], ascending = True).reset_index()\n",
    "df"
   ]
  },
  {
   "cell_type": "code",
   "execution_count": 5,
   "id": "8d47c5a3",
   "metadata": {},
   "outputs": [
    {
     "data": {
      "text/html": [
       "<div>\n",
       "<style scoped>\n",
       "    .dataframe tbody tr th:only-of-type {\n",
       "        vertical-align: middle;\n",
       "    }\n",
       "\n",
       "    .dataframe tbody tr th {\n",
       "        vertical-align: top;\n",
       "    }\n",
       "\n",
       "    .dataframe thead th {\n",
       "        text-align: right;\n",
       "    }\n",
       "</style>\n",
       "<table border=\"1\" class=\"dataframe\">\n",
       "  <thead>\n",
       "    <tr style=\"text-align: right;\">\n",
       "      <th></th>\n",
       "      <th>index</th>\n",
       "      <th>Name</th>\n",
       "      <th>Age</th>\n",
       "      <th>Income</th>\n",
       "      <th>Gender</th>\n",
       "      <th>Level</th>\n",
       "      <th>Priorities</th>\n",
       "      <th>Satisfaction</th>\n",
       "    </tr>\n",
       "  </thead>\n",
       "  <tbody>\n",
       "    <tr>\n",
       "      <th>0</th>\n",
       "      <td>7</td>\n",
       "      <td>Tanya</td>\n",
       "      <td>10.0</td>\n",
       "      <td>51000.0</td>\n",
       "      <td>Female</td>\n",
       "      <td>Senior</td>\n",
       "      <td>Freedom</td>\n",
       "      <td>Neutral</td>\n",
       "    </tr>\n",
       "    <tr>\n",
       "      <th>1</th>\n",
       "      <td>0</td>\n",
       "      <td>Alan</td>\n",
       "      <td>20.0</td>\n",
       "      <td>33000.0</td>\n",
       "      <td>Male</td>\n",
       "      <td>Junior</td>\n",
       "      <td>Freedom</td>\n",
       "      <td>Neutral</td>\n",
       "    </tr>\n",
       "    <tr>\n",
       "      <th>3</th>\n",
       "      <td>3</td>\n",
       "      <td>David</td>\n",
       "      <td>23.0</td>\n",
       "      <td>22000.0</td>\n",
       "      <td>Male</td>\n",
       "      <td>Junior</td>\n",
       "      <td>Freedom</td>\n",
       "      <td>Neutral</td>\n",
       "    </tr>\n",
       "    <tr>\n",
       "      <th>4</th>\n",
       "      <td>5</td>\n",
       "      <td>Maria</td>\n",
       "      <td>23.0</td>\n",
       "      <td>22000.0</td>\n",
       "      <td>Female</td>\n",
       "      <td>Junior</td>\n",
       "      <td>Learning</td>\n",
       "      <td>Satisfied</td>\n",
       "    </tr>\n",
       "    <tr>\n",
       "      <th>5</th>\n",
       "      <td>11</td>\n",
       "      <td>Henry</td>\n",
       "      <td>23.0</td>\n",
       "      <td>27000.0</td>\n",
       "      <td>Male</td>\n",
       "      <td>Junior</td>\n",
       "      <td>Life Balance</td>\n",
       "      <td>Neutral</td>\n",
       "    </tr>\n",
       "    <tr>\n",
       "      <th>6</th>\n",
       "      <td>15</td>\n",
       "      <td>Freya</td>\n",
       "      <td>27.0</td>\n",
       "      <td>23000.0</td>\n",
       "      <td>Female</td>\n",
       "      <td>Junior</td>\n",
       "      <td>Learning</td>\n",
       "      <td>Unsatisfied</td>\n",
       "    </tr>\n",
       "    <tr>\n",
       "      <th>7</th>\n",
       "      <td>9</td>\n",
       "      <td>Hileni</td>\n",
       "      <td>27.0</td>\n",
       "      <td>44000.0</td>\n",
       "      <td>Female</td>\n",
       "      <td>Mid</td>\n",
       "      <td>Management</td>\n",
       "      <td>Highly Unsatisfied</td>\n",
       "    </tr>\n",
       "    <tr>\n",
       "      <th>8</th>\n",
       "      <td>22</td>\n",
       "      <td>Hileni</td>\n",
       "      <td>27.0</td>\n",
       "      <td>44000.0</td>\n",
       "      <td>Female</td>\n",
       "      <td>Mid</td>\n",
       "      <td>Management</td>\n",
       "      <td>Highly Unsatisfied</td>\n",
       "    </tr>\n",
       "    <tr>\n",
       "      <th>9</th>\n",
       "      <td>4</td>\n",
       "      <td>Luke</td>\n",
       "      <td>34.0</td>\n",
       "      <td>65000.0</td>\n",
       "      <td>Male</td>\n",
       "      <td>Senior</td>\n",
       "      <td>Entrepreneurship</td>\n",
       "      <td>Unsatisfied</td>\n",
       "    </tr>\n",
       "    <tr>\n",
       "      <th>10</th>\n",
       "      <td>19</td>\n",
       "      <td>Leo</td>\n",
       "      <td>37.0</td>\n",
       "      <td>40000.0</td>\n",
       "      <td>Male</td>\n",
       "      <td>Mid</td>\n",
       "      <td>Hello</td>\n",
       "      <td>Highly Satisfied</td>\n",
       "    </tr>\n",
       "    <tr>\n",
       "      <th>11</th>\n",
       "      <td>10</td>\n",
       "      <td>Tim</td>\n",
       "      <td>38.0</td>\n",
       "      <td>45000.0</td>\n",
       "      <td>Male</td>\n",
       "      <td>Mid</td>\n",
       "      <td>freedom</td>\n",
       "      <td>Highly Satisfied</td>\n",
       "    </tr>\n",
       "    <tr>\n",
       "      <th>12</th>\n",
       "      <td>21</td>\n",
       "      <td>Tim</td>\n",
       "      <td>38.0</td>\n",
       "      <td>45000.0</td>\n",
       "      <td>Male</td>\n",
       "      <td>Mid</td>\n",
       "      <td>Freedom</td>\n",
       "      <td>Highly Satisfied</td>\n",
       "    </tr>\n",
       "    <tr>\n",
       "      <th>13</th>\n",
       "      <td>20</td>\n",
       "      <td>Sophia</td>\n",
       "      <td>41.0</td>\n",
       "      <td>52000.0</td>\n",
       "      <td>Female</td>\n",
       "      <td>Mid</td>\n",
       "      <td>Life Balance</td>\n",
       "      <td>Unsatisfied</td>\n",
       "    </tr>\n",
       "    <tr>\n",
       "      <th>15</th>\n",
       "      <td>13</td>\n",
       "      <td>Olivia</td>\n",
       "      <td>43.0</td>\n",
       "      <td>60000.0</td>\n",
       "      <td>Female</td>\n",
       "      <td>Senior</td>\n",
       "      <td>Expertise</td>\n",
       "      <td>Satisfied</td>\n",
       "    </tr>\n",
       "    <tr>\n",
       "      <th>16</th>\n",
       "      <td>23</td>\n",
       "      <td>Olivia</td>\n",
       "      <td>43.0</td>\n",
       "      <td>60000.0</td>\n",
       "      <td>Female</td>\n",
       "      <td>Senior</td>\n",
       "      <td>Expertise</td>\n",
       "      <td>Satisfied</td>\n",
       "    </tr>\n",
       "    <tr>\n",
       "      <th>17</th>\n",
       "      <td>8</td>\n",
       "      <td>Allen</td>\n",
       "      <td>45.0</td>\n",
       "      <td>43000.0</td>\n",
       "      <td>Female</td>\n",
       "      <td>Mid</td>\n",
       "      <td>Expertise</td>\n",
       "      <td>Highly Satisfied</td>\n",
       "    </tr>\n",
       "    <tr>\n",
       "      <th>18</th>\n",
       "      <td>12</td>\n",
       "      <td>Thomas</td>\n",
       "      <td>49.0</td>\n",
       "      <td>65000.0</td>\n",
       "      <td>Male</td>\n",
       "      <td>Senior</td>\n",
       "      <td>Management</td>\n",
       "      <td>Highly Unsatisfied</td>\n",
       "    </tr>\n",
       "    <tr>\n",
       "      <th>19</th>\n",
       "      <td>16</td>\n",
       "      <td>Thomas</td>\n",
       "      <td>49.0</td>\n",
       "      <td>65000.0</td>\n",
       "      <td>Male</td>\n",
       "      <td>Senior</td>\n",
       "      <td>Management</td>\n",
       "      <td>Highly Unsatisfied</td>\n",
       "    </tr>\n",
       "    <tr>\n",
       "      <th>20</th>\n",
       "      <td>14</td>\n",
       "      <td>Harry</td>\n",
       "      <td>60.0</td>\n",
       "      <td>85000.0</td>\n",
       "      <td>Male</td>\n",
       "      <td>Senior</td>\n",
       "      <td>Entrepreneurship</td>\n",
       "      <td>Unsatisfied</td>\n",
       "    </tr>\n",
       "  </tbody>\n",
       "</table>\n",
       "</div>"
      ],
      "text/plain": [
       "    index    Name   Age   Income  Gender   Level        Priorities  \\\n",
       "0       7   Tanya  10.0  51000.0  Female  Senior           Freedom   \n",
       "1       0    Alan  20.0  33000.0    Male  Junior           Freedom   \n",
       "3       3   David  23.0  22000.0    Male  Junior           Freedom   \n",
       "4       5   Maria  23.0  22000.0  Female  Junior          Learning   \n",
       "5      11   Henry  23.0  27000.0    Male  Junior      Life Balance   \n",
       "6      15   Freya  27.0  23000.0  Female  Junior          Learning   \n",
       "7       9  Hileni  27.0  44000.0  Female     Mid        Management   \n",
       "8      22  Hileni  27.0  44000.0  Female     Mid        Management   \n",
       "9       4    Luke  34.0  65000.0    Male  Senior  Entrepreneurship   \n",
       "10     19     Leo  37.0  40000.0    Male     Mid             Hello   \n",
       "11     10     Tim  38.0  45000.0    Male     Mid           freedom   \n",
       "12     21     Tim  38.0  45000.0    Male     Mid           Freedom   \n",
       "13     20  Sophia  41.0  52000.0  Female     Mid      Life Balance   \n",
       "15     13  Olivia  43.0  60000.0  Female  Senior         Expertise   \n",
       "16     23  Olivia  43.0  60000.0  Female  Senior         Expertise   \n",
       "17      8   Allen  45.0  43000.0  Female     Mid         Expertise   \n",
       "18     12  Thomas  49.0  65000.0    Male  Senior        Management   \n",
       "19     16  Thomas  49.0  65000.0    Male  Senior        Management   \n",
       "20     14   Harry  60.0  85000.0    Male  Senior  Entrepreneurship   \n",
       "\n",
       "          Satisfaction  \n",
       "0              Neutral  \n",
       "1              Neutral  \n",
       "3              Neutral  \n",
       "4            Satisfied  \n",
       "5              Neutral  \n",
       "6          Unsatisfied  \n",
       "7   Highly Unsatisfied  \n",
       "8   Highly Unsatisfied  \n",
       "9          Unsatisfied  \n",
       "10    Highly Satisfied  \n",
       "11    Highly Satisfied  \n",
       "12    Highly Satisfied  \n",
       "13         Unsatisfied  \n",
       "15           Satisfied  \n",
       "16           Satisfied  \n",
       "17    Highly Satisfied  \n",
       "18  Highly Unsatisfied  \n",
       "19  Highly Unsatisfied  \n",
       "20         Unsatisfied  "
      ]
     },
     "execution_count": 5,
     "metadata": {},
     "output_type": "execute_result"
    }
   ],
   "source": [
    "df = df.dropna()\n",
    "df"
   ]
  },
  {
   "cell_type": "markdown",
   "id": "0da9b2e1",
   "metadata": {},
   "source": [
    "### Line Plot"
   ]
  },
  {
   "cell_type": "code",
   "execution_count": 7,
   "id": "a6a3a7e4",
   "metadata": {
    "scrolled": false
   },
   "outputs": [
    {
     "data": {
      "image/png": "[encoded data removed]",
      "text/plain": [
       "<Figure size 640x480 with 1 Axes>"
      ]
     },
     "metadata": {},
     "output_type": "display_data"
    }
   ],
   "source": [
    "plt.plot(df.index, df.Age)\n",
    "plt.show()"
   ]
  },
  {
   "cell_type": "code",
   "execution_count": 8,
   "id": "e6a96f05",
   "metadata": {},
   "outputs": [],
   "source": [
    "ind = np.arange(10)\n",
    "x1 = [8, 10, 11, 9, 10, 12, 13, 12, 14, 11]\n",
    "x2 = [7.5, 9, 9.5, 11, 13, 13.5, 14, 14.5, 13, 13.5]"
   ]
  },
  {
   "cell_type": "code",
   "execution_count": 9,
   "id": "628de62b",
   "metadata": {},
   "outputs": [
    {
     "data": {
      "image/png": "[encoded data removed]",
      "text/plain": [
       "<Figure size 640x480 with 1 Axes>"
      ]
     },
     "metadata": {},
     "output_type": "display_data"
    }
   ],
   "source": [
    "plt.plot(ind, x1)\n",
    "plt.plot(ind, x2)\n",
    "plt.show()"
   ]
  },
  {
   "cell_type": "code",
   "execution_count": 20,
   "id": "613afcc2",
   "metadata": {
    "scrolled": true
   },
   "outputs": [
    {
     "data": {
      "image/png": "[encoded data removed]",
      "text/plain": [
       "<Figure size 640x480 with 1 Axes>"
      ]
     },
     "metadata": {},
     "output_type": "display_data"
    }
   ],
   "source": [
    "plt.plot(ind, x1, linewidth=5, marker= \"*\", markersize= 10, linestyle= \"--\")\n",
    "plt.plot(ind, x2, linewidth= 2, marker= \"o\", markersize= 6, linestyle= \"-\", color= \"yellow\")\n",
    "plt.title(\"Index Vs x1 & x2\", fontsize=18) # fontsize similar to size\n",
    "plt.xlabel(\"Index\")\n",
    "plt.ylabel(\"x1 & x2\")\n",
    "plt.xlim(-2,10)\n",
    "plt.ylim(6,16)\n",
    "plt.legend([\"X1\", \"X2\"])\n",
    "plt.grid(color= \"grey\", linewidth= 1, linestyle=\"--\")\n",
    "plt.show()"
   ]
  },
  {
   "cell_type": "markdown",
   "id": "b2a5ba50",
   "metadata": {},
   "source": [
    "### Bar chart"
   ]
  },
  {
   "cell_type": "code",
   "execution_count": 24,
   "id": "ba0020ca",
   "metadata": {},
   "outputs": [
    {
     "data": {
      "image/png": "[encoded data removed]",
      "text/plain": [
       "<Figure size 640x480 with 1 Axes>"
      ]
     },
     "metadata": {},
     "output_type": "display_data"
    }
   ],
   "source": [
    "plt.bar(df[\"Satisfaction\"], df[\"Age\"], color= [\"beige\",\"wheat\",\"navajowhite\",\"tan\", \"darkkhaki\"])\n",
    "plt.xticks(rotation= 45)\n",
    "plt.show()"
   ]
  },
  {
   "cell_type": "code",
   "execution_count": 25,
   "id": "48882353",
   "metadata": {
    "scrolled": true
   },
   "outputs": [
    {
     "data": {
      "image/png": "[encoded data removed]",
      "text/plain": [
       "<Figure size 640x480 with 1 Axes>"
      ]
     },
     "metadata": {},
     "output_type": "display_data"
    }
   ],
   "source": [
    "plt.barh(df[\"Satisfaction\"], df[\"Age\"], color= [\"beige\",\"wheat\",\"navajowhite\",\"tan\", \"darkkhaki\"])\n",
    "plt.show()"
   ]
  },
  {
   "cell_type": "code",
   "execution_count": 30,
   "id": "5e9d0495",
   "metadata": {},
   "outputs": [
    {
     "data": {
      "text/html": [
       "<div>\n",
       "<style scoped>\n",
       "    .dataframe tbody tr th:only-of-type {\n",
       "        vertical-align: middle;\n",
       "    }\n",
       "\n",
       "    .dataframe tbody tr th {\n",
       "        vertical-align: top;\n",
       "    }\n",
       "\n",
       "    .dataframe thead th {\n",
       "        text-align: right;\n",
       "    }\n",
       "</style>\n",
       "<table border=\"1\" class=\"dataframe\">\n",
       "  <thead>\n",
       "    <tr style=\"text-align: right;\">\n",
       "      <th></th>\n",
       "      <th>Satisfaction</th>\n",
       "      <th>Age</th>\n",
       "    </tr>\n",
       "  </thead>\n",
       "  <tbody>\n",
       "    <tr>\n",
       "      <th>0</th>\n",
       "      <td>Highly Satisfied</td>\n",
       "      <td>4</td>\n",
       "    </tr>\n",
       "    <tr>\n",
       "      <th>1</th>\n",
       "      <td>Highly Unsatisfied</td>\n",
       "      <td>4</td>\n",
       "    </tr>\n",
       "    <tr>\n",
       "      <th>2</th>\n",
       "      <td>Neutral</td>\n",
       "      <td>4</td>\n",
       "    </tr>\n",
       "    <tr>\n",
       "      <th>3</th>\n",
       "      <td>Satisfied</td>\n",
       "      <td>3</td>\n",
       "    </tr>\n",
       "    <tr>\n",
       "      <th>4</th>\n",
       "      <td>Unsatisfied</td>\n",
       "      <td>4</td>\n",
       "    </tr>\n",
       "  </tbody>\n",
       "</table>\n",
       "</div>"
      ],
      "text/plain": [
       "         Satisfaction  Age\n",
       "0    Highly Satisfied    4\n",
       "1  Highly Unsatisfied    4\n",
       "2             Neutral    4\n",
       "3           Satisfied    3\n",
       "4         Unsatisfied    4"
      ]
     },
     "execution_count": 30,
     "metadata": {},
     "output_type": "execute_result"
    }
   ],
   "source": [
    "age_count = df.groupby(df[\"Satisfaction\"])[\"Age\"].count().to_frame().reset_index()\n",
    "age_count"
   ]
  },
  {
   "cell_type": "code",
   "execution_count": 34,
   "id": "9befd6a4",
   "metadata": {
    "scrolled": true
   },
   "outputs": [
    {
     "data": {
      "image/png": "[encoded data removed]",
      "text/plain": [
       "<Figure size 640x480 with 1 Axes>"
      ]
     },
     "metadata": {},
     "output_type": "display_data"
    }
   ],
   "source": [
    "plt.bar(age_count[\"Satisfaction\"], age_count[\"Age\"], color= [\"lightsteelblue\", \"lightsteelblue\", \"lightsteelblue\", \n",
    "                                                              \"slategrey\", \"lightsteelblue\"])\n",
    "plt.xticks(rotation= 45)\n",
    "plt.title(\"Satisfaction by Age count\")\n",
    "plt.xlabel(\"Satisfaction\")\n",
    "plt.ylabel(\"Age count\")\n",
    "plt.show()                                                             "
   ]
  },
  {
   "cell_type": "code",
   "execution_count": 38,
   "id": "85314f64",
   "metadata": {
    "scrolled": true
   },
   "outputs": [
    {
     "data": {
      "text/html": [
       "<div>\n",
       "<style scoped>\n",
       "    .dataframe tbody tr th:only-of-type {\n",
       "        vertical-align: middle;\n",
       "    }\n",
       "\n",
       "    .dataframe tbody tr th {\n",
       "        vertical-align: top;\n",
       "    }\n",
       "\n",
       "    .dataframe thead th {\n",
       "        text-align: right;\n",
       "    }\n",
       "</style>\n",
       "<table border=\"1\" class=\"dataframe\">\n",
       "  <thead>\n",
       "    <tr style=\"text-align: right;\">\n",
       "      <th></th>\n",
       "      <th>Satisfaction</th>\n",
       "      <th>Income</th>\n",
       "    </tr>\n",
       "  </thead>\n",
       "  <tbody>\n",
       "    <tr>\n",
       "      <th>0</th>\n",
       "      <td>Highly Satisfied</td>\n",
       "      <td>43250.000000</td>\n",
       "    </tr>\n",
       "    <tr>\n",
       "      <th>1</th>\n",
       "      <td>Highly Unsatisfied</td>\n",
       "      <td>54500.000000</td>\n",
       "    </tr>\n",
       "    <tr>\n",
       "      <th>2</th>\n",
       "      <td>Neutral</td>\n",
       "      <td>33250.000000</td>\n",
       "    </tr>\n",
       "    <tr>\n",
       "      <th>3</th>\n",
       "      <td>Satisfied</td>\n",
       "      <td>47333.333333</td>\n",
       "    </tr>\n",
       "    <tr>\n",
       "      <th>4</th>\n",
       "      <td>Unsatisfied</td>\n",
       "      <td>56250.000000</td>\n",
       "    </tr>\n",
       "  </tbody>\n",
       "</table>\n",
       "</div>"
      ],
      "text/plain": [
       "         Satisfaction        Income\n",
       "0    Highly Satisfied  43250.000000\n",
       "1  Highly Unsatisfied  54500.000000\n",
       "2             Neutral  33250.000000\n",
       "3           Satisfied  47333.333333\n",
       "4         Unsatisfied  56250.000000"
      ]
     },
     "execution_count": 38,
     "metadata": {},
     "output_type": "execute_result"
    }
   ],
   "source": [
    "income = df.groupby(df[\"Satisfaction\"])[\"Income\"].mean().to_frame().reset_index()\n",
    "income"
   ]
  },
  {
   "cell_type": "code",
   "execution_count": 47,
   "id": "e1da7655",
   "metadata": {},
   "outputs": [
    {
     "data": {
      "image/png": "[encoded data removed]",
      "text/plain": [
       "<Figure size 640x480 with 1 Axes>"
      ]
     },
     "metadata": {},
     "output_type": "display_data"
    }
   ],
   "source": [
    "plt.bar(income[\"Satisfaction\"], income[\"Income\"], width= 0.90 ,color = [\"lightsteelblue\", \"lightsteelblue\", \"lightsteelblue\", \n",
    "                                                              \"slategrey\", \"lightsteelblue\"])\n",
    "plt.xticks(rotation = 45)\n",
    "plt.ylim(0,60000)\n",
    "plt.show()"
   ]
  },
  {
   "cell_type": "markdown",
   "id": "8a567d31",
   "metadata": {},
   "source": [
    "### Pie Chart"
   ]
  },
  {
   "cell_type": "code",
   "execution_count": 55,
   "id": "8b77b2f0",
   "metadata": {},
   "outputs": [
    {
     "data": {
      "text/plain": [
       "Priorities\n",
       "Entrepreneurship    2\n",
       "Expertise           3\n",
       "Freedom             4\n",
       "Hello               1\n",
       "Learning            2\n",
       "Life Balance        2\n",
       "Management          4\n",
       "freedom             1\n",
       "Name: Name, dtype: int64"
      ]
     },
     "execution_count": 55,
     "metadata": {},
     "output_type": "execute_result"
    }
   ],
   "source": [
    "priorities = df.groupby(df[\"Priorities\"])[\"Name\"].count()\n",
    "priorities"
   ]
  },
  {
   "cell_type": "code",
   "execution_count": 56,
   "id": "e222ab3f",
   "metadata": {
    "scrolled": true
   },
   "outputs": [
    {
     "data": {
      "image/png": "[encoded data removed]",
      "text/plain": [
       "<Figure size 640x480 with 1 Axes>"
      ]
     },
     "metadata": {},
     "output_type": "display_data"
    }
   ],
   "source": [
    "plt.pie(priorities, labels = priorities.index, autopct='%1.1f%%')\n",
    "plt.show()"
   ]
  },
  {
   "cell_type": "code",
   "execution_count": 58,
   "id": "2ae57c3b",
   "metadata": {},
   "outputs": [
    {
     "data": {
      "image/png": "[encoded data removed]",
      "text/plain": [
       "<Figure size 640x480 with 1 Axes>"
      ]
     },
     "metadata": {},
     "output_type": "display_data"
    }
   ],
   "source": [
    "labels = 'Frogs', 'Hogs', 'Dogs', 'Logs'\n",
    "sizes = [15, 30, 45, 10]\n",
    "\n",
    "plt.pie(sizes, labels = labels, autopct= \"%1.1f%%\")\n",
    "plt.show()"
   ]
  },
  {
   "cell_type": "markdown",
   "id": "e2fecbec",
   "metadata": {},
   "source": [
    "### Box plot"
   ]
  },
  {
   "cell_type": "code",
   "execution_count": 60,
   "id": "a4b1fd86",
   "metadata": {},
   "outputs": [
    {
     "data": {
      "image/png": "[encoded data removed]",
      "text/plain": [
       "<Figure size 640x480 with 1 Axes>"
      ]
     },
     "metadata": {},
     "output_type": "display_data"
    }
   ],
   "source": [
    "plt.boxplot(df[\"Age\"])\n",
    "plt.show()"
   ]
  },
  {
   "cell_type": "code",
   "execution_count": 63,
   "id": "130f9ae6",
   "metadata": {
    "scrolled": true
   },
   "outputs": [
    {
     "data": {
      "text/html": [
       "<div>\n",
       "<style scoped>\n",
       "    .dataframe tbody tr th:only-of-type {\n",
       "        vertical-align: middle;\n",
       "    }\n",
       "\n",
       "    .dataframe tbody tr th {\n",
       "        vertical-align: top;\n",
       "    }\n",
       "\n",
       "    .dataframe thead th {\n",
       "        text-align: right;\n",
       "    }\n",
       "</style>\n",
       "<table border=\"1\" class=\"dataframe\">\n",
       "  <thead>\n",
       "    <tr style=\"text-align: right;\">\n",
       "      <th></th>\n",
       "      <th>Number of Review</th>\n",
       "      <th>Rating</th>\n",
       "      <th>Price</th>\n",
       "      <th>Mileage</th>\n",
       "      <th>Year</th>\n",
       "      <th>Doors</th>\n",
       "    </tr>\n",
       "  </thead>\n",
       "  <tbody>\n",
       "    <tr>\n",
       "      <th>count</th>\n",
       "      <td>1000.000000</td>\n",
       "      <td>973.000000</td>\n",
       "      <td>1000.000000</td>\n",
       "      <td>1000.000000</td>\n",
       "      <td>1000.000000</td>\n",
       "      <td>1000.000000</td>\n",
       "    </tr>\n",
       "    <tr>\n",
       "      <th>mean</th>\n",
       "      <td>115.826000</td>\n",
       "      <td>4.204522</td>\n",
       "      <td>13146.772000</td>\n",
       "      <td>64004.939000</td>\n",
       "      <td>2012.947000</td>\n",
       "      <td>4.567000</td>\n",
       "    </tr>\n",
       "    <tr>\n",
       "      <th>std</th>\n",
       "      <td>150.024702</td>\n",
       "      <td>0.281092</td>\n",
       "      <td>16115.759581</td>\n",
       "      <td>40778.018506</td>\n",
       "      <td>5.535959</td>\n",
       "      <td>0.879935</td>\n",
       "    </tr>\n",
       "    <tr>\n",
       "      <th>min</th>\n",
       "      <td>0.000000</td>\n",
       "      <td>3.500000</td>\n",
       "      <td>895.000000</td>\n",
       "      <td>0.000000</td>\n",
       "      <td>1996.000000</td>\n",
       "      <td>2.000000</td>\n",
       "    </tr>\n",
       "    <tr>\n",
       "      <th>25%</th>\n",
       "      <td>23.000000</td>\n",
       "      <td>4.000000</td>\n",
       "      <td>3571.250000</td>\n",
       "      <td>27580.000000</td>\n",
       "      <td>2009.000000</td>\n",
       "      <td>5.000000</td>\n",
       "    </tr>\n",
       "    <tr>\n",
       "      <th>50%</th>\n",
       "      <td>57.000000</td>\n",
       "      <td>4.000000</td>\n",
       "      <td>5992.500000</td>\n",
       "      <td>65000.000000</td>\n",
       "      <td>2012.000000</td>\n",
       "      <td>5.000000</td>\n",
       "    </tr>\n",
       "    <tr>\n",
       "      <th>75%</th>\n",
       "      <td>151.000000</td>\n",
       "      <td>4.500000</td>\n",
       "      <td>16500.000000</td>\n",
       "      <td>94000.000000</td>\n",
       "      <td>2019.000000</td>\n",
       "      <td>5.000000</td>\n",
       "    </tr>\n",
       "    <tr>\n",
       "      <th>max</th>\n",
       "      <td>620.000000</td>\n",
       "      <td>5.000000</td>\n",
       "      <td>109995.000000</td>\n",
       "      <td>330453.000000</td>\n",
       "      <td>2023.000000</td>\n",
       "      <td>6.000000</td>\n",
       "    </tr>\n",
       "  </tbody>\n",
       "</table>\n",
       "</div>"
      ],
      "text/plain": [
       "       Number of Review      Rating          Price        Mileage  \\\n",
       "count       1000.000000  973.000000    1000.000000    1000.000000   \n",
       "mean         115.826000    4.204522   13146.772000   64004.939000   \n",
       "std          150.024702    0.281092   16115.759581   40778.018506   \n",
       "min            0.000000    3.500000     895.000000       0.000000   \n",
       "25%           23.000000    4.000000    3571.250000   27580.000000   \n",
       "50%           57.000000    4.000000    5992.500000   65000.000000   \n",
       "75%          151.000000    4.500000   16500.000000   94000.000000   \n",
       "max          620.000000    5.000000  109995.000000  330453.000000   \n",
       "\n",
       "              Year        Doors  \n",
       "count  1000.000000  1000.000000  \n",
       "mean   2012.947000     4.567000  \n",
       "std       5.535959     0.879935  \n",
       "min    1996.000000     2.000000  \n",
       "25%    2009.000000     5.000000  \n",
       "50%    2012.000000     5.000000  \n",
       "75%    2019.000000     5.000000  \n",
       "max    2023.000000     6.000000  "
      ]
     },
     "execution_count": 63,
     "metadata": {},
     "output_type": "execute_result"
    }
   ],
   "source": [
    "df= pd.read_csv(\"Car_sales.csv\")\n",
    "df.describe()"
   ]
  },
  {
   "cell_type": "code",
   "execution_count": 64,
   "id": "4eb91cd3",
   "metadata": {},
   "outputs": [],
   "source": [
    "data = (df[\"Price\"], df[\"Mileage\"])"
   ]
  },
  {
   "cell_type": "code",
   "execution_count": 66,
   "id": "f0db3335",
   "metadata": {
    "scrolled": true
   },
   "outputs": [
    {
     "data": {
      "image/png": "[encoded data removed]",
      "text/plain": [
       "<Figure size 640x480 with 1 Axes>"
      ]
     },
     "metadata": {},
     "output_type": "display_data"
    }
   ],
   "source": [
    "plt.boxplot(data)\n",
    "plt.show()"
   ]
  },
  {
   "cell_type": "markdown",
   "id": "a39b5603",
   "metadata": {},
   "source": [
    "### Scatter plot"
   ]
  },
  {
   "cell_type": "code",
   "execution_count": 69,
   "id": "f0088336",
   "metadata": {},
   "outputs": [
    {
     "data": {
      "image/png": "[encoded data removed]",
      "text/plain": [
       "<Figure size 640x480 with 1 Axes>"
      ]
     },
     "metadata": {},
     "output_type": "display_data"
    }
   ],
   "source": [
    "plt.scatter(df[\"Price\"], df[\"Mileage\"], alpha= 0.3)\n",
    "plt.show()"
   ]
  },
  {
   "cell_type": "code",
   "execution_count": 74,
   "id": "43923b66",
   "metadata": {
    "scrolled": true
   },
   "outputs": [
    {
     "data": {
      "image/png": "[encoded data removed]",
      "text/plain": [
       "<Figure size 640x480 with 1 Axes>"
      ]
     },
     "metadata": {},
     "output_type": "display_data"
    }
   ],
   "source": [
    "df = pd.read_excel(\"employee_satisfaction.xlsx\")\n",
    "df = df.dropna()\n",
    "df.head()\n",
    "\n",
    "plt.scatter(df[\"Age\"], df[\"Income\"], alpha= 0.5)\n",
    "plt.show()"
   ]
  },
  {
   "cell_type": "markdown",
   "id": "b25f1ca6",
   "metadata": {},
   "source": [
    "### Bubble chart"
   ]
  },
  {
   "cell_type": "code",
   "execution_count": 75,
   "id": "02aaa8df",
   "metadata": {},
   "outputs": [],
   "source": [
    "np.random.seed(42)\n",
    "N = 100\n",
    "x = np.random.normal(170, 20, N)\n",
    "y = x + np.random.normal(5, 25, N)\n",
    "colors = np.random.rand(N)\n",
    "area = (25 * np.random.rand(N))**2"
   ]
  },
  {
   "cell_type": "code",
   "execution_count": 76,
   "id": "9d630004",
   "metadata": {},
   "outputs": [
    {
     "data": {
      "text/html": [
       "<div>\n",
       "<style scoped>\n",
       "    .dataframe tbody tr th:only-of-type {\n",
       "        vertical-align: middle;\n",
       "    }\n",
       "\n",
       "    .dataframe tbody tr th {\n",
       "        vertical-align: top;\n",
       "    }\n",
       "\n",
       "    .dataframe thead th {\n",
       "        text-align: right;\n",
       "    }\n",
       "</style>\n",
       "<table border=\"1\" class=\"dataframe\">\n",
       "  <thead>\n",
       "    <tr style=\"text-align: right;\">\n",
       "      <th></th>\n",
       "      <th>X</th>\n",
       "      <th>Y</th>\n",
       "      <th>Colors</th>\n",
       "      <th>bubble_size</th>\n",
       "    </tr>\n",
       "  </thead>\n",
       "  <tbody>\n",
       "    <tr>\n",
       "      <th>0</th>\n",
       "      <td>179.934283</td>\n",
       "      <td>149.550015</td>\n",
       "      <td>0.877373</td>\n",
       "      <td>553.972491</td>\n",
       "    </tr>\n",
       "    <tr>\n",
       "      <th>1</th>\n",
       "      <td>167.234714</td>\n",
       "      <td>161.718581</td>\n",
       "      <td>0.740769</td>\n",
       "      <td>93.172029</td>\n",
       "    </tr>\n",
       "    <tr>\n",
       "      <th>2</th>\n",
       "      <td>182.953771</td>\n",
       "      <td>179.385908</td>\n",
       "      <td>0.697016</td>\n",
       "      <td>577.429562</td>\n",
       "    </tr>\n",
       "    <tr>\n",
       "      <th>3</th>\n",
       "      <td>200.460597</td>\n",
       "      <td>185.403665</td>\n",
       "      <td>0.702484</td>\n",
       "      <td>512.287366</td>\n",
       "    </tr>\n",
       "    <tr>\n",
       "      <th>4</th>\n",
       "      <td>165.316933</td>\n",
       "      <td>166.284790</td>\n",
       "      <td>0.359491</td>\n",
       "      <td>23.958855</td>\n",
       "    </tr>\n",
       "  </tbody>\n",
       "</table>\n",
       "</div>"
      ],
      "text/plain": [
       "            X           Y    Colors  bubble_size\n",
       "0  179.934283  149.550015  0.877373   553.972491\n",
       "1  167.234714  161.718581  0.740769    93.172029\n",
       "2  182.953771  179.385908  0.697016   577.429562\n",
       "3  200.460597  185.403665  0.702484   512.287366\n",
       "4  165.316933  166.284790  0.359491    23.958855"
      ]
     },
     "execution_count": 76,
     "metadata": {},
     "output_type": "execute_result"
    }
   ],
   "source": [
    "df = pd.DataFrame({\n",
    "    'X': x,\n",
    "    'Y': y,\n",
    "    'Colors': colors,\n",
    "    \"bubble_size\":area})\n",
    "df.head()"
   ]
  },
  {
   "cell_type": "code",
   "execution_count": 79,
   "id": "3e64bb74",
   "metadata": {},
   "outputs": [
    {
     "data": {
      "image/png": "[encoded data removed]",
      "text/plain": [
       "<Figure size 640x480 with 1 Axes>"
      ]
     },
     "metadata": {},
     "output_type": "display_data"
    }
   ],
   "source": [
    "plt.style.use(\"ggplot\")\n",
    "plt.scatter(\"X\", \"Y\", s= \"bubble_size\", alpha= 0.5, data= df)\n",
    "plt.xlabel(\"X\", size= 16)\n",
    "plt.ylabel(\"Y\", size= 16)\n",
    "plt.show()"
   ]
  },
  {
   "cell_type": "code",
   "execution_count": 81,
   "id": "3540982f",
   "metadata": {},
   "outputs": [
    {
     "data": {
      "image/png": "[encoded data removed]",
      "text/plain": [
       "<Figure size 640x480 with 1 Axes>"
      ]
     },
     "metadata": {},
     "output_type": "display_data"
    }
   ],
   "source": [
    "plt.scatter(\"X\", \"Y\", s= \"bubble_size\", c= \"Colors\", alpha= 0.6, data= df)\n",
    "plt.xlabel(\"X\", size= 16)\n",
    "plt.ylabel(\"Y\", size= 16)\n",
    "plt.show()"
   ]
  },
  {
   "cell_type": "code",
   "execution_count": 83,
   "id": "bc283582",
   "metadata": {
    "scrolled": true
   },
   "outputs": [
    {
     "data": {
      "image/png": "[encoded data removed]",
      "text/plain": [
       "<Figure size 640x480 with 1 Axes>"
      ]
     },
     "metadata": {},
     "output_type": "display_data"
    }
   ],
   "source": [
    "plt.style.use('ggplot')\n",
    "plt.scatter('X', 'Y',alpha=0.5, c='Colors', data=df)\n",
    "plt.xlabel(\"X\", size=16)\n",
    "plt.ylabel(\"y\", size=16)\n",
    "plt.show()"
   ]
  },
  {
   "cell_type": "markdown",
   "id": "ffa07bbf",
   "metadata": {},
   "source": [
    "### Sub plot"
   ]
  },
  {
   "cell_type": "code",
   "execution_count": 12,
   "id": "e9c67855",
   "metadata": {},
   "outputs": [],
   "source": [
    "x = np.arange(1,50,2)\n",
    "y = np.power(x,2)\n",
    "z = np.power(x,3)\n",
    "w = np.sin(x) "
   ]
  },
  {
   "cell_type": "code",
   "execution_count": 13,
   "id": "5142bf3a",
   "metadata": {},
   "outputs": [],
   "source": [
    "# This creates a figure with three subplots arranged vertically. The figsize parameter sets the size of the figure to be 10 \n",
    "# inches wide and 5 inches tall. The resulting fig and ax variables represent the figure and an array of axes objects,respectively."
   ]
  },
  {
   "cell_type": "code",
   "execution_count": 14,
   "id": "9d36e3e7",
   "metadata": {
    "scrolled": false
   },
   "outputs": [
    {
     "name": "stderr",
     "output_type": "stream",
     "text": [
      "C:\\Users\\rania\\AppData\\Local\\Temp\\ipykernel_23120\\3192171735.py:14: MatplotlibDeprecationWarning: The seaborn styles shipped by Matplotlib are deprecated since 3.6, as they no longer correspond to the styles shipped by seaborn. However, they will remain available as 'seaborn-v0_8-<style>'. Alternatively, directly use the seaborn API instead.\n",
      "  plt.style.use('seaborn-darkgrid')\n"
     ]
    },
    {
     "data": {
      "image/png": "[encoded data removed]",
      "text/plain": [
       "<Figure size 1000x500 with 3 Axes>"
      ]
     },
     "metadata": {},
     "output_type": "display_data"
    }
   ],
   "source": [
    "fig, ax = plt.subplots(3, figsize=(10,5)) # This creates a figure with three subplots arranged vertically. \n",
    "                                          # The figsize parameter sets the size of the figure to be 10 \n",
    "                                          # inches wide and 5 inches tall. The resulting fig and ax variables represent the \n",
    "                                          # figure and an array of axes objects,respectively.\n",
    "ax[0].plot(x, y, marker=\"o\")\n",
    "ax[0].set_ylabel(\"square\")  # This sets the label for the y-axis of the first subplot to \"square\".\n",
    "ax[0].set_xticklabels([]) # his removes the x-axis tick labels from the first subplot.\n",
    "\n",
    "ax[1].plot(x, z, c=\"salmon\") # c=\"salmon\" set line color to salmon\n",
    "ax[1].set_xticklabels([])\n",
    "\n",
    "ax[2].plot(x, w, c=\"lime\")\n",
    "\n",
    "plt.style.use('seaborn-darkgrid')  # change grid style\n",
    "plt.show()\n"
   ]
  },
  {
   "cell_type": "markdown",
   "id": "5aac2ded",
   "metadata": {},
   "source": [
    "### Matplotlib styles and rcparam\n",
    "\n",
    "styles and rcparam are used to customize default settings."
   ]
  },
  {
   "cell_type": "code",
   "execution_count": 4,
   "id": "9a3e98cf",
   "metadata": {},
   "outputs": [
    {
     "data": {
      "text/plain": [
       "['Solarize_Light2',\n",
       " '_classic_test_patch',\n",
       " '_mpl-gallery',\n",
       " '_mpl-gallery-nogrid',\n",
       " 'bmh',\n",
       " 'classic',\n",
       " 'dark_background',\n",
       " 'fast',\n",
       " 'fivethirtyeight',\n",
       " 'ggplot',\n",
       " 'grayscale',\n",
       " 'seaborn-v0_8',\n",
       " 'seaborn-v0_8-bright',\n",
       " 'seaborn-v0_8-colorblind',\n",
       " 'seaborn-v0_8-dark',\n",
       " 'seaborn-v0_8-dark-palette',\n",
       " 'seaborn-v0_8-darkgrid',\n",
       " 'seaborn-v0_8-deep',\n",
       " 'seaborn-v0_8-muted',\n",
       " 'seaborn-v0_8-notebook',\n",
       " 'seaborn-v0_8-paper',\n",
       " 'seaborn-v0_8-pastel',\n",
       " 'seaborn-v0_8-poster',\n",
       " 'seaborn-v0_8-talk',\n",
       " 'seaborn-v0_8-ticks',\n",
       " 'seaborn-v0_8-white',\n",
       " 'seaborn-v0_8-whitegrid',\n",
       " 'tableau-colorblind10']"
      ]
     },
     "execution_count": 4,
     "metadata": {},
     "output_type": "execute_result"
    }
   ],
   "source": [
    "plt.style.available # "
   ]
  },
  {
   "cell_type": "markdown",
   "id": "02c981dd",
   "metadata": {},
   "source": [
    "# Summarising Statisitcs "
   ]
  },
  {
   "cell_type": "code",
   "execution_count": null,
   "id": "8f583ce6",
   "metadata": {},
   "outputs": [],
   "source": [
    "df.describe()"
   ]
  },
  {
   "cell_type": "code",
   "execution_count": null,
   "id": "0733816f",
   "metadata": {},
   "outputs": [],
   "source": [
    "df.sort_values(by= \"Age\", ascending=False).head()"
   ]
  },
  {
   "cell_type": "markdown",
   "id": "9f9e54fa",
   "metadata": {},
   "source": [
    "**rank data**"
   ]
  },
  {
   "cell_type": "code",
   "execution_count": null,
   "id": "2021dfe9",
   "metadata": {},
   "outputs": [],
   "source": [
    "df = df.dropna()"
   ]
  },
  {
   "cell_type": "code",
   "execution_count": null,
   "id": "58397e42",
   "metadata": {},
   "outputs": [],
   "source": [
    "df[\"Income_Rank\"] = df[\"Income\"].rank(ascending= True)\n",
    "df"
   ]
  },
  {
   "cell_type": "code",
   "execution_count": null,
   "id": "d0fd97f2",
   "metadata": {},
   "outputs": [],
   "source": [
    "df[\"Income_Rank\"] = df[\"Income\"].rank(ascending= False)\n",
    "df"
   ]
  },
  {
   "cell_type": "markdown",
   "id": "d1512998",
   "metadata": {},
   "source": [
    "# Functions"
   ]
  },
  {
   "cell_type": "markdown",
   "id": "5115b7b0",
   "metadata": {},
   "source": [
    "The basic syntax of functions:\n",
    "\n",
    "def func_name():\n",
    "    <code/expression performed by the function>"
   ]
  },
  {
   "cell_type": "code",
   "execution_count": 68,
   "id": "7ac9d464",
   "metadata": {},
   "outputs": [
    {
     "name": "stdout",
     "output_type": "stream",
     "text": [
      "Hello World\n"
     ]
    }
   ],
   "source": [
    "def first_func():  # define the function\n",
    "    print(\"Hello World\")   # what function should do\n",
    "first_func()    # call the function"
   ]
  },
  {
   "cell_type": "code",
   "execution_count": 70,
   "id": "d79d6e43",
   "metadata": {},
   "outputs": [
    {
     "name": "stdout",
     "output_type": "stream",
     "text": [
      "Hello World\n",
      "Hello World\n",
      "Hello World\n",
      "Hello World\n",
      "Hello World\n"
     ]
    }
   ],
   "source": [
    "for i in range(0,5):  # call the function as many times as needed\n",
    "    first_func()"
   ]
  },
  {
   "cell_type": "markdown",
   "id": "e6663799",
   "metadata": {},
   "source": [
    "**Passing arguments**"
   ]
  },
  {
   "cell_type": "markdown",
   "id": "76c675cb",
   "metadata": {},
   "source": [
    "def fun_name(argument_variables):\n",
    "    <code/expression performed by the function>"
   ]
  },
  {
   "cell_type": "code",
   "execution_count": 74,
   "id": "d954be0c",
   "metadata": {},
   "outputs": [
    {
     "name": "stdout",
     "output_type": "stream",
     "text": [
      "Hello Rania\n"
     ]
    }
   ],
   "source": [
    "def sec_func(Name):   # pass the variable\n",
    "    print(\"Hello\", Name)  # use the variable in the func body\n",
    "    \n",
    "sec_func(\"Rania\")    # call the func with assigned value to the variable"
   ]
  },
  {
   "cell_type": "code",
   "execution_count": 75,
   "id": "b0fb22eb",
   "metadata": {},
   "outputs": [
    {
     "name": "stdout",
     "output_type": "stream",
     "text": [
      "Hello Noor\n"
     ]
    }
   ],
   "source": [
    "sec_func(\"Noor\")"
   ]
  },
  {
   "cell_type": "code",
   "execution_count": 78,
   "id": "e073c6ae",
   "metadata": {},
   "outputs": [
    {
     "name": "stdout",
     "output_type": "stream",
     "text": [
      "Hi Rania Abdelrahman\n"
     ]
    }
   ],
   "source": [
    "def func_3(Name1, Name2):   # more than one variable\n",
    "    print(\"Hi\", Name1, Name2)\n",
    "    \n",
    "func_3(\"Rania\", \"Abdelrahman\")    \n"
   ]
  },
  {
   "cell_type": "code",
   "execution_count": 79,
   "id": "3549db1e",
   "metadata": {},
   "outputs": [
    {
     "ename": "TypeError",
     "evalue": "func_3() missing 1 required positional argument: 'Name2'",
     "output_type": "error",
     "traceback": [
      "\u001b[1;31m---------------------------------------------------------------------------\u001b[0m",
      "\u001b[1;31mTypeError\u001b[0m                                 Traceback (most recent call last)",
      "Cell \u001b[1;32mIn[79], line 1\u001b[0m\n\u001b[1;32m----> 1\u001b[0m \u001b[43mfunc_3\u001b[49m\u001b[43m(\u001b[49m\u001b[38;5;124;43m\"\u001b[39;49m\u001b[38;5;124;43mNoor\u001b[39;49m\u001b[38;5;124;43m\"\u001b[39;49m\u001b[43m)\u001b[49m\n",
      "\u001b[1;31mTypeError\u001b[0m: func_3() missing 1 required positional argument: 'Name2'"
     ]
    }
   ],
   "source": [
    "func_3(\"Noor\")  # Error, need to pass all the arguments"
   ]
  },
  {
   "cell_type": "code",
   "execution_count": 80,
   "id": "962ef550",
   "metadata": {},
   "outputs": [
    {
     "name": "stdout",
     "output_type": "stream",
     "text": [
      "7\n"
     ]
    }
   ],
   "source": [
    "def func_4(val1, val2):   # do some operations\n",
    "    print(val1+val2)\n",
    "\n",
    "func_4(3,4)    "
   ]
  },
  {
   "cell_type": "markdown",
   "id": "5971a7a2",
   "metadata": {},
   "source": [
    "**Default values**"
   ]
  },
  {
   "cell_type": "markdown",
   "id": "0bffde63",
   "metadata": {},
   "source": [
    "We can add defualt values to arguments in the function defention to be used if we forget to pass values when calling the func"
   ]
  },
  {
   "cell_type": "code",
   "execution_count": 85,
   "id": "b8544771",
   "metadata": {},
   "outputs": [
    {
     "name": "stdout",
     "output_type": "stream",
     "text": [
      "0\n",
      "6\n"
     ]
    }
   ],
   "source": [
    "def func_5(val1 = 0, val2 =0):  # default values\n",
    "    print(val1+val2)\n",
    "func_5()              # using the default values\n",
    "func_5(2,4)"
   ]
  },
  {
   "cell_type": "code",
   "execution_count": 86,
   "id": "c75c7629",
   "metadata": {},
   "outputs": [
    {
     "name": "stdout",
     "output_type": "stream",
     "text": [
      "3\n"
     ]
    }
   ],
   "source": [
    "func_5(3)  # use the passed value to the first agr and the default for the second arg"
   ]
  },
  {
   "cell_type": "markdown",
   "id": "4b1c60df",
   "metadata": {},
   "source": [
    "**Returning the value**\n",
    "\n",
    "def name_of_function(argument_variable):\n",
    "\n",
    "    <code/expression performed by function>\n",
    "    return result\n"
   ]
  },
  {
   "cell_type": "code",
   "execution_count": 88,
   "id": "03fc052e",
   "metadata": {},
   "outputs": [
    {
     "data": {
      "text/plain": [
       "5"
      ]
     },
     "execution_count": 88,
     "metadata": {},
     "output_type": "execute_result"
    }
   ],
   "source": [
    "def addition(val1, val2):\n",
    "    return(val1+val2)\n",
    "addition(2,3)"
   ]
  },
  {
   "cell_type": "code",
   "execution_count": 95,
   "id": "73dedf1b",
   "metadata": {},
   "outputs": [
    {
     "name": "stdout",
     "output_type": "stream",
     "text": [
      "8\n"
     ]
    }
   ],
   "source": [
    "def addition_func(val1, val2):\n",
    "    return(val1+val2)\n",
    "myresult = addition_func(3,5)\n",
    "print(myresult)"
   ]
  },
  {
   "cell_type": "code",
   "execution_count": 101,
   "id": "525573ed",
   "metadata": {},
   "outputs": [
    {
     "ename": "TypeError",
     "evalue": "'list' object is not callable",
     "output_type": "error",
     "traceback": [
      "\u001b[1;31m---------------------------------------------------------------------------\u001b[0m",
      "\u001b[1;31mTypeError\u001b[0m                                 Traceback (most recent call last)",
      "Cell \u001b[1;32mIn[101], line 4\u001b[0m\n\u001b[0;32m      2\u001b[0m     con_str\u001b[38;5;241m=\u001b[39m \u001b[38;5;28mstr\u001b[39m(str1)\u001b[38;5;241m+\u001b[39m\u001b[38;5;28mstr\u001b[39m(str2)\n\u001b[0;32m      3\u001b[0m     \u001b[38;5;28;01mreturn\u001b[39;00m con_str\n\u001b[1;32m----> 4\u001b[0m \u001b[38;5;28mprint\u001b[39m(\u001b[43mStr_func\u001b[49m\u001b[43m(\u001b[49m\u001b[38;5;124;43m\"\u001b[39;49m\u001b[38;5;124;43mHi \u001b[39;49m\u001b[38;5;124;43m\"\u001b[39;49m\u001b[43m,\u001b[49m\u001b[38;5;124;43m\"\u001b[39;49m\u001b[38;5;124;43mBeautiful\u001b[39;49m\u001b[38;5;124;43m\"\u001b[39;49m\u001b[43m)\u001b[49m)\n",
      "Cell \u001b[1;32mIn[101], line 2\u001b[0m, in \u001b[0;36mStr_func\u001b[1;34m(str1, str2)\u001b[0m\n\u001b[0;32m      1\u001b[0m \u001b[38;5;28;01mdef\u001b[39;00m \u001b[38;5;21mStr_func\u001b[39m(str1,str2):\n\u001b[1;32m----> 2\u001b[0m     con_str\u001b[38;5;241m=\u001b[39m \u001b[38;5;28;43mstr\u001b[39;49m\u001b[43m(\u001b[49m\u001b[43mstr1\u001b[49m\u001b[43m)\u001b[49m\u001b[38;5;241m+\u001b[39m\u001b[38;5;28mstr\u001b[39m(str2)\n\u001b[0;32m      3\u001b[0m     \u001b[38;5;28;01mreturn\u001b[39;00m con_str\n",
      "\u001b[1;31mTypeError\u001b[0m: 'list' object is not callable"
     ]
    }
   ],
   "source": [
    "def Str_func(str1,str2):\n",
    "    con_str= str(str1)+str(str2)\n",
    "    return con_str\n",
    "print(Str_func(\"Hi \",\"Beautiful\"))\n"
   ]
  },
  {
   "cell_type": "markdown",
   "id": "31028438",
   "metadata": {},
   "source": [
    "**Functions * Args**"
   ]
  },
  {
   "cell_type": "markdown",
   "id": "e142552f",
   "metadata": {},
   "source": [
    "if you do not know how many arguments will be passed into your function, add a * before the \n",
    "parameter name in the function definition"
   ]
  },
  {
   "cell_type": "code",
   "execution_count": 102,
   "id": "1bf7a17c",
   "metadata": {},
   "outputs": [
    {
     "data": {
      "text/plain": [
       "21"
      ]
     },
     "execution_count": 102,
     "metadata": {},
     "output_type": "execute_result"
    }
   ],
   "source": [
    "def arg_func(*val):\n",
    "    return sum(val)\n",
    "arg_func(3,5,6,7)"
   ]
  },
  {
   "cell_type": "code",
   "execution_count": 107,
   "id": "7e624f74",
   "metadata": {},
   "outputs": [
    {
     "name": "stdout",
     "output_type": "stream",
     "text": [
      "34\n"
     ]
    }
   ],
   "source": [
    "def sum_func(*val):\n",
    "    return sum(val)\n",
    "result = sum_func(3,7,9,2,5,8)\n",
    "print(result)"
   ]
  },
  {
   "cell_type": "markdown",
   "id": "dff08a88",
   "metadata": {},
   "source": [
    "**the ** Kwargs**"
   ]
  },
  {
   "cell_type": "markdown",
   "id": "e6d4acd7",
   "metadata": {},
   "source": [
    "In cases where the number of key:value arguments to be passed are not known beforehand, \n",
    "add two asterisks ** before the argument name when defining the function"
   ]
  },
  {
   "cell_type": "code",
   "execution_count": 110,
   "id": "2356c769",
   "metadata": {},
   "outputs": [
    {
     "name": "stdout",
     "output_type": "stream",
     "text": [
      "My favourite fruit is Strawberry\n"
     ]
    }
   ],
   "source": [
    "def fav_fruits(fruit1, fruit2, fruit3):\n",
    "    print(\"My favourite fruit is\", fruit1)\n",
    "fav_fruits(\"Strawberry\", \"Blackberry\", \"Blueberry\")    "
   ]
  },
  {
   "cell_type": "code",
   "execution_count": 111,
   "id": "9ba7a0c6",
   "metadata": {},
   "outputs": [
    {
     "name": "stdout",
     "output_type": "stream",
     "text": [
      "My favourite fruit is Watermelon\n"
     ]
    }
   ],
   "source": [
    "# using **kwargs\n",
    "def fav_fruit(**fruit): \n",
    "    print(\"My favourite fruit is\", fruit[\"Summer_fruit\"])    #Access Key:Value pair using expected keys\n",
    "    \n",
    "fav_fruit(Summer_fruit = \"Watermelon\", Winter_fruit = \"Pineapple\")  #Pass key:value pairs in any number "
   ]
  },
  {
   "cell_type": "markdown",
   "id": "c542aa90",
   "metadata": {},
   "source": [
    "**Lambda**"
   ]
  },
  {
   "cell_type": "markdown",
   "id": "65aa671a",
   "metadata": {},
   "source": [
    "- Lambda is a shortened form of defining a function if you have only one expression\n",
    "\n",
    "- Any number of parameters can be passed to a lambda function\n",
    "\n",
    "- Lambda functions can only have one expression\n",
    "\n",
    "- Syntax: lambda arguments: expression\n"
   ]
  },
  {
   "cell_type": "code",
   "execution_count": 113,
   "id": "0caf66bc",
   "metadata": {},
   "outputs": [
    {
     "name": "stdout",
     "output_type": "stream",
     "text": [
      "9\n"
     ]
    }
   ],
   "source": [
    "add = lambda a,b: a+b\n",
    "print(add(4,5))"
   ]
  },
  {
   "cell_type": "code",
   "execution_count": 114,
   "id": "ddfeb6d7",
   "metadata": {},
   "outputs": [
    {
     "name": "stdout",
     "output_type": "stream",
     "text": [
      "False\n"
     ]
    }
   ],
   "source": [
    "is_even= lambda val: val % 2 == 0\n",
    "print(is_even(9))"
   ]
  },
  {
   "cell_type": "code",
   "execution_count": 118,
   "id": "0e4727b3",
   "metadata": {},
   "outputs": [
    {
     "name": "stdout",
     "output_type": "stream",
     "text": [
      "False\n"
     ]
    }
   ],
   "source": [
    "def is_even(val):      #same of the above using regular function\n",
    "    return val%2==0\n",
    "print(is_even(9))    "
   ]
  },
  {
   "cell_type": "markdown",
   "id": "ef892858",
   "metadata": {},
   "source": [
    "**Zip function**"
   ]
  },
  {
   "cell_type": "markdown",
   "id": "f3b1cc0d",
   "metadata": {},
   "source": [
    "The zip() function operates on two or more iterables, and returns a zip object, which is also an iterable composed of tuples\n",
    "\n",
    "The first item in each passed iterable are paired together and then the second item in each passed iterator are paired, and so on."
   ]
  },
  {
   "cell_type": "code",
   "execution_count": 120,
   "id": "6aea1173",
   "metadata": {},
   "outputs": [
    {
     "name": "stdout",
     "output_type": "stream",
     "text": [
      "('A', 'a', '0')\n",
      "('B', 'b', '1')\n",
      "('C', 'c', '2')\n"
     ]
    }
   ],
   "source": [
    "tup1 = (\"A\", \"B\", \"C\")\n",
    "tup2 = (\"a\", \"b\", \"c\")\n",
    "tup3 = (\"0\", \"1\", \"2\")\n",
    "\n",
    "zipped_objects = zip(tup1, tup2, tup3)\n",
    "\n",
    "for i in zipped_objects:  # this part only for printing the tuples\n",
    "    print(i)"
   ]
  },
  {
   "cell_type": "code",
   "execution_count": 122,
   "id": "005ecf20",
   "metadata": {},
   "outputs": [
    {
     "name": "stdout",
     "output_type": "stream",
     "text": [
      "{'Name': 'Rania', 'Age': 32, 'Score': 99}\n"
     ]
    }
   ],
   "source": [
    "keys = (\"Name\", \"Age\", \"Score\")\n",
    "values = (\"Rania\", 32, 99)\n",
    "\n",
    "print(dict(zip(keys, values)))\n"
   ]
  },
  {
   "cell_type": "markdown",
   "id": "ecfa6e47",
   "metadata": {},
   "source": [
    "### Try:\n",
    "- Python function to find the factorial of a number\n",
    "- Python function to check if a number is palindrome or not\n",
    "- Write a Python function to check whether a number falls within a given range.\n",
    "- Write a Python function that accepts a string and counts the number of upper and lower case letters.\n",
    "- Write a Python function that takes a list and returns a new list with distinct elements from the first list.\n",
    "- Write a Python program to print the even numbers from a given list."
   ]
  },
  {
   "cell_type": "code",
   "execution_count": 123,
   "id": "cad67c4b",
   "metadata": {},
   "outputs": [
    {
     "data": {
      "text/plain": [
       "120"
      ]
     },
     "execution_count": 123,
     "metadata": {},
     "output_type": "execute_result"
    }
   ],
   "source": [
    "def factorial(n):\n",
    "    if n == 0:\n",
    "        return 1\n",
    "    else:\n",
    "        return n * factorial(n-1)\n",
    "factorial(5)    "
   ]
  },
  {
   "cell_type": "markdown",
   "id": "717e7aa8",
   "metadata": {},
   "source": [
    "## EDA"
   ]
  },
  {
   "cell_type": "code",
   "execution_count": 2,
   "id": "3784715e",
   "metadata": {},
   "outputs": [
    {
     "data": {
      "text/html": [
       "<div>\n",
       "<style scoped>\n",
       "    .dataframe tbody tr th:only-of-type {\n",
       "        vertical-align: middle;\n",
       "    }\n",
       "\n",
       "    .dataframe tbody tr th {\n",
       "        vertical-align: top;\n",
       "    }\n",
       "\n",
       "    .dataframe thead th {\n",
       "        text-align: right;\n",
       "    }\n",
       "</style>\n",
       "<table border=\"1\" class=\"dataframe\">\n",
       "  <thead>\n",
       "    <tr style=\"text-align: right;\">\n",
       "      <th></th>\n",
       "      <th>id</th>\n",
       "      <th>OrderDate</th>\n",
       "      <th>Region</th>\n",
       "      <th>City</th>\n",
       "      <th>Category</th>\n",
       "      <th>Product</th>\n",
       "      <th>Quantity</th>\n",
       "      <th>UnitPrice</th>\n",
       "    </tr>\n",
       "  </thead>\n",
       "  <tbody>\n",
       "    <tr>\n",
       "      <th>0</th>\n",
       "      <td>1</td>\n",
       "      <td>1/1/2020</td>\n",
       "      <td>East</td>\n",
       "      <td>Boston</td>\n",
       "      <td>Bars</td>\n",
       "      <td>Carrot</td>\n",
       "      <td>33.0</td>\n",
       "      <td>1.77</td>\n",
       "    </tr>\n",
       "    <tr>\n",
       "      <th>1</th>\n",
       "      <td>2</td>\n",
       "      <td>1/4/2020</td>\n",
       "      <td>East</td>\n",
       "      <td>Boston</td>\n",
       "      <td>Crackers</td>\n",
       "      <td>Whole Wheat</td>\n",
       "      <td>87.0</td>\n",
       "      <td>3.49</td>\n",
       "    </tr>\n",
       "    <tr>\n",
       "      <th>2</th>\n",
       "      <td>3</td>\n",
       "      <td>1/7/2020</td>\n",
       "      <td>West</td>\n",
       "      <td>Los Angeles</td>\n",
       "      <td>Cookies</td>\n",
       "      <td>Chocolate Chip</td>\n",
       "      <td>58.0</td>\n",
       "      <td>1.87</td>\n",
       "    </tr>\n",
       "    <tr>\n",
       "      <th>3</th>\n",
       "      <td>4</td>\n",
       "      <td>1/10/2020</td>\n",
       "      <td>East</td>\n",
       "      <td>New York</td>\n",
       "      <td>Cookies</td>\n",
       "      <td>Chocolate Chip</td>\n",
       "      <td>82.0</td>\n",
       "      <td>1.87</td>\n",
       "    </tr>\n",
       "    <tr>\n",
       "      <th>4</th>\n",
       "      <td>5</td>\n",
       "      <td>NaN</td>\n",
       "      <td>East</td>\n",
       "      <td>NaN</td>\n",
       "      <td>NaN</td>\n",
       "      <td>NaN</td>\n",
       "      <td>NaN</td>\n",
       "      <td>NaN</td>\n",
       "    </tr>\n",
       "    <tr>\n",
       "      <th>5</th>\n",
       "      <td>6</td>\n",
       "      <td>1/16/2020</td>\n",
       "      <td>East</td>\n",
       "      <td>Boston</td>\n",
       "      <td>Bars</td>\n",
       "      <td>Carrot</td>\n",
       "      <td>54.0</td>\n",
       "      <td>1.77</td>\n",
       "    </tr>\n",
       "    <tr>\n",
       "      <th>6</th>\n",
       "      <td>7</td>\n",
       "      <td>1/19/2020</td>\n",
       "      <td>East</td>\n",
       "      <td>Boston</td>\n",
       "      <td>Crackers</td>\n",
       "      <td>Whole Wheat</td>\n",
       "      <td>149.0</td>\n",
       "      <td>3.49</td>\n",
       "    </tr>\n",
       "    <tr>\n",
       "      <th>7</th>\n",
       "      <td>8</td>\n",
       "      <td>1/22/2020</td>\n",
       "      <td>West</td>\n",
       "      <td>Los Angeles</td>\n",
       "      <td>Bars</td>\n",
       "      <td>Carrot</td>\n",
       "      <td>51.0</td>\n",
       "      <td>1.77</td>\n",
       "    </tr>\n",
       "  </tbody>\n",
       "</table>\n",
       "</div>"
      ],
      "text/plain": [
       "   id  OrderDate Region         City  Category         Product  Quantity  \\\n",
       "0   1   1/1/2020   East       Boston      Bars          Carrot      33.0   \n",
       "1   2   1/4/2020   East       Boston  Crackers     Whole Wheat      87.0   \n",
       "2   3   1/7/2020   West  Los Angeles   Cookies  Chocolate Chip      58.0   \n",
       "3   4  1/10/2020   East     New York   Cookies  Chocolate Chip      82.0   \n",
       "4   5        NaN   East          NaN       NaN             NaN       NaN   \n",
       "5   6  1/16/2020   East       Boston      Bars          Carrot      54.0   \n",
       "6   7  1/19/2020   East       Boston  Crackers     Whole Wheat     149.0   \n",
       "7   8  1/22/2020   West  Los Angeles      Bars          Carrot      51.0   \n",
       "\n",
       "   UnitPrice  \n",
       "0       1.77  \n",
       "1       3.49  \n",
       "2       1.87  \n",
       "3       1.87  \n",
       "4        NaN  \n",
       "5       1.77  \n",
       "6       3.49  \n",
       "7       1.77  "
      ]
     },
     "execution_count": 2,
     "metadata": {},
     "output_type": "execute_result"
    }
   ],
   "source": [
    "#Reading a csv file\n",
    "import pandas as pd\n",
    "df = pd.read_csv('Food samples.csv')\n",
    "df"
   ]
  },
  {
   "cell_type": "code",
   "execution_count": 5,
   "id": "e7bfb31e",
   "metadata": {},
   "outputs": [
    {
     "data": {
      "text/html": [
       "<div>\n",
       "<style scoped>\n",
       "    .dataframe tbody tr th:only-of-type {\n",
       "        vertical-align: middle;\n",
       "    }\n",
       "\n",
       "    .dataframe tbody tr th {\n",
       "        vertical-align: top;\n",
       "    }\n",
       "\n",
       "    .dataframe thead th {\n",
       "        text-align: right;\n",
       "    }\n",
       "</style>\n",
       "<table border=\"1\" class=\"dataframe\">\n",
       "  <thead>\n",
       "    <tr style=\"text-align: right;\">\n",
       "      <th></th>\n",
       "      <th>id</th>\n",
       "      <th>OrderDate</th>\n",
       "      <th>Region</th>\n",
       "      <th>City</th>\n",
       "      <th>Category</th>\n",
       "      <th>Product</th>\n",
       "      <th>Quantity</th>\n",
       "      <th>UnitPrice</th>\n",
       "    </tr>\n",
       "  </thead>\n",
       "  <tbody>\n",
       "    <tr>\n",
       "      <th>0</th>\n",
       "      <td>1</td>\n",
       "      <td>1/1/2020</td>\n",
       "      <td>East</td>\n",
       "      <td>Boston</td>\n",
       "      <td>Bars</td>\n",
       "      <td>Carrot</td>\n",
       "      <td>33.0</td>\n",
       "      <td>1.77</td>\n",
       "    </tr>\n",
       "    <tr>\n",
       "      <th>1</th>\n",
       "      <td>2</td>\n",
       "      <td>1/4/2020</td>\n",
       "      <td>East</td>\n",
       "      <td>Boston</td>\n",
       "      <td>Crackers</td>\n",
       "      <td>Whole Wheat</td>\n",
       "      <td>87.0</td>\n",
       "      <td>3.49</td>\n",
       "    </tr>\n",
       "    <tr>\n",
       "      <th>2</th>\n",
       "      <td>3</td>\n",
       "      <td>1/7/2020</td>\n",
       "      <td>West</td>\n",
       "      <td>Los Angeles</td>\n",
       "      <td>Cookies</td>\n",
       "      <td>Chocolate Chip</td>\n",
       "      <td>58.0</td>\n",
       "      <td>1.87</td>\n",
       "    </tr>\n",
       "    <tr>\n",
       "      <th>3</th>\n",
       "      <td>4</td>\n",
       "      <td>1/10/2020</td>\n",
       "      <td>East</td>\n",
       "      <td>New York</td>\n",
       "      <td>Cookies</td>\n",
       "      <td>Chocolate Chip</td>\n",
       "      <td>82.0</td>\n",
       "      <td>1.87</td>\n",
       "    </tr>\n",
       "    <tr>\n",
       "      <th>5</th>\n",
       "      <td>6</td>\n",
       "      <td>1/16/2020</td>\n",
       "      <td>East</td>\n",
       "      <td>Boston</td>\n",
       "      <td>Bars</td>\n",
       "      <td>Carrot</td>\n",
       "      <td>54.0</td>\n",
       "      <td>1.77</td>\n",
       "    </tr>\n",
       "    <tr>\n",
       "      <th>6</th>\n",
       "      <td>7</td>\n",
       "      <td>1/19/2020</td>\n",
       "      <td>East</td>\n",
       "      <td>Boston</td>\n",
       "      <td>Crackers</td>\n",
       "      <td>Whole Wheat</td>\n",
       "      <td>149.0</td>\n",
       "      <td>3.49</td>\n",
       "    </tr>\n",
       "    <tr>\n",
       "      <th>7</th>\n",
       "      <td>8</td>\n",
       "      <td>1/22/2020</td>\n",
       "      <td>West</td>\n",
       "      <td>Los Angeles</td>\n",
       "      <td>Bars</td>\n",
       "      <td>Carrot</td>\n",
       "      <td>51.0</td>\n",
       "      <td>1.77</td>\n",
       "    </tr>\n",
       "  </tbody>\n",
       "</table>\n",
       "</div>"
      ],
      "text/plain": [
       "   id  OrderDate Region         City  Category         Product  Quantity  \\\n",
       "0   1   1/1/2020   East       Boston      Bars          Carrot      33.0   \n",
       "1   2   1/4/2020   East       Boston  Crackers     Whole Wheat      87.0   \n",
       "2   3   1/7/2020   West  Los Angeles   Cookies  Chocolate Chip      58.0   \n",
       "3   4  1/10/2020   East     New York   Cookies  Chocolate Chip      82.0   \n",
       "5   6  1/16/2020   East       Boston      Bars          Carrot      54.0   \n",
       "6   7  1/19/2020   East       Boston  Crackers     Whole Wheat     149.0   \n",
       "7   8  1/22/2020   West  Los Angeles      Bars          Carrot      51.0   \n",
       "\n",
       "   UnitPrice  \n",
       "0       1.77  \n",
       "1       3.49  \n",
       "2       1.87  \n",
       "3       1.87  \n",
       "5       1.77  \n",
       "6       3.49  \n",
       "7       1.77  "
      ]
     },
     "execution_count": 5,
     "metadata": {},
     "output_type": "execute_result"
    }
   ],
   "source": [
    "df = df.dropna()\n",
    "df"
   ]
  },
  {
   "cell_type": "code",
   "execution_count": 4,
   "id": "ab11308e",
   "metadata": {},
   "outputs": [
    {
     "data": {
      "text/html": [
       "<div>\n",
       "<style scoped>\n",
       "    .dataframe tbody tr th:only-of-type {\n",
       "        vertical-align: middle;\n",
       "    }\n",
       "\n",
       "    .dataframe tbody tr th {\n",
       "        vertical-align: top;\n",
       "    }\n",
       "\n",
       "    .dataframe thead th {\n",
       "        text-align: right;\n",
       "    }\n",
       "</style>\n",
       "<table border=\"1\" class=\"dataframe\">\n",
       "  <thead>\n",
       "    <tr style=\"text-align: right;\">\n",
       "      <th></th>\n",
       "      <th>id</th>\n",
       "      <th>OrderDate</th>\n",
       "      <th>Region</th>\n",
       "      <th>City</th>\n",
       "      <th>Category</th>\n",
       "      <th>Product</th>\n",
       "      <th>Quantity</th>\n",
       "      <th>UnitPrice</th>\n",
       "    </tr>\n",
       "  </thead>\n",
       "  <tbody>\n",
       "    <tr>\n",
       "      <th>0</th>\n",
       "      <td>1</td>\n",
       "      <td>1/1/2020</td>\n",
       "      <td>East</td>\n",
       "      <td>Boston</td>\n",
       "      <td>Bars</td>\n",
       "      <td>Carrot</td>\n",
       "      <td>33.0</td>\n",
       "      <td>1.77</td>\n",
       "    </tr>\n",
       "    <tr>\n",
       "      <th>1</th>\n",
       "      <td>2</td>\n",
       "      <td>1/4/2020</td>\n",
       "      <td>East</td>\n",
       "      <td>Boston</td>\n",
       "      <td>Crackers</td>\n",
       "      <td>Whole Wheat</td>\n",
       "      <td>87.0</td>\n",
       "      <td>3.49</td>\n",
       "    </tr>\n",
       "    <tr>\n",
       "      <th>2</th>\n",
       "      <td>3</td>\n",
       "      <td>1/7/2020</td>\n",
       "      <td>West</td>\n",
       "      <td>Los Angeles</td>\n",
       "      <td>Cookies</td>\n",
       "      <td>Chocolate Chip</td>\n",
       "      <td>58.0</td>\n",
       "      <td>1.87</td>\n",
       "    </tr>\n",
       "    <tr>\n",
       "      <th>3</th>\n",
       "      <td>4</td>\n",
       "      <td>1/10/2020</td>\n",
       "      <td>East</td>\n",
       "      <td>New York</td>\n",
       "      <td>Cookies</td>\n",
       "      <td>Chocolate Chip</td>\n",
       "      <td>82.0</td>\n",
       "      <td>1.87</td>\n",
       "    </tr>\n",
       "    <tr>\n",
       "      <th>4</th>\n",
       "      <td>5</td>\n",
       "      <td>NaN</td>\n",
       "      <td>East</td>\n",
       "      <td>NaN</td>\n",
       "      <td>NaN</td>\n",
       "      <td>NaN</td>\n",
       "      <td>NaN</td>\n",
       "      <td>NaN</td>\n",
       "    </tr>\n",
       "    <tr>\n",
       "      <th>5</th>\n",
       "      <td>6</td>\n",
       "      <td>1/16/2020</td>\n",
       "      <td>East</td>\n",
       "      <td>Boston</td>\n",
       "      <td>Bars</td>\n",
       "      <td>Carrot</td>\n",
       "      <td>54.0</td>\n",
       "      <td>1.77</td>\n",
       "    </tr>\n",
       "    <tr>\n",
       "      <th>6</th>\n",
       "      <td>7</td>\n",
       "      <td>1/19/2020</td>\n",
       "      <td>East</td>\n",
       "      <td>Boston</td>\n",
       "      <td>Crackers</td>\n",
       "      <td>Whole Wheat</td>\n",
       "      <td>149.0</td>\n",
       "      <td>3.49</td>\n",
       "    </tr>\n",
       "    <tr>\n",
       "      <th>7</th>\n",
       "      <td>8</td>\n",
       "      <td>1/22/2020</td>\n",
       "      <td>West</td>\n",
       "      <td>Los Angeles</td>\n",
       "      <td>Bars</td>\n",
       "      <td>Carrot</td>\n",
       "      <td>51.0</td>\n",
       "      <td>1.77</td>\n",
       "    </tr>\n",
       "  </tbody>\n",
       "</table>\n",
       "</div>"
      ],
      "text/plain": [
       "   id  OrderDate Region         City  Category         Product  Quantity  \\\n",
       "0   1   1/1/2020   East       Boston      Bars          Carrot      33.0   \n",
       "1   2   1/4/2020   East       Boston  Crackers     Whole Wheat      87.0   \n",
       "2   3   1/7/2020   West  Los Angeles   Cookies  Chocolate Chip      58.0   \n",
       "3   4  1/10/2020   East     New York   Cookies  Chocolate Chip      82.0   \n",
       "4   5        NaN   East          NaN       NaN             NaN       NaN   \n",
       "5   6  1/16/2020   East       Boston      Bars          Carrot      54.0   \n",
       "6   7  1/19/2020   East       Boston  Crackers     Whole Wheat     149.0   \n",
       "7   8  1/22/2020   West  Los Angeles      Bars          Carrot      51.0   \n",
       "\n",
       "   UnitPrice  \n",
       "0       1.77  \n",
       "1       3.49  \n",
       "2       1.87  \n",
       "3       1.87  \n",
       "4        NaN  \n",
       "5       1.77  \n",
       "6       3.49  \n",
       "7       1.77  "
      ]
     },
     "execution_count": 4,
     "metadata": {},
     "output_type": "execute_result"
    }
   ],
   "source": [
    "df = df.dropna(how='all')  # row with row all values are Nan\n",
    "df"
   ]
  },
  {
   "cell_type": "code",
   "execution_count": 3,
   "id": "67f6be0e",
   "metadata": {},
   "outputs": [
    {
     "data": {
      "text/html": [
       "<div>\n",
       "<style scoped>\n",
       "    .dataframe tbody tr th:only-of-type {\n",
       "        vertical-align: middle;\n",
       "    }\n",
       "\n",
       "    .dataframe tbody tr th {\n",
       "        vertical-align: top;\n",
       "    }\n",
       "\n",
       "    .dataframe thead th {\n",
       "        text-align: right;\n",
       "    }\n",
       "</style>\n",
       "<table border=\"1\" class=\"dataframe\">\n",
       "  <thead>\n",
       "    <tr style=\"text-align: right;\">\n",
       "      <th></th>\n",
       "      <th>id</th>\n",
       "      <th>OrderDate</th>\n",
       "      <th>Region</th>\n",
       "      <th>City</th>\n",
       "      <th>Category</th>\n",
       "      <th>Product</th>\n",
       "      <th>Quantity</th>\n",
       "      <th>UnitPrice</th>\n",
       "    </tr>\n",
       "  </thead>\n",
       "  <tbody>\n",
       "    <tr>\n",
       "      <th>0</th>\n",
       "      <td>1</td>\n",
       "      <td>1/1/2020</td>\n",
       "      <td>East</td>\n",
       "      <td>Boston</td>\n",
       "      <td>Bars</td>\n",
       "      <td>Carrot</td>\n",
       "      <td>33.0</td>\n",
       "      <td>1.77</td>\n",
       "    </tr>\n",
       "    <tr>\n",
       "      <th>1</th>\n",
       "      <td>2</td>\n",
       "      <td>1/4/2020</td>\n",
       "      <td>East</td>\n",
       "      <td>Boston</td>\n",
       "      <td>Crackers</td>\n",
       "      <td>Whole Wheat</td>\n",
       "      <td>87.0</td>\n",
       "      <td>3.49</td>\n",
       "    </tr>\n",
       "    <tr>\n",
       "      <th>2</th>\n",
       "      <td>3</td>\n",
       "      <td>1/7/2020</td>\n",
       "      <td>West</td>\n",
       "      <td>Los Angeles</td>\n",
       "      <td>Cookies</td>\n",
       "      <td>Chocolate Chip</td>\n",
       "      <td>58.0</td>\n",
       "      <td>1.87</td>\n",
       "    </tr>\n",
       "    <tr>\n",
       "      <th>3</th>\n",
       "      <td>4</td>\n",
       "      <td>1/10/2020</td>\n",
       "      <td>East</td>\n",
       "      <td>New York</td>\n",
       "      <td>Cookies</td>\n",
       "      <td>Chocolate Chip</td>\n",
       "      <td>82.0</td>\n",
       "      <td>1.87</td>\n",
       "    </tr>\n",
       "    <tr>\n",
       "      <th>4</th>\n",
       "      <td>5</td>\n",
       "      <td>NaN</td>\n",
       "      <td>East</td>\n",
       "      <td>NaN</td>\n",
       "      <td>NaN</td>\n",
       "      <td>NaN</td>\n",
       "      <td>NaN</td>\n",
       "      <td>NaN</td>\n",
       "    </tr>\n",
       "    <tr>\n",
       "      <th>5</th>\n",
       "      <td>6</td>\n",
       "      <td>1/16/2020</td>\n",
       "      <td>East</td>\n",
       "      <td>Boston</td>\n",
       "      <td>Bars</td>\n",
       "      <td>Carrot</td>\n",
       "      <td>54.0</td>\n",
       "      <td>1.77</td>\n",
       "    </tr>\n",
       "    <tr>\n",
       "      <th>6</th>\n",
       "      <td>7</td>\n",
       "      <td>1/19/2020</td>\n",
       "      <td>East</td>\n",
       "      <td>Boston</td>\n",
       "      <td>Crackers</td>\n",
       "      <td>Whole Wheat</td>\n",
       "      <td>149.0</td>\n",
       "      <td>3.49</td>\n",
       "    </tr>\n",
       "    <tr>\n",
       "      <th>7</th>\n",
       "      <td>8</td>\n",
       "      <td>1/22/2020</td>\n",
       "      <td>West</td>\n",
       "      <td>Los Angeles</td>\n",
       "      <td>Bars</td>\n",
       "      <td>Carrot</td>\n",
       "      <td>51.0</td>\n",
       "      <td>1.77</td>\n",
       "    </tr>\n",
       "  </tbody>\n",
       "</table>\n",
       "</div>"
      ],
      "text/plain": [
       "   id  OrderDate Region         City  Category         Product  Quantity  \\\n",
       "0   1   1/1/2020   East       Boston      Bars          Carrot      33.0   \n",
       "1   2   1/4/2020   East       Boston  Crackers     Whole Wheat      87.0   \n",
       "2   3   1/7/2020   West  Los Angeles   Cookies  Chocolate Chip      58.0   \n",
       "3   4  1/10/2020   East     New York   Cookies  Chocolate Chip      82.0   \n",
       "4   5        NaN   East          NaN       NaN             NaN       NaN   \n",
       "5   6  1/16/2020   East       Boston      Bars          Carrot      54.0   \n",
       "6   7  1/19/2020   East       Boston  Crackers     Whole Wheat     149.0   \n",
       "7   8  1/22/2020   West  Los Angeles      Bars          Carrot      51.0   \n",
       "\n",
       "   UnitPrice  \n",
       "0       1.77  \n",
       "1       3.49  \n",
       "2       1.87  \n",
       "3       1.87  \n",
       "4        NaN  \n",
       "5       1.77  \n",
       "6       3.49  \n",
       "7       1.77  "
      ]
     },
     "execution_count": 3,
     "metadata": {},
     "output_type": "execute_result"
    }
   ],
   "source": [
    "df.dropna (subset=['OrderDate','City','Category'])  # drop rows wit Nan values in specific columns\n",
    "df"
   ]
  },
  {
   "cell_type": "code",
   "execution_count": 6,
   "id": "2c8befcb",
   "metadata": {},
   "outputs": [
    {
     "data": {
      "text/html": [
       "<div>\n",
       "<style scoped>\n",
       "    .dataframe tbody tr th:only-of-type {\n",
       "        vertical-align: middle;\n",
       "    }\n",
       "\n",
       "    .dataframe tbody tr th {\n",
       "        vertical-align: top;\n",
       "    }\n",
       "\n",
       "    .dataframe thead th {\n",
       "        text-align: right;\n",
       "    }\n",
       "</style>\n",
       "<table border=\"1\" class=\"dataframe\">\n",
       "  <thead>\n",
       "    <tr style=\"text-align: right;\">\n",
       "      <th></th>\n",
       "      <th>id</th>\n",
       "      <th>OrderDate</th>\n",
       "      <th>Region</th>\n",
       "      <th>City</th>\n",
       "      <th>Category</th>\n",
       "      <th>Product</th>\n",
       "      <th>Quantity</th>\n",
       "      <th>UnitPrice</th>\n",
       "    </tr>\n",
       "  </thead>\n",
       "  <tbody>\n",
       "    <tr>\n",
       "      <th>0</th>\n",
       "      <td>1</td>\n",
       "      <td>1/1/2020</td>\n",
       "      <td>East</td>\n",
       "      <td>Boston</td>\n",
       "      <td>Bars</td>\n",
       "      <td>Carrot</td>\n",
       "      <td>33.0</td>\n",
       "      <td>1.77</td>\n",
       "    </tr>\n",
       "    <tr>\n",
       "      <th>1</th>\n",
       "      <td>2</td>\n",
       "      <td>1/4/2020</td>\n",
       "      <td>East</td>\n",
       "      <td>Boston</td>\n",
       "      <td>Crackers</td>\n",
       "      <td>Whole Wheat</td>\n",
       "      <td>87.0</td>\n",
       "      <td>3.49</td>\n",
       "    </tr>\n",
       "    <tr>\n",
       "      <th>2</th>\n",
       "      <td>3</td>\n",
       "      <td>1/7/2020</td>\n",
       "      <td>West</td>\n",
       "      <td>Los Angeles</td>\n",
       "      <td>Cookies</td>\n",
       "      <td>Chocolate Chip</td>\n",
       "      <td>58.0</td>\n",
       "      <td>1.87</td>\n",
       "    </tr>\n",
       "    <tr>\n",
       "      <th>3</th>\n",
       "      <td>4</td>\n",
       "      <td>1/10/2020</td>\n",
       "      <td>East</td>\n",
       "      <td>New York</td>\n",
       "      <td>Cookies</td>\n",
       "      <td>Chocolate Chip</td>\n",
       "      <td>82.0</td>\n",
       "      <td>1.87</td>\n",
       "    </tr>\n",
       "    <tr>\n",
       "      <th>4</th>\n",
       "      <td>6</td>\n",
       "      <td>1/16/2020</td>\n",
       "      <td>East</td>\n",
       "      <td>Boston</td>\n",
       "      <td>Bars</td>\n",
       "      <td>Carrot</td>\n",
       "      <td>54.0</td>\n",
       "      <td>1.77</td>\n",
       "    </tr>\n",
       "    <tr>\n",
       "      <th>5</th>\n",
       "      <td>7</td>\n",
       "      <td>1/19/2020</td>\n",
       "      <td>East</td>\n",
       "      <td>Boston</td>\n",
       "      <td>Crackers</td>\n",
       "      <td>Whole Wheat</td>\n",
       "      <td>149.0</td>\n",
       "      <td>3.49</td>\n",
       "    </tr>\n",
       "    <tr>\n",
       "      <th>6</th>\n",
       "      <td>8</td>\n",
       "      <td>1/22/2020</td>\n",
       "      <td>West</td>\n",
       "      <td>Los Angeles</td>\n",
       "      <td>Bars</td>\n",
       "      <td>Carrot</td>\n",
       "      <td>51.0</td>\n",
       "      <td>1.77</td>\n",
       "    </tr>\n",
       "  </tbody>\n",
       "</table>\n",
       "</div>"
      ],
      "text/plain": [
       "   id  OrderDate Region         City  Category         Product  Quantity  \\\n",
       "0   1   1/1/2020   East       Boston      Bars          Carrot      33.0   \n",
       "1   2   1/4/2020   East       Boston  Crackers     Whole Wheat      87.0   \n",
       "2   3   1/7/2020   West  Los Angeles   Cookies  Chocolate Chip      58.0   \n",
       "3   4  1/10/2020   East     New York   Cookies  Chocolate Chip      82.0   \n",
       "4   6  1/16/2020   East       Boston      Bars          Carrot      54.0   \n",
       "5   7  1/19/2020   East       Boston  Crackers     Whole Wheat     149.0   \n",
       "6   8  1/22/2020   West  Los Angeles      Bars          Carrot      51.0   \n",
       "\n",
       "   UnitPrice  \n",
       "0       1.77  \n",
       "1       3.49  \n",
       "2       1.87  \n",
       "3       1.87  \n",
       "4       1.77  \n",
       "5       3.49  \n",
       "6       1.77  "
      ]
     },
     "execution_count": 6,
     "metadata": {},
     "output_type": "execute_result"
    }
   ],
   "source": [
    "# drop NAN #Reset index after drop \n",
    "df = df.dropna().reset_index(drop = True)\n",
    "df"
   ]
  },
  {
   "cell_type": "code",
   "execution_count": 7,
   "id": "f61ace46",
   "metadata": {},
   "outputs": [
    {
     "data": {
      "text/html": [
       "<div>\n",
       "<style scoped>\n",
       "    .dataframe tbody tr th:only-of-type {\n",
       "        vertical-align: middle;\n",
       "    }\n",
       "\n",
       "    .dataframe tbody tr th {\n",
       "        vertical-align: top;\n",
       "    }\n",
       "\n",
       "    .dataframe thead th {\n",
       "        text-align: right;\n",
       "    }\n",
       "</style>\n",
       "<table border=\"1\" class=\"dataframe\">\n",
       "  <thead>\n",
       "    <tr style=\"text-align: right;\">\n",
       "      <th></th>\n",
       "      <th>OrderDate</th>\n",
       "      <th>Region</th>\n",
       "      <th>City</th>\n",
       "      <th>Category</th>\n",
       "      <th>Product</th>\n",
       "      <th>Quantity</th>\n",
       "      <th>UnitPrice</th>\n",
       "    </tr>\n",
       "  </thead>\n",
       "  <tbody>\n",
       "    <tr>\n",
       "      <th>0</th>\n",
       "      <td>1/1/2020</td>\n",
       "      <td>East</td>\n",
       "      <td>Boston</td>\n",
       "      <td>Bars</td>\n",
       "      <td>Carrot</td>\n",
       "      <td>33.0</td>\n",
       "      <td>1.77</td>\n",
       "    </tr>\n",
       "    <tr>\n",
       "      <th>1</th>\n",
       "      <td>1/4/2020</td>\n",
       "      <td>East</td>\n",
       "      <td>Boston</td>\n",
       "      <td>Crackers</td>\n",
       "      <td>Whole Wheat</td>\n",
       "      <td>87.0</td>\n",
       "      <td>3.49</td>\n",
       "    </tr>\n",
       "    <tr>\n",
       "      <th>2</th>\n",
       "      <td>1/7/2020</td>\n",
       "      <td>West</td>\n",
       "      <td>Los Angeles</td>\n",
       "      <td>Cookies</td>\n",
       "      <td>Chocolate Chip</td>\n",
       "      <td>58.0</td>\n",
       "      <td>1.87</td>\n",
       "    </tr>\n",
       "    <tr>\n",
       "      <th>3</th>\n",
       "      <td>1/10/2020</td>\n",
       "      <td>East</td>\n",
       "      <td>New York</td>\n",
       "      <td>Cookies</td>\n",
       "      <td>Chocolate Chip</td>\n",
       "      <td>82.0</td>\n",
       "      <td>1.87</td>\n",
       "    </tr>\n",
       "    <tr>\n",
       "      <th>4</th>\n",
       "      <td>1/16/2020</td>\n",
       "      <td>East</td>\n",
       "      <td>Boston</td>\n",
       "      <td>Bars</td>\n",
       "      <td>Carrot</td>\n",
       "      <td>54.0</td>\n",
       "      <td>1.77</td>\n",
       "    </tr>\n",
       "    <tr>\n",
       "      <th>5</th>\n",
       "      <td>1/19/2020</td>\n",
       "      <td>East</td>\n",
       "      <td>Boston</td>\n",
       "      <td>Crackers</td>\n",
       "      <td>Whole Wheat</td>\n",
       "      <td>149.0</td>\n",
       "      <td>3.49</td>\n",
       "    </tr>\n",
       "    <tr>\n",
       "      <th>6</th>\n",
       "      <td>1/22/2020</td>\n",
       "      <td>West</td>\n",
       "      <td>Los Angeles</td>\n",
       "      <td>Bars</td>\n",
       "      <td>Carrot</td>\n",
       "      <td>51.0</td>\n",
       "      <td>1.77</td>\n",
       "    </tr>\n",
       "  </tbody>\n",
       "</table>\n",
       "</div>"
      ],
      "text/plain": [
       "   OrderDate Region         City  Category         Product  Quantity  \\\n",
       "0   1/1/2020   East       Boston      Bars          Carrot      33.0   \n",
       "1   1/4/2020   East       Boston  Crackers     Whole Wheat      87.0   \n",
       "2   1/7/2020   West  Los Angeles   Cookies  Chocolate Chip      58.0   \n",
       "3  1/10/2020   East     New York   Cookies  Chocolate Chip      82.0   \n",
       "4  1/16/2020   East       Boston      Bars          Carrot      54.0   \n",
       "5  1/19/2020   East       Boston  Crackers     Whole Wheat     149.0   \n",
       "6  1/22/2020   West  Los Angeles      Bars          Carrot      51.0   \n",
       "\n",
       "   UnitPrice  \n",
       "0       1.77  \n",
       "1       3.49  \n",
       "2       1.87  \n",
       "3       1.87  \n",
       "4       1.77  \n",
       "5       3.49  \n",
       "6       1.77  "
      ]
     },
     "execution_count": 7,
     "metadata": {},
     "output_type": "execute_result"
    }
   ],
   "source": [
    "df.drop(['id'], axis = 1, inplace = True)\n",
    "df"
   ]
  },
  {
   "cell_type": "markdown",
   "id": "04ddc170",
   "metadata": {},
   "source": [
    "#### Adding columns"
   ]
  },
  {
   "cell_type": "code",
   "execution_count": 8,
   "id": "801979f8",
   "metadata": {},
   "outputs": [
    {
     "data": {
      "text/html": [
       "<div>\n",
       "<style scoped>\n",
       "    .dataframe tbody tr th:only-of-type {\n",
       "        vertical-align: middle;\n",
       "    }\n",
       "\n",
       "    .dataframe tbody tr th {\n",
       "        vertical-align: top;\n",
       "    }\n",
       "\n",
       "    .dataframe thead th {\n",
       "        text-align: right;\n",
       "    }\n",
       "</style>\n",
       "<table border=\"1\" class=\"dataframe\">\n",
       "  <thead>\n",
       "    <tr style=\"text-align: right;\">\n",
       "      <th></th>\n",
       "      <th>OrderDate</th>\n",
       "      <th>Region</th>\n",
       "      <th>City</th>\n",
       "      <th>Category</th>\n",
       "      <th>Product</th>\n",
       "      <th>Quantity</th>\n",
       "      <th>UnitPrice</th>\n",
       "      <th>Total Price</th>\n",
       "    </tr>\n",
       "  </thead>\n",
       "  <tbody>\n",
       "    <tr>\n",
       "      <th>0</th>\n",
       "      <td>1/1/2020</td>\n",
       "      <td>East</td>\n",
       "      <td>Boston</td>\n",
       "      <td>Bars</td>\n",
       "      <td>Carrot</td>\n",
       "      <td>33.0</td>\n",
       "      <td>1.77</td>\n",
       "      <td>58.41</td>\n",
       "    </tr>\n",
       "    <tr>\n",
       "      <th>1</th>\n",
       "      <td>1/4/2020</td>\n",
       "      <td>East</td>\n",
       "      <td>Boston</td>\n",
       "      <td>Crackers</td>\n",
       "      <td>Whole Wheat</td>\n",
       "      <td>87.0</td>\n",
       "      <td>3.49</td>\n",
       "      <td>303.63</td>\n",
       "    </tr>\n",
       "    <tr>\n",
       "      <th>2</th>\n",
       "      <td>1/7/2020</td>\n",
       "      <td>West</td>\n",
       "      <td>Los Angeles</td>\n",
       "      <td>Cookies</td>\n",
       "      <td>Chocolate Chip</td>\n",
       "      <td>58.0</td>\n",
       "      <td>1.87</td>\n",
       "      <td>108.46</td>\n",
       "    </tr>\n",
       "    <tr>\n",
       "      <th>3</th>\n",
       "      <td>1/10/2020</td>\n",
       "      <td>East</td>\n",
       "      <td>New York</td>\n",
       "      <td>Cookies</td>\n",
       "      <td>Chocolate Chip</td>\n",
       "      <td>82.0</td>\n",
       "      <td>1.87</td>\n",
       "      <td>153.34</td>\n",
       "    </tr>\n",
       "    <tr>\n",
       "      <th>4</th>\n",
       "      <td>1/16/2020</td>\n",
       "      <td>East</td>\n",
       "      <td>Boston</td>\n",
       "      <td>Bars</td>\n",
       "      <td>Carrot</td>\n",
       "      <td>54.0</td>\n",
       "      <td>1.77</td>\n",
       "      <td>95.58</td>\n",
       "    </tr>\n",
       "    <tr>\n",
       "      <th>5</th>\n",
       "      <td>1/19/2020</td>\n",
       "      <td>East</td>\n",
       "      <td>Boston</td>\n",
       "      <td>Crackers</td>\n",
       "      <td>Whole Wheat</td>\n",
       "      <td>149.0</td>\n",
       "      <td>3.49</td>\n",
       "      <td>520.01</td>\n",
       "    </tr>\n",
       "    <tr>\n",
       "      <th>6</th>\n",
       "      <td>1/22/2020</td>\n",
       "      <td>West</td>\n",
       "      <td>Los Angeles</td>\n",
       "      <td>Bars</td>\n",
       "      <td>Carrot</td>\n",
       "      <td>51.0</td>\n",
       "      <td>1.77</td>\n",
       "      <td>90.27</td>\n",
       "    </tr>\n",
       "  </tbody>\n",
       "</table>\n",
       "</div>"
      ],
      "text/plain": [
       "   OrderDate Region         City  Category         Product  Quantity  \\\n",
       "0   1/1/2020   East       Boston      Bars          Carrot      33.0   \n",
       "1   1/4/2020   East       Boston  Crackers     Whole Wheat      87.0   \n",
       "2   1/7/2020   West  Los Angeles   Cookies  Chocolate Chip      58.0   \n",
       "3  1/10/2020   East     New York   Cookies  Chocolate Chip      82.0   \n",
       "4  1/16/2020   East       Boston      Bars          Carrot      54.0   \n",
       "5  1/19/2020   East       Boston  Crackers     Whole Wheat     149.0   \n",
       "6  1/22/2020   West  Los Angeles      Bars          Carrot      51.0   \n",
       "\n",
       "   UnitPrice  Total Price  \n",
       "0       1.77        58.41  \n",
       "1       3.49       303.63  \n",
       "2       1.87       108.46  \n",
       "3       1.87       153.34  \n",
       "4       1.77        95.58  \n",
       "5       3.49       520.01  \n",
       "6       1.77        90.27  "
      ]
     },
     "execution_count": 8,
     "metadata": {},
     "output_type": "execute_result"
    }
   ],
   "source": [
    "df['Total Price'] = df['Quantity']*df['UnitPrice']\n",
    "df"
   ]
  },
  {
   "cell_type": "code",
   "execution_count": 9,
   "id": "abe60eb6",
   "metadata": {},
   "outputs": [
    {
     "data": {
      "text/html": [
       "<div>\n",
       "<style scoped>\n",
       "    .dataframe tbody tr th:only-of-type {\n",
       "        vertical-align: middle;\n",
       "    }\n",
       "\n",
       "    .dataframe tbody tr th {\n",
       "        vertical-align: top;\n",
       "    }\n",
       "\n",
       "    .dataframe thead th {\n",
       "        text-align: right;\n",
       "    }\n",
       "</style>\n",
       "<table border=\"1\" class=\"dataframe\">\n",
       "  <thead>\n",
       "    <tr style=\"text-align: right;\">\n",
       "      <th></th>\n",
       "      <th>OrderDate</th>\n",
       "      <th>Region</th>\n",
       "      <th>City</th>\n",
       "      <th>Category</th>\n",
       "      <th>Product</th>\n",
       "      <th>Quantity</th>\n",
       "      <th>UnitPrice</th>\n",
       "      <th>Total Price</th>\n",
       "    </tr>\n",
       "  </thead>\n",
       "  <tbody>\n",
       "    <tr>\n",
       "      <th>0</th>\n",
       "      <td>1/1/2020</td>\n",
       "      <td>East</td>\n",
       "      <td>Boston</td>\n",
       "      <td>Bars</td>\n",
       "      <td>Carrot</td>\n",
       "      <td>33.0</td>\n",
       "      <td>1.77</td>\n",
       "      <td>58.41</td>\n",
       "    </tr>\n",
       "    <tr>\n",
       "      <th>1</th>\n",
       "      <td>1/4/2020</td>\n",
       "      <td>East</td>\n",
       "      <td>Boston</td>\n",
       "      <td>Crackers</td>\n",
       "      <td>Whole Wheat</td>\n",
       "      <td>87.0</td>\n",
       "      <td>3.49</td>\n",
       "      <td>303.63</td>\n",
       "    </tr>\n",
       "    <tr>\n",
       "      <th>2</th>\n",
       "      <td>1/7/2020</td>\n",
       "      <td>West</td>\n",
       "      <td>Los Angeles</td>\n",
       "      <td>Cookies</td>\n",
       "      <td>Chocolate Chip</td>\n",
       "      <td>58.0</td>\n",
       "      <td>1.87</td>\n",
       "      <td>108.46</td>\n",
       "    </tr>\n",
       "    <tr>\n",
       "      <th>3</th>\n",
       "      <td>1/10/2020</td>\n",
       "      <td>East</td>\n",
       "      <td>New York</td>\n",
       "      <td>Cookies</td>\n",
       "      <td>Chocolate Chip</td>\n",
       "      <td>82.0</td>\n",
       "      <td>1.87</td>\n",
       "      <td>153.34</td>\n",
       "    </tr>\n",
       "    <tr>\n",
       "      <th>4</th>\n",
       "      <td>1/16/2020</td>\n",
       "      <td>East</td>\n",
       "      <td>Boston</td>\n",
       "      <td>Bars</td>\n",
       "      <td>Carrot</td>\n",
       "      <td>54.0</td>\n",
       "      <td>1.77</td>\n",
       "      <td>95.58</td>\n",
       "    </tr>\n",
       "    <tr>\n",
       "      <th>5</th>\n",
       "      <td>1/19/2020</td>\n",
       "      <td>East</td>\n",
       "      <td>Boston</td>\n",
       "      <td>Crackers</td>\n",
       "      <td>Whole Wheat</td>\n",
       "      <td>149.0</td>\n",
       "      <td>3.49</td>\n",
       "      <td>520.01</td>\n",
       "    </tr>\n",
       "    <tr>\n",
       "      <th>6</th>\n",
       "      <td>1/22/2020</td>\n",
       "      <td>West</td>\n",
       "      <td>Los Angeles</td>\n",
       "      <td>Bars</td>\n",
       "      <td>Carrot</td>\n",
       "      <td>51.0</td>\n",
       "      <td>1.77</td>\n",
       "      <td>90.27</td>\n",
       "    </tr>\n",
       "  </tbody>\n",
       "</table>\n",
       "</div>"
      ],
      "text/plain": [
       "   OrderDate Region         City  Category         Product  Quantity  \\\n",
       "0   1/1/2020   East       Boston      Bars          Carrot      33.0   \n",
       "1   1/4/2020   East       Boston  Crackers     Whole Wheat      87.0   \n",
       "2   1/7/2020   West  Los Angeles   Cookies  Chocolate Chip      58.0   \n",
       "3  1/10/2020   East     New York   Cookies  Chocolate Chip      82.0   \n",
       "4  1/16/2020   East       Boston      Bars          Carrot      54.0   \n",
       "5  1/19/2020   East       Boston  Crackers     Whole Wheat     149.0   \n",
       "6  1/22/2020   West  Los Angeles      Bars          Carrot      51.0   \n",
       "\n",
       "   UnitPrice  Total Price  \n",
       "0       1.77        58.41  \n",
       "1       3.49       303.63  \n",
       "2       1.87       108.46  \n",
       "3       1.87       153.34  \n",
       "4       1.77        95.58  \n",
       "5       3.49       520.01  \n",
       "6       1.77        90.27  "
      ]
     },
     "execution_count": 9,
     "metadata": {},
     "output_type": "execute_result"
    }
   ],
   "source": [
    "df['Total Price'] = df.apply(lambda x: x[\"Quantity\"] * x[\"UnitPrice\"], axis = 1)\n",
    "df"
   ]
  },
  {
   "cell_type": "code",
   "execution_count": 10,
   "id": "5faada8e",
   "metadata": {},
   "outputs": [
    {
     "data": {
      "text/plain": [
       "array(['Boston', 'Los Angeles', 'New York'], dtype=object)"
      ]
     },
     "execution_count": 10,
     "metadata": {},
     "output_type": "execute_result"
    }
   ],
   "source": [
    "df.City.unique()"
   ]
  },
  {
   "cell_type": "code",
   "execution_count": 12,
   "id": "6e53ac89",
   "metadata": {},
   "outputs": [
    {
     "data": {
      "text/plain": [
       "array(['Boston', 'Los Angeles', 'New York'], dtype=object)"
      ]
     },
     "execution_count": 12,
     "metadata": {},
     "output_type": "execute_result"
    }
   ],
   "source": [
    "df[\"City\"].unique() # same as above"
   ]
  },
  {
   "cell_type": "code",
   "execution_count": 11,
   "id": "3ca52f19",
   "metadata": {},
   "outputs": [
    {
     "data": {
      "text/plain": [
       "['Boston', 'Los Angeles', 'New York']"
      ]
     },
     "execution_count": 11,
     "metadata": {},
     "output_type": "execute_result"
    }
   ],
   "source": [
    "df.City.unique().tolist() # convert result to list"
   ]
  },
  {
   "cell_type": "code",
   "execution_count": 13,
   "id": "fccc6fa4",
   "metadata": {},
   "outputs": [
    {
     "data": {
      "text/plain": [
       "Boston         4\n",
       "Los Angeles    2\n",
       "New York       1\n",
       "Name: City, dtype: int64"
      ]
     },
     "execution_count": 13,
     "metadata": {},
     "output_type": "execute_result"
    }
   ],
   "source": [
    "df.City.value_counts()"
   ]
  },
  {
   "cell_type": "code",
   "execution_count": 14,
   "id": "eb46e2e2",
   "metadata": {},
   "outputs": [
    {
     "data": {
      "text/plain": [
       "Region\n",
       "East    1130.97\n",
       "West     198.73\n",
       "Name: Total Price, dtype: float64"
      ]
     },
     "execution_count": 14,
     "metadata": {},
     "output_type": "execute_result"
    }
   ],
   "source": [
    "df.groupby('Region')['Total Price'].sum()"
   ]
  },
  {
   "cell_type": "markdown",
   "id": "3c6c2b77",
   "metadata": {},
   "source": [
    "#### Summarization statistics"
   ]
  },
  {
   "cell_type": "code",
   "execution_count": 15,
   "id": "dea6c0ae",
   "metadata": {},
   "outputs": [
    {
     "data": {
      "text/html": [
       "<div>\n",
       "<style scoped>\n",
       "    .dataframe tbody tr th:only-of-type {\n",
       "        vertical-align: middle;\n",
       "    }\n",
       "\n",
       "    .dataframe tbody tr th {\n",
       "        vertical-align: top;\n",
       "    }\n",
       "\n",
       "    .dataframe thead th {\n",
       "        text-align: right;\n",
       "    }\n",
       "</style>\n",
       "<table border=\"1\" class=\"dataframe\">\n",
       "  <thead>\n",
       "    <tr style=\"text-align: right;\">\n",
       "      <th></th>\n",
       "      <th>Quantity</th>\n",
       "      <th>UnitPrice</th>\n",
       "      <th>Total Price</th>\n",
       "    </tr>\n",
       "  </thead>\n",
       "  <tbody>\n",
       "    <tr>\n",
       "      <th>count</th>\n",
       "      <td>7.000000</td>\n",
       "      <td>7.000000</td>\n",
       "      <td>7.000000</td>\n",
       "    </tr>\n",
       "    <tr>\n",
       "      <th>mean</th>\n",
       "      <td>73.428571</td>\n",
       "      <td>2.290000</td>\n",
       "      <td>189.957143</td>\n",
       "    </tr>\n",
       "    <tr>\n",
       "      <th>std</th>\n",
       "      <td>38.126356</td>\n",
       "      <td>0.820975</td>\n",
       "      <td>166.327102</td>\n",
       "    </tr>\n",
       "    <tr>\n",
       "      <th>min</th>\n",
       "      <td>33.000000</td>\n",
       "      <td>1.770000</td>\n",
       "      <td>58.410000</td>\n",
       "    </tr>\n",
       "    <tr>\n",
       "      <th>25%</th>\n",
       "      <td>52.500000</td>\n",
       "      <td>1.770000</td>\n",
       "      <td>92.925000</td>\n",
       "    </tr>\n",
       "    <tr>\n",
       "      <th>50%</th>\n",
       "      <td>58.000000</td>\n",
       "      <td>1.870000</td>\n",
       "      <td>108.460000</td>\n",
       "    </tr>\n",
       "    <tr>\n",
       "      <th>75%</th>\n",
       "      <td>84.500000</td>\n",
       "      <td>2.680000</td>\n",
       "      <td>228.485000</td>\n",
       "    </tr>\n",
       "    <tr>\n",
       "      <th>max</th>\n",
       "      <td>149.000000</td>\n",
       "      <td>3.490000</td>\n",
       "      <td>520.010000</td>\n",
       "    </tr>\n",
       "  </tbody>\n",
       "</table>\n",
       "</div>"
      ],
      "text/plain": [
       "         Quantity  UnitPrice  Total Price\n",
       "count    7.000000   7.000000     7.000000\n",
       "mean    73.428571   2.290000   189.957143\n",
       "std     38.126356   0.820975   166.327102\n",
       "min     33.000000   1.770000    58.410000\n",
       "25%     52.500000   1.770000    92.925000\n",
       "50%     58.000000   1.870000   108.460000\n",
       "75%     84.500000   2.680000   228.485000\n",
       "max    149.000000   3.490000   520.010000"
      ]
     },
     "execution_count": 15,
     "metadata": {},
     "output_type": "execute_result"
    }
   ],
   "source": [
    "df.describe()"
   ]
  },
  {
   "cell_type": "code",
   "execution_count": 16,
   "id": "1f831530",
   "metadata": {},
   "outputs": [
    {
     "data": {
      "text/html": [
       "<div>\n",
       "<style scoped>\n",
       "    .dataframe tbody tr th:only-of-type {\n",
       "        vertical-align: middle;\n",
       "    }\n",
       "\n",
       "    .dataframe tbody tr th {\n",
       "        vertical-align: top;\n",
       "    }\n",
       "\n",
       "    .dataframe thead th {\n",
       "        text-align: right;\n",
       "    }\n",
       "</style>\n",
       "<table border=\"1\" class=\"dataframe\">\n",
       "  <thead>\n",
       "    <tr style=\"text-align: right;\">\n",
       "      <th></th>\n",
       "      <th>OrderDate</th>\n",
       "      <th>Region</th>\n",
       "      <th>City</th>\n",
       "      <th>Category</th>\n",
       "      <th>Product</th>\n",
       "    </tr>\n",
       "  </thead>\n",
       "  <tbody>\n",
       "    <tr>\n",
       "      <th>count</th>\n",
       "      <td>7</td>\n",
       "      <td>7</td>\n",
       "      <td>7</td>\n",
       "      <td>7</td>\n",
       "      <td>7</td>\n",
       "    </tr>\n",
       "    <tr>\n",
       "      <th>unique</th>\n",
       "      <td>7</td>\n",
       "      <td>2</td>\n",
       "      <td>3</td>\n",
       "      <td>3</td>\n",
       "      <td>3</td>\n",
       "    </tr>\n",
       "    <tr>\n",
       "      <th>top</th>\n",
       "      <td>1/1/2020</td>\n",
       "      <td>East</td>\n",
       "      <td>Boston</td>\n",
       "      <td>Bars</td>\n",
       "      <td>Carrot</td>\n",
       "    </tr>\n",
       "    <tr>\n",
       "      <th>freq</th>\n",
       "      <td>1</td>\n",
       "      <td>5</td>\n",
       "      <td>4</td>\n",
       "      <td>3</td>\n",
       "      <td>3</td>\n",
       "    </tr>\n",
       "  </tbody>\n",
       "</table>\n",
       "</div>"
      ],
      "text/plain": [
       "       OrderDate Region    City Category Product\n",
       "count          7      7       7        7       7\n",
       "unique         7      2       3        3       3\n",
       "top     1/1/2020   East  Boston     Bars  Carrot\n",
       "freq           1      5       4        3       3"
      ]
     },
     "execution_count": 16,
     "metadata": {},
     "output_type": "execute_result"
    }
   ],
   "source": [
    "df.describe(include=['object'])"
   ]
  },
  {
   "cell_type": "markdown",
   "id": "30053b88",
   "metadata": {},
   "source": [
    "#### Sorting values"
   ]
  },
  {
   "cell_type": "code",
   "execution_count": 17,
   "id": "f584bb90",
   "metadata": {},
   "outputs": [
    {
     "data": {
      "text/html": [
       "<div>\n",
       "<style scoped>\n",
       "    .dataframe tbody tr th:only-of-type {\n",
       "        vertical-align: middle;\n",
       "    }\n",
       "\n",
       "    .dataframe tbody tr th {\n",
       "        vertical-align: top;\n",
       "    }\n",
       "\n",
       "    .dataframe thead th {\n",
       "        text-align: right;\n",
       "    }\n",
       "</style>\n",
       "<table border=\"1\" class=\"dataframe\">\n",
       "  <thead>\n",
       "    <tr style=\"text-align: right;\">\n",
       "      <th></th>\n",
       "      <th>OrderDate</th>\n",
       "      <th>Region</th>\n",
       "      <th>City</th>\n",
       "      <th>Category</th>\n",
       "      <th>Product</th>\n",
       "      <th>Quantity</th>\n",
       "      <th>UnitPrice</th>\n",
       "      <th>Total Price</th>\n",
       "    </tr>\n",
       "  </thead>\n",
       "  <tbody>\n",
       "    <tr>\n",
       "      <th>5</th>\n",
       "      <td>1/19/2020</td>\n",
       "      <td>East</td>\n",
       "      <td>Boston</td>\n",
       "      <td>Crackers</td>\n",
       "      <td>Whole Wheat</td>\n",
       "      <td>149.0</td>\n",
       "      <td>3.49</td>\n",
       "      <td>520.01</td>\n",
       "    </tr>\n",
       "    <tr>\n",
       "      <th>1</th>\n",
       "      <td>1/4/2020</td>\n",
       "      <td>East</td>\n",
       "      <td>Boston</td>\n",
       "      <td>Crackers</td>\n",
       "      <td>Whole Wheat</td>\n",
       "      <td>87.0</td>\n",
       "      <td>3.49</td>\n",
       "      <td>303.63</td>\n",
       "    </tr>\n",
       "    <tr>\n",
       "      <th>3</th>\n",
       "      <td>1/10/2020</td>\n",
       "      <td>East</td>\n",
       "      <td>New York</td>\n",
       "      <td>Cookies</td>\n",
       "      <td>Chocolate Chip</td>\n",
       "      <td>82.0</td>\n",
       "      <td>1.87</td>\n",
       "      <td>153.34</td>\n",
       "    </tr>\n",
       "    <tr>\n",
       "      <th>2</th>\n",
       "      <td>1/7/2020</td>\n",
       "      <td>West</td>\n",
       "      <td>Los Angeles</td>\n",
       "      <td>Cookies</td>\n",
       "      <td>Chocolate Chip</td>\n",
       "      <td>58.0</td>\n",
       "      <td>1.87</td>\n",
       "      <td>108.46</td>\n",
       "    </tr>\n",
       "    <tr>\n",
       "      <th>4</th>\n",
       "      <td>1/16/2020</td>\n",
       "      <td>East</td>\n",
       "      <td>Boston</td>\n",
       "      <td>Bars</td>\n",
       "      <td>Carrot</td>\n",
       "      <td>54.0</td>\n",
       "      <td>1.77</td>\n",
       "      <td>95.58</td>\n",
       "    </tr>\n",
       "    <tr>\n",
       "      <th>6</th>\n",
       "      <td>1/22/2020</td>\n",
       "      <td>West</td>\n",
       "      <td>Los Angeles</td>\n",
       "      <td>Bars</td>\n",
       "      <td>Carrot</td>\n",
       "      <td>51.0</td>\n",
       "      <td>1.77</td>\n",
       "      <td>90.27</td>\n",
       "    </tr>\n",
       "    <tr>\n",
       "      <th>0</th>\n",
       "      <td>1/1/2020</td>\n",
       "      <td>East</td>\n",
       "      <td>Boston</td>\n",
       "      <td>Bars</td>\n",
       "      <td>Carrot</td>\n",
       "      <td>33.0</td>\n",
       "      <td>1.77</td>\n",
       "      <td>58.41</td>\n",
       "    </tr>\n",
       "  </tbody>\n",
       "</table>\n",
       "</div>"
      ],
      "text/plain": [
       "   OrderDate Region         City  Category         Product  Quantity  \\\n",
       "5  1/19/2020   East       Boston  Crackers     Whole Wheat     149.0   \n",
       "1   1/4/2020   East       Boston  Crackers     Whole Wheat      87.0   \n",
       "3  1/10/2020   East     New York   Cookies  Chocolate Chip      82.0   \n",
       "2   1/7/2020   West  Los Angeles   Cookies  Chocolate Chip      58.0   \n",
       "4  1/16/2020   East       Boston      Bars          Carrot      54.0   \n",
       "6  1/22/2020   West  Los Angeles      Bars          Carrot      51.0   \n",
       "0   1/1/2020   East       Boston      Bars          Carrot      33.0   \n",
       "\n",
       "   UnitPrice  Total Price  \n",
       "5       3.49       520.01  \n",
       "1       3.49       303.63  \n",
       "3       1.87       153.34  \n",
       "2       1.87       108.46  \n",
       "4       1.77        95.58  \n",
       "6       1.77        90.27  \n",
       "0       1.77        58.41  "
      ]
     },
     "execution_count": 17,
     "metadata": {},
     "output_type": "execute_result"
    }
   ],
   "source": [
    "Sorted_df = df.sort_values(by=['Total Price'],ascending=False)\n",
    "Sorted_df"
   ]
  },
  {
   "cell_type": "markdown",
   "id": "9542cbef",
   "metadata": {},
   "source": [
    "#### Ranking data"
   ]
  },
  {
   "cell_type": "code",
   "execution_count": 19,
   "id": "62d06962",
   "metadata": {},
   "outputs": [],
   "source": [
    "raw_data = {'ID': [1, 2, 3, 4, 5],\n",
    "                'Name': ['Sara', 'Katie', 'David', 'Hazal', 'Georgie'],\n",
    "                'Address': [42, 38, 36, 41, 35],\n",
    "                'Salary': [33000, 45000, 65000, 95000, 35000]}"
   ]
  },
  {
   "cell_type": "code",
   "execution_count": 21,
   "id": "dca58939",
   "metadata": {},
   "outputs": [
    {
     "data": {
      "text/html": [
       "<div>\n",
       "<style scoped>\n",
       "    .dataframe tbody tr th:only-of-type {\n",
       "        vertical-align: middle;\n",
       "    }\n",
       "\n",
       "    .dataframe tbody tr th {\n",
       "        vertical-align: top;\n",
       "    }\n",
       "\n",
       "    .dataframe thead th {\n",
       "        text-align: right;\n",
       "    }\n",
       "</style>\n",
       "<table border=\"1\" class=\"dataframe\">\n",
       "  <thead>\n",
       "    <tr style=\"text-align: right;\">\n",
       "      <th></th>\n",
       "      <th>ID</th>\n",
       "      <th>Name</th>\n",
       "      <th>Address</th>\n",
       "      <th>Salary</th>\n",
       "    </tr>\n",
       "  </thead>\n",
       "  <tbody>\n",
       "    <tr>\n",
       "      <th>0</th>\n",
       "      <td>1</td>\n",
       "      <td>Sara</td>\n",
       "      <td>42</td>\n",
       "      <td>33000</td>\n",
       "    </tr>\n",
       "    <tr>\n",
       "      <th>1</th>\n",
       "      <td>2</td>\n",
       "      <td>Katie</td>\n",
       "      <td>38</td>\n",
       "      <td>45000</td>\n",
       "    </tr>\n",
       "    <tr>\n",
       "      <th>2</th>\n",
       "      <td>3</td>\n",
       "      <td>David</td>\n",
       "      <td>36</td>\n",
       "      <td>65000</td>\n",
       "    </tr>\n",
       "    <tr>\n",
       "      <th>3</th>\n",
       "      <td>4</td>\n",
       "      <td>Hazal</td>\n",
       "      <td>41</td>\n",
       "      <td>95000</td>\n",
       "    </tr>\n",
       "    <tr>\n",
       "      <th>4</th>\n",
       "      <td>5</td>\n",
       "      <td>Georgie</td>\n",
       "      <td>35</td>\n",
       "      <td>35000</td>\n",
       "    </tr>\n",
       "  </tbody>\n",
       "</table>\n",
       "</div>"
      ],
      "text/plain": [
       "   ID     Name  Address  Salary\n",
       "0   1     Sara       42   33000\n",
       "1   2    Katie       38   45000\n",
       "2   3    David       36   65000\n",
       "3   4    Hazal       41   95000\n",
       "4   5  Georgie       35   35000"
      ]
     },
     "execution_count": 21,
     "metadata": {},
     "output_type": "execute_result"
    }
   ],
   "source": [
    "data_rank = pd.DataFrame(raw_data, columns = ['ID', 'Name', 'Address','Salary'])\n",
    "data_rank"
   ]
  },
  {
   "cell_type": "code",
   "execution_count": 23,
   "id": "8484f19e",
   "metadata": {},
   "outputs": [
    {
     "data": {
      "text/html": [
       "<div>\n",
       "<style scoped>\n",
       "    .dataframe tbody tr th:only-of-type {\n",
       "        vertical-align: middle;\n",
       "    }\n",
       "\n",
       "    .dataframe tbody tr th {\n",
       "        vertical-align: top;\n",
       "    }\n",
       "\n",
       "    .dataframe thead th {\n",
       "        text-align: right;\n",
       "    }\n",
       "</style>\n",
       "<table border=\"1\" class=\"dataframe\">\n",
       "  <thead>\n",
       "    <tr style=\"text-align: right;\">\n",
       "      <th></th>\n",
       "      <th>ID</th>\n",
       "      <th>Name</th>\n",
       "      <th>Address</th>\n",
       "      <th>Salary</th>\n",
       "      <th>Salary_Rank</th>\n",
       "    </tr>\n",
       "  </thead>\n",
       "  <tbody>\n",
       "    <tr>\n",
       "      <th>0</th>\n",
       "      <td>1</td>\n",
       "      <td>Sara</td>\n",
       "      <td>42</td>\n",
       "      <td>33000</td>\n",
       "      <td>1.0</td>\n",
       "    </tr>\n",
       "    <tr>\n",
       "      <th>1</th>\n",
       "      <td>2</td>\n",
       "      <td>Katie</td>\n",
       "      <td>38</td>\n",
       "      <td>45000</td>\n",
       "      <td>3.0</td>\n",
       "    </tr>\n",
       "    <tr>\n",
       "      <th>2</th>\n",
       "      <td>3</td>\n",
       "      <td>David</td>\n",
       "      <td>36</td>\n",
       "      <td>65000</td>\n",
       "      <td>4.0</td>\n",
       "    </tr>\n",
       "    <tr>\n",
       "      <th>3</th>\n",
       "      <td>4</td>\n",
       "      <td>Hazal</td>\n",
       "      <td>41</td>\n",
       "      <td>95000</td>\n",
       "      <td>5.0</td>\n",
       "    </tr>\n",
       "    <tr>\n",
       "      <th>4</th>\n",
       "      <td>5</td>\n",
       "      <td>Georgie</td>\n",
       "      <td>35</td>\n",
       "      <td>35000</td>\n",
       "      <td>2.0</td>\n",
       "    </tr>\n",
       "  </tbody>\n",
       "</table>\n",
       "</div>"
      ],
      "text/plain": [
       "   ID     Name  Address  Salary  Salary_Rank\n",
       "0   1     Sara       42   33000          1.0\n",
       "1   2    Katie       38   45000          3.0\n",
       "2   3    David       36   65000          4.0\n",
       "3   4    Hazal       41   95000          5.0\n",
       "4   5  Georgie       35   35000          2.0"
      ]
     },
     "execution_count": 23,
     "metadata": {},
     "output_type": "execute_result"
    }
   ],
   "source": [
    "data_rank[\"Salary_Rank\"] = data_rank[\"Salary\"].rank(ascending = True)\n",
    "data_rank"
   ]
  },
  {
   "cell_type": "code",
   "execution_count": 24,
   "id": "7ff947ec",
   "metadata": {},
   "outputs": [
    {
     "data": {
      "text/html": [
       "<div>\n",
       "<style scoped>\n",
       "    .dataframe tbody tr th:only-of-type {\n",
       "        vertical-align: middle;\n",
       "    }\n",
       "\n",
       "    .dataframe tbody tr th {\n",
       "        vertical-align: top;\n",
       "    }\n",
       "\n",
       "    .dataframe thead th {\n",
       "        text-align: right;\n",
       "    }\n",
       "</style>\n",
       "<table border=\"1\" class=\"dataframe\">\n",
       "  <thead>\n",
       "    <tr style=\"text-align: right;\">\n",
       "      <th></th>\n",
       "      <th>ID</th>\n",
       "      <th>Name</th>\n",
       "      <th>Address</th>\n",
       "      <th>Salary</th>\n",
       "      <th>Salary_Rank</th>\n",
       "    </tr>\n",
       "  </thead>\n",
       "  <tbody>\n",
       "    <tr>\n",
       "      <th>0</th>\n",
       "      <td>1</td>\n",
       "      <td>Sara</td>\n",
       "      <td>42</td>\n",
       "      <td>33000</td>\n",
       "      <td>5.0</td>\n",
       "    </tr>\n",
       "    <tr>\n",
       "      <th>1</th>\n",
       "      <td>2</td>\n",
       "      <td>Katie</td>\n",
       "      <td>38</td>\n",
       "      <td>45000</td>\n",
       "      <td>3.0</td>\n",
       "    </tr>\n",
       "    <tr>\n",
       "      <th>2</th>\n",
       "      <td>3</td>\n",
       "      <td>David</td>\n",
       "      <td>36</td>\n",
       "      <td>65000</td>\n",
       "      <td>2.0</td>\n",
       "    </tr>\n",
       "    <tr>\n",
       "      <th>3</th>\n",
       "      <td>4</td>\n",
       "      <td>Hazal</td>\n",
       "      <td>41</td>\n",
       "      <td>95000</td>\n",
       "      <td>1.0</td>\n",
       "    </tr>\n",
       "    <tr>\n",
       "      <th>4</th>\n",
       "      <td>5</td>\n",
       "      <td>Georgie</td>\n",
       "      <td>35</td>\n",
       "      <td>35000</td>\n",
       "      <td>4.0</td>\n",
       "    </tr>\n",
       "  </tbody>\n",
       "</table>\n",
       "</div>"
      ],
      "text/plain": [
       "   ID     Name  Address  Salary  Salary_Rank\n",
       "0   1     Sara       42   33000          5.0\n",
       "1   2    Katie       38   45000          3.0\n",
       "2   3    David       36   65000          2.0\n",
       "3   4    Hazal       41   95000          1.0\n",
       "4   5  Georgie       35   35000          4.0"
      ]
     },
     "execution_count": 24,
     "metadata": {},
     "output_type": "execute_result"
    }
   ],
   "source": [
    "data_rank[\"Salary_Rank\"] = data_rank[\"Salary\"].rank(ascending = False)\n",
    "data_rank"
   ]
  },
  {
   "cell_type": "code",
   "execution_count": 26,
   "id": "2e02a879",
   "metadata": {},
   "outputs": [
    {
     "data": {
      "text/html": [
       "<div>\n",
       "<style scoped>\n",
       "    .dataframe tbody tr th:only-of-type {\n",
       "        vertical-align: middle;\n",
       "    }\n",
       "\n",
       "    .dataframe tbody tr th {\n",
       "        vertical-align: top;\n",
       "    }\n",
       "\n",
       "    .dataframe thead th {\n",
       "        text-align: right;\n",
       "    }\n",
       "</style>\n",
       "<table border=\"1\" class=\"dataframe\">\n",
       "  <thead>\n",
       "    <tr style=\"text-align: right;\">\n",
       "      <th></th>\n",
       "      <th>Film</th>\n",
       "      <th>Revenue ($Billions)</th>\n",
       "      <th>Rank</th>\n",
       "    </tr>\n",
       "  </thead>\n",
       "  <tbody>\n",
       "    <tr>\n",
       "      <th>2</th>\n",
       "      <td>Top Gun: Maverick</td>\n",
       "      <td>1.48</td>\n",
       "      <td>1.0</td>\n",
       "    </tr>\n",
       "    <tr>\n",
       "      <th>3</th>\n",
       "      <td>Jurassic World: Dominion</td>\n",
       "      <td>1.00</td>\n",
       "      <td>2.0</td>\n",
       "    </tr>\n",
       "    <tr>\n",
       "      <th>0</th>\n",
       "      <td>Doctor Strange in the Multiverse Madness</td>\n",
       "      <td>0.96</td>\n",
       "      <td>3.0</td>\n",
       "    </tr>\n",
       "    <tr>\n",
       "      <th>1</th>\n",
       "      <td>Minions: Rise of the Gru</td>\n",
       "      <td>0.94</td>\n",
       "      <td>4.0</td>\n",
       "    </tr>\n",
       "  </tbody>\n",
       "</table>\n",
       "</div>"
      ],
      "text/plain": [
       "                                       Film  Revenue ($Billions)  Rank\n",
       "2                         Top Gun: Maverick                 1.48   1.0\n",
       "3                  Jurassic World: Dominion                 1.00   2.0\n",
       "0  Doctor Strange in the Multiverse Madness                 0.96   3.0\n",
       "1                  Minions: Rise of the Gru                 0.94   4.0"
      ]
     },
     "execution_count": 26,
     "metadata": {},
     "output_type": "execute_result"
    }
   ],
   "source": [
    "import pandas as pd\n",
    "data = {'Film': ['Doctor Strange in the Multiverse Madness','Minions: Rise of the Gru', 'Top Gun: Maverick', 'Jurassic World: Dominion'],\n",
    "            'Revenue ($Billions)': [.96,.94, 1.48,1.00,]}\n",
    "df_films = pd.DataFrame(data)\n",
    "df_films\n",
    "\n",
    "df_films['Rank']=df_films['Revenue ($Billions)'].rank(ascending=False)\n",
    "df_films.sort_values(['Rank'], ascending=True)"
   ]
  },
  {
   "cell_type": "markdown",
   "id": "a31cc381",
   "metadata": {},
   "source": [
    "### Ranking"
   ]
  },
  {
   "cell_type": "code",
   "execution_count": 18,
   "id": "fa1612eb",
   "metadata": {},
   "outputs": [
    {
     "data": {
      "text/html": [
       "<div>\n",
       "<style scoped>\n",
       "    .dataframe tbody tr th:only-of-type {\n",
       "        vertical-align: middle;\n",
       "    }\n",
       "\n",
       "    .dataframe tbody tr th {\n",
       "        vertical-align: top;\n",
       "    }\n",
       "\n",
       "    .dataframe thead th {\n",
       "        text-align: right;\n",
       "    }\n",
       "</style>\n",
       "<table border=\"1\" class=\"dataframe\">\n",
       "  <thead>\n",
       "    <tr style=\"text-align: right;\">\n",
       "      <th></th>\n",
       "      <th>id</th>\n",
       "      <th>Name</th>\n",
       "      <th>Address</th>\n",
       "      <th>Salary</th>\n",
       "    </tr>\n",
       "  </thead>\n",
       "  <tbody>\n",
       "    <tr>\n",
       "      <th>0</th>\n",
       "      <td>1</td>\n",
       "      <td>Sara</td>\n",
       "      <td>42</td>\n",
       "      <td>33000</td>\n",
       "    </tr>\n",
       "    <tr>\n",
       "      <th>1</th>\n",
       "      <td>2</td>\n",
       "      <td>Katie</td>\n",
       "      <td>38</td>\n",
       "      <td>45000</td>\n",
       "    </tr>\n",
       "    <tr>\n",
       "      <th>2</th>\n",
       "      <td>3</td>\n",
       "      <td>David</td>\n",
       "      <td>36</td>\n",
       "      <td>65000</td>\n",
       "    </tr>\n",
       "    <tr>\n",
       "      <th>3</th>\n",
       "      <td>4</td>\n",
       "      <td>Hazal</td>\n",
       "      <td>41</td>\n",
       "      <td>95000</td>\n",
       "    </tr>\n",
       "    <tr>\n",
       "      <th>4</th>\n",
       "      <td>5</td>\n",
       "      <td>Georgie</td>\n",
       "      <td>35</td>\n",
       "      <td>35000</td>\n",
       "    </tr>\n",
       "  </tbody>\n",
       "</table>\n",
       "</div>"
      ],
      "text/plain": [
       "   id     Name  Address  Salary\n",
       "0   1     Sara       42   33000\n",
       "1   2    Katie       38   45000\n",
       "2   3    David       36   65000\n",
       "3   4    Hazal       41   95000\n",
       "4   5  Georgie       35   35000"
      ]
     },
     "execution_count": 18,
     "metadata": {},
     "output_type": "execute_result"
    }
   ],
   "source": [
    "raw_data = {\"id\":[1,2,3,4,5],\n",
    "        \"Name\":['Sara', 'Katie', 'David', 'Hazal', 'Georgie'],\n",
    "        \"Address\":[42, 38, 36, 41, 35],\n",
    "        \"Salary\":[33000, 45000, 65000, 95000, 35000]}\n",
    "emp_data = pd.DataFrame(raw_data, columns = [\"id\", \"Name\", \"Address\", \"Salary\"])\n",
    "emp_data"
   ]
  },
  {
   "cell_type": "code",
   "execution_count": 20,
   "id": "d0f945cd",
   "metadata": {},
   "outputs": [
    {
     "data": {
      "text/html": [
       "<div>\n",
       "<style scoped>\n",
       "    .dataframe tbody tr th:only-of-type {\n",
       "        vertical-align: middle;\n",
       "    }\n",
       "\n",
       "    .dataframe tbody tr th {\n",
       "        vertical-align: top;\n",
       "    }\n",
       "\n",
       "    .dataframe thead th {\n",
       "        text-align: right;\n",
       "    }\n",
       "</style>\n",
       "<table border=\"1\" class=\"dataframe\">\n",
       "  <thead>\n",
       "    <tr style=\"text-align: right;\">\n",
       "      <th></th>\n",
       "      <th>id</th>\n",
       "      <th>Name</th>\n",
       "      <th>Address</th>\n",
       "      <th>Salary</th>\n",
       "      <th>Salary_rank</th>\n",
       "    </tr>\n",
       "  </thead>\n",
       "  <tbody>\n",
       "    <tr>\n",
       "      <th>0</th>\n",
       "      <td>1</td>\n",
       "      <td>Sara</td>\n",
       "      <td>42</td>\n",
       "      <td>33000</td>\n",
       "      <td>1.0</td>\n",
       "    </tr>\n",
       "    <tr>\n",
       "      <th>1</th>\n",
       "      <td>2</td>\n",
       "      <td>Katie</td>\n",
       "      <td>38</td>\n",
       "      <td>45000</td>\n",
       "      <td>3.0</td>\n",
       "    </tr>\n",
       "    <tr>\n",
       "      <th>2</th>\n",
       "      <td>3</td>\n",
       "      <td>David</td>\n",
       "      <td>36</td>\n",
       "      <td>65000</td>\n",
       "      <td>4.0</td>\n",
       "    </tr>\n",
       "    <tr>\n",
       "      <th>3</th>\n",
       "      <td>4</td>\n",
       "      <td>Hazal</td>\n",
       "      <td>41</td>\n",
       "      <td>95000</td>\n",
       "      <td>5.0</td>\n",
       "    </tr>\n",
       "    <tr>\n",
       "      <th>4</th>\n",
       "      <td>5</td>\n",
       "      <td>Georgie</td>\n",
       "      <td>35</td>\n",
       "      <td>35000</td>\n",
       "      <td>2.0</td>\n",
       "    </tr>\n",
       "  </tbody>\n",
       "</table>\n",
       "</div>"
      ],
      "text/plain": [
       "   id     Name  Address  Salary  Salary_rank\n",
       "0   1     Sara       42   33000          1.0\n",
       "1   2    Katie       38   45000          3.0\n",
       "2   3    David       36   65000          4.0\n",
       "3   4    Hazal       41   95000          5.0\n",
       "4   5  Georgie       35   35000          2.0"
      ]
     },
     "execution_count": 20,
     "metadata": {},
     "output_type": "execute_result"
    }
   ],
   "source": [
    "emp_data[\"Salary_rank\"] = emp_data[\"Salary\"].rank(ascending= True)\n",
    "emp_data"
   ]
  },
  {
   "cell_type": "code",
   "execution_count": 21,
   "id": "ac2ce17e",
   "metadata": {},
   "outputs": [
    {
     "data": {
      "text/html": [
       "<div>\n",
       "<style scoped>\n",
       "    .dataframe tbody tr th:only-of-type {\n",
       "        vertical-align: middle;\n",
       "    }\n",
       "\n",
       "    .dataframe tbody tr th {\n",
       "        vertical-align: top;\n",
       "    }\n",
       "\n",
       "    .dataframe thead th {\n",
       "        text-align: right;\n",
       "    }\n",
       "</style>\n",
       "<table border=\"1\" class=\"dataframe\">\n",
       "  <thead>\n",
       "    <tr style=\"text-align: right;\">\n",
       "      <th></th>\n",
       "      <th>id</th>\n",
       "      <th>Name</th>\n",
       "      <th>Address</th>\n",
       "      <th>Salary</th>\n",
       "      <th>Salary_rank</th>\n",
       "      <th>Salary_rank_desc</th>\n",
       "    </tr>\n",
       "  </thead>\n",
       "  <tbody>\n",
       "    <tr>\n",
       "      <th>0</th>\n",
       "      <td>1</td>\n",
       "      <td>Sara</td>\n",
       "      <td>42</td>\n",
       "      <td>33000</td>\n",
       "      <td>1.0</td>\n",
       "      <td>5.0</td>\n",
       "    </tr>\n",
       "    <tr>\n",
       "      <th>1</th>\n",
       "      <td>2</td>\n",
       "      <td>Katie</td>\n",
       "      <td>38</td>\n",
       "      <td>45000</td>\n",
       "      <td>3.0</td>\n",
       "      <td>3.0</td>\n",
       "    </tr>\n",
       "    <tr>\n",
       "      <th>2</th>\n",
       "      <td>3</td>\n",
       "      <td>David</td>\n",
       "      <td>36</td>\n",
       "      <td>65000</td>\n",
       "      <td>4.0</td>\n",
       "      <td>2.0</td>\n",
       "    </tr>\n",
       "    <tr>\n",
       "      <th>3</th>\n",
       "      <td>4</td>\n",
       "      <td>Hazal</td>\n",
       "      <td>41</td>\n",
       "      <td>95000</td>\n",
       "      <td>5.0</td>\n",
       "      <td>1.0</td>\n",
       "    </tr>\n",
       "    <tr>\n",
       "      <th>4</th>\n",
       "      <td>5</td>\n",
       "      <td>Georgie</td>\n",
       "      <td>35</td>\n",
       "      <td>35000</td>\n",
       "      <td>2.0</td>\n",
       "      <td>4.0</td>\n",
       "    </tr>\n",
       "  </tbody>\n",
       "</table>\n",
       "</div>"
      ],
      "text/plain": [
       "   id     Name  Address  Salary  Salary_rank  Salary_rank_desc\n",
       "0   1     Sara       42   33000          1.0               5.0\n",
       "1   2    Katie       38   45000          3.0               3.0\n",
       "2   3    David       36   65000          4.0               2.0\n",
       "3   4    Hazal       41   95000          5.0               1.0\n",
       "4   5  Georgie       35   35000          2.0               4.0"
      ]
     },
     "execution_count": 21,
     "metadata": {},
     "output_type": "execute_result"
    }
   ],
   "source": [
    "emp_data[\"Salary_rank_desc\"] = emp_data[\"Salary\"].rank(ascending= False)\n",
    "emp_data"
   ]
  },
  {
   "cell_type": "code",
   "execution_count": 23,
   "id": "85f5a941",
   "metadata": {},
   "outputs": [
    {
     "data": {
      "text/html": [
       "<div>\n",
       "<style scoped>\n",
       "    .dataframe tbody tr th:only-of-type {\n",
       "        vertical-align: middle;\n",
       "    }\n",
       "\n",
       "    .dataframe tbody tr th {\n",
       "        vertical-align: top;\n",
       "    }\n",
       "\n",
       "    .dataframe thead th {\n",
       "        text-align: right;\n",
       "    }\n",
       "</style>\n",
       "<table border=\"1\" class=\"dataframe\">\n",
       "  <thead>\n",
       "    <tr style=\"text-align: right;\">\n",
       "      <th></th>\n",
       "      <th>Film</th>\n",
       "      <th>Revenue</th>\n",
       "    </tr>\n",
       "  </thead>\n",
       "  <tbody>\n",
       "    <tr>\n",
       "      <th>0</th>\n",
       "      <td>Doctor Strange in the Multiverse Madness</td>\n",
       "      <td>0.96</td>\n",
       "    </tr>\n",
       "    <tr>\n",
       "      <th>1</th>\n",
       "      <td>Minions: Rise of the Gru</td>\n",
       "      <td>0.94</td>\n",
       "    </tr>\n",
       "    <tr>\n",
       "      <th>2</th>\n",
       "      <td>Top Gun: Maverick</td>\n",
       "      <td>1.48</td>\n",
       "    </tr>\n",
       "    <tr>\n",
       "      <th>3</th>\n",
       "      <td>Jurassic World: Dominion</td>\n",
       "      <td>1.00</td>\n",
       "    </tr>\n",
       "  </tbody>\n",
       "</table>\n",
       "</div>"
      ],
      "text/plain": [
       "                                       Film  Revenue\n",
       "0  Doctor Strange in the Multiverse Madness     0.96\n",
       "1                  Minions: Rise of the Gru     0.94\n",
       "2                         Top Gun: Maverick     1.48\n",
       "3                  Jurassic World: Dominion     1.00"
      ]
     },
     "execution_count": 23,
     "metadata": {},
     "output_type": "execute_result"
    }
   ],
   "source": [
    "data= {'Film': ['Doctor Strange in the Multiverse Madness','Minions: Rise of the Gru', \"Top Gun: Maverick\", \"Jurassic World: Dominion\"],\n",
    "        'Revenue': [.96,.94, 1.48,1.00,]}\n",
    "film_data = pd.DataFrame(data, columns = [\"Film\", \"Revenue\"])\n",
    "film_data"
   ]
  },
  {
   "cell_type": "code",
   "execution_count": 25,
   "id": "f01c05a1",
   "metadata": {},
   "outputs": [
    {
     "data": {
      "text/html": [
       "<div>\n",
       "<style scoped>\n",
       "    .dataframe tbody tr th:only-of-type {\n",
       "        vertical-align: middle;\n",
       "    }\n",
       "\n",
       "    .dataframe tbody tr th {\n",
       "        vertical-align: top;\n",
       "    }\n",
       "\n",
       "    .dataframe thead th {\n",
       "        text-align: right;\n",
       "    }\n",
       "</style>\n",
       "<table border=\"1\" class=\"dataframe\">\n",
       "  <thead>\n",
       "    <tr style=\"text-align: right;\">\n",
       "      <th></th>\n",
       "      <th>Film</th>\n",
       "      <th>Revenue</th>\n",
       "      <th>Revenue_Rank</th>\n",
       "    </tr>\n",
       "  </thead>\n",
       "  <tbody>\n",
       "    <tr>\n",
       "      <th>0</th>\n",
       "      <td>Doctor Strange in the Multiverse Madness</td>\n",
       "      <td>0.96</td>\n",
       "      <td>2.0</td>\n",
       "    </tr>\n",
       "    <tr>\n",
       "      <th>1</th>\n",
       "      <td>Minions: Rise of the Gru</td>\n",
       "      <td>0.94</td>\n",
       "      <td>1.0</td>\n",
       "    </tr>\n",
       "    <tr>\n",
       "      <th>2</th>\n",
       "      <td>Top Gun: Maverick</td>\n",
       "      <td>1.48</td>\n",
       "      <td>4.0</td>\n",
       "    </tr>\n",
       "    <tr>\n",
       "      <th>3</th>\n",
       "      <td>Jurassic World: Dominion</td>\n",
       "      <td>1.00</td>\n",
       "      <td>3.0</td>\n",
       "    </tr>\n",
       "  </tbody>\n",
       "</table>\n",
       "</div>"
      ],
      "text/plain": [
       "                                       Film  Revenue  Revenue_Rank\n",
       "0  Doctor Strange in the Multiverse Madness     0.96           2.0\n",
       "1                  Minions: Rise of the Gru     0.94           1.0\n",
       "2                         Top Gun: Maverick     1.48           4.0\n",
       "3                  Jurassic World: Dominion     1.00           3.0"
      ]
     },
     "execution_count": 25,
     "metadata": {},
     "output_type": "execute_result"
    }
   ],
   "source": [
    "film_data[\"Revenue_Rank\"] = film_data[\"Revenue\"].rank(ascending = True)\n",
    "film_data"
   ]
  },
  {
   "cell_type": "markdown",
   "id": "d5be45dc",
   "metadata": {},
   "source": [
    "## Merge & Join\n",
    "\n",
    "Both do similar job, but merge creates new index while join keeps the same index at the left side"
   ]
  },
  {
   "cell_type": "code",
   "execution_count": 29,
   "id": "265b5060",
   "metadata": {},
   "outputs": [
    {
     "data": {
      "text/html": [
       "<div>\n",
       "<style scoped>\n",
       "    .dataframe tbody tr th:only-of-type {\n",
       "        vertical-align: middle;\n",
       "    }\n",
       "\n",
       "    .dataframe tbody tr th {\n",
       "        vertical-align: top;\n",
       "    }\n",
       "\n",
       "    .dataframe thead th {\n",
       "        text-align: right;\n",
       "    }\n",
       "</style>\n",
       "<table border=\"1\" class=\"dataframe\">\n",
       "  <thead>\n",
       "    <tr style=\"text-align: right;\">\n",
       "      <th></th>\n",
       "      <th>ID</th>\n",
       "      <th>Name</th>\n",
       "      <th>Address</th>\n",
       "      <th>Salary</th>\n",
       "    </tr>\n",
       "  </thead>\n",
       "  <tbody>\n",
       "    <tr>\n",
       "      <th>0</th>\n",
       "      <td>1</td>\n",
       "      <td>Sara</td>\n",
       "      <td>42</td>\n",
       "      <td>33000</td>\n",
       "    </tr>\n",
       "    <tr>\n",
       "      <th>1</th>\n",
       "      <td>2</td>\n",
       "      <td>Katie</td>\n",
       "      <td>38</td>\n",
       "      <td>45000</td>\n",
       "    </tr>\n",
       "    <tr>\n",
       "      <th>2</th>\n",
       "      <td>3</td>\n",
       "      <td>David</td>\n",
       "      <td>36</td>\n",
       "      <td>65000</td>\n",
       "    </tr>\n",
       "    <tr>\n",
       "      <th>3</th>\n",
       "      <td>4</td>\n",
       "      <td>Hazal</td>\n",
       "      <td>41</td>\n",
       "      <td>95000</td>\n",
       "    </tr>\n",
       "    <tr>\n",
       "      <th>4</th>\n",
       "      <td>5</td>\n",
       "      <td>Georgie</td>\n",
       "      <td>35</td>\n",
       "      <td>35000</td>\n",
       "    </tr>\n",
       "  </tbody>\n",
       "</table>\n",
       "</div>"
      ],
      "text/plain": [
       "   ID     Name  Address  Salary\n",
       "0   1     Sara       42   33000\n",
       "1   2    Katie       38   45000\n",
       "2   3    David       36   65000\n",
       "3   4    Hazal       41   95000\n",
       "4   5  Georgie       35   35000"
      ]
     },
     "execution_count": 29,
     "metadata": {},
     "output_type": "execute_result"
    }
   ],
   "source": [
    "Employee = pd.DataFrame({\"ID\": [1, 2, 3, 4, 5],\n",
    "                         \"Name\":['Sara', 'Katie', 'David', 'Hazal', 'Georgie'],\n",
    "                         \"Address\":[42, 38, 36, 41, 35],\n",
    "                         \"Salary\":[33000, 45000, 65000, 95000, 35000]\n",
    "                        })\n",
    "Employee"
   ]
  },
  {
   "cell_type": "code",
   "execution_count": 30,
   "id": "fb2f2da4",
   "metadata": {},
   "outputs": [
    {
     "data": {
      "text/html": [
       "<div>\n",
       "<style scoped>\n",
       "    .dataframe tbody tr th:only-of-type {\n",
       "        vertical-align: middle;\n",
       "    }\n",
       "\n",
       "    .dataframe tbody tr th {\n",
       "        vertical-align: top;\n",
       "    }\n",
       "\n",
       "    .dataframe thead th {\n",
       "        text-align: right;\n",
       "    }\n",
       "</style>\n",
       "<table border=\"1\" class=\"dataframe\">\n",
       "  <thead>\n",
       "    <tr style=\"text-align: right;\">\n",
       "      <th></th>\n",
       "      <th>ID</th>\n",
       "      <th>course</th>\n",
       "    </tr>\n",
       "  </thead>\n",
       "  <tbody>\n",
       "    <tr>\n",
       "      <th>0</th>\n",
       "      <td>1</td>\n",
       "      <td>Sales</td>\n",
       "    </tr>\n",
       "    <tr>\n",
       "      <th>1</th>\n",
       "      <td>3</td>\n",
       "      <td>HR</td>\n",
       "    </tr>\n",
       "    <tr>\n",
       "      <th>2</th>\n",
       "      <td>5</td>\n",
       "      <td>Marketing</td>\n",
       "    </tr>\n",
       "    <tr>\n",
       "      <th>3</th>\n",
       "      <td>7</td>\n",
       "      <td>Finance</td>\n",
       "    </tr>\n",
       "  </tbody>\n",
       "</table>\n",
       "</div>"
      ],
      "text/plain": [
       "   ID     course\n",
       "0   1      Sales\n",
       "1   3         HR\n",
       "2   5  Marketing\n",
       "3   7    Finance"
      ]
     },
     "execution_count": 30,
     "metadata": {},
     "output_type": "execute_result"
    }
   ],
   "source": [
    "Department = pd.DataFrame({\"ID\":[1,3,5,7],\n",
    "                          \"course\":['Sales','HR','Marketing','Finance']\n",
    "                          })\n",
    "Department"
   ]
  },
  {
   "cell_type": "code",
   "execution_count": 31,
   "id": "44fb7d09",
   "metadata": {},
   "outputs": [
    {
     "data": {
      "text/html": [
       "<div>\n",
       "<style scoped>\n",
       "    .dataframe tbody tr th:only-of-type {\n",
       "        vertical-align: middle;\n",
       "    }\n",
       "\n",
       "    .dataframe tbody tr th {\n",
       "        vertical-align: top;\n",
       "    }\n",
       "\n",
       "    .dataframe thead th {\n",
       "        text-align: right;\n",
       "    }\n",
       "</style>\n",
       "<table border=\"1\" class=\"dataframe\">\n",
       "  <thead>\n",
       "    <tr style=\"text-align: right;\">\n",
       "      <th></th>\n",
       "      <th>ID</th>\n",
       "      <th>Name</th>\n",
       "      <th>Address</th>\n",
       "      <th>Salary</th>\n",
       "      <th>course</th>\n",
       "    </tr>\n",
       "  </thead>\n",
       "  <tbody>\n",
       "    <tr>\n",
       "      <th>0</th>\n",
       "      <td>1</td>\n",
       "      <td>Sara</td>\n",
       "      <td>42</td>\n",
       "      <td>33000</td>\n",
       "      <td>Sales</td>\n",
       "    </tr>\n",
       "    <tr>\n",
       "      <th>1</th>\n",
       "      <td>3</td>\n",
       "      <td>David</td>\n",
       "      <td>36</td>\n",
       "      <td>65000</td>\n",
       "      <td>HR</td>\n",
       "    </tr>\n",
       "    <tr>\n",
       "      <th>2</th>\n",
       "      <td>5</td>\n",
       "      <td>Georgie</td>\n",
       "      <td>35</td>\n",
       "      <td>35000</td>\n",
       "      <td>Marketing</td>\n",
       "    </tr>\n",
       "  </tbody>\n",
       "</table>\n",
       "</div>"
      ],
      "text/plain": [
       "   ID     Name  Address  Salary     course\n",
       "0   1     Sara       42   33000      Sales\n",
       "1   3    David       36   65000         HR\n",
       "2   5  Georgie       35   35000  Marketing"
      ]
     },
     "execution_count": 31,
     "metadata": {},
     "output_type": "execute_result"
    }
   ],
   "source": [
    "inner_join = Employee.merge(Department, on= \"ID\", how= \"inner\")   # inner join\n",
    "inner_join"
   ]
  },
  {
   "cell_type": "code",
   "execution_count": 33,
   "id": "b52bcd03",
   "metadata": {},
   "outputs": [
    {
     "data": {
      "text/html": [
       "<div>\n",
       "<style scoped>\n",
       "    .dataframe tbody tr th:only-of-type {\n",
       "        vertical-align: middle;\n",
       "    }\n",
       "\n",
       "    .dataframe tbody tr th {\n",
       "        vertical-align: top;\n",
       "    }\n",
       "\n",
       "    .dataframe thead th {\n",
       "        text-align: right;\n",
       "    }\n",
       "</style>\n",
       "<table border=\"1\" class=\"dataframe\">\n",
       "  <thead>\n",
       "    <tr style=\"text-align: right;\">\n",
       "      <th></th>\n",
       "      <th>ID</th>\n",
       "      <th>Name</th>\n",
       "      <th>Address</th>\n",
       "      <th>Salary</th>\n",
       "      <th>course</th>\n",
       "    </tr>\n",
       "  </thead>\n",
       "  <tbody>\n",
       "    <tr>\n",
       "      <th>0</th>\n",
       "      <td>1</td>\n",
       "      <td>Sara</td>\n",
       "      <td>42.0</td>\n",
       "      <td>33000.0</td>\n",
       "      <td>Sales</td>\n",
       "    </tr>\n",
       "    <tr>\n",
       "      <th>1</th>\n",
       "      <td>2</td>\n",
       "      <td>Katie</td>\n",
       "      <td>38.0</td>\n",
       "      <td>45000.0</td>\n",
       "      <td>NaN</td>\n",
       "    </tr>\n",
       "    <tr>\n",
       "      <th>2</th>\n",
       "      <td>3</td>\n",
       "      <td>David</td>\n",
       "      <td>36.0</td>\n",
       "      <td>65000.0</td>\n",
       "      <td>HR</td>\n",
       "    </tr>\n",
       "    <tr>\n",
       "      <th>3</th>\n",
       "      <td>4</td>\n",
       "      <td>Hazal</td>\n",
       "      <td>41.0</td>\n",
       "      <td>95000.0</td>\n",
       "      <td>NaN</td>\n",
       "    </tr>\n",
       "    <tr>\n",
       "      <th>4</th>\n",
       "      <td>5</td>\n",
       "      <td>Georgie</td>\n",
       "      <td>35.0</td>\n",
       "      <td>35000.0</td>\n",
       "      <td>Marketing</td>\n",
       "    </tr>\n",
       "    <tr>\n",
       "      <th>5</th>\n",
       "      <td>7</td>\n",
       "      <td>NaN</td>\n",
       "      <td>NaN</td>\n",
       "      <td>NaN</td>\n",
       "      <td>Finance</td>\n",
       "    </tr>\n",
       "  </tbody>\n",
       "</table>\n",
       "</div>"
      ],
      "text/plain": [
       "   ID     Name  Address   Salary     course\n",
       "0   1     Sara     42.0  33000.0      Sales\n",
       "1   2    Katie     38.0  45000.0        NaN\n",
       "2   3    David     36.0  65000.0         HR\n",
       "3   4    Hazal     41.0  95000.0        NaN\n",
       "4   5  Georgie     35.0  35000.0  Marketing\n",
       "5   7      NaN      NaN      NaN    Finance"
      ]
     },
     "execution_count": 33,
     "metadata": {},
     "output_type": "execute_result"
    }
   ],
   "source": [
    "outer_join = Employee.merge(Department, on= \"ID\", how= \"outer\")  # outer/full join\n",
    "outer_join"
   ]
  },
  {
   "cell_type": "code",
   "execution_count": 35,
   "id": "d6ac6c51",
   "metadata": {},
   "outputs": [
    {
     "data": {
      "text/html": [
       "<div>\n",
       "<style scoped>\n",
       "    .dataframe tbody tr th:only-of-type {\n",
       "        vertical-align: middle;\n",
       "    }\n",
       "\n",
       "    .dataframe tbody tr th {\n",
       "        vertical-align: top;\n",
       "    }\n",
       "\n",
       "    .dataframe thead th {\n",
       "        text-align: right;\n",
       "    }\n",
       "</style>\n",
       "<table border=\"1\" class=\"dataframe\">\n",
       "  <thead>\n",
       "    <tr style=\"text-align: right;\">\n",
       "      <th></th>\n",
       "      <th>ID</th>\n",
       "      <th>Name</th>\n",
       "      <th>Address</th>\n",
       "      <th>Salary</th>\n",
       "      <th>course</th>\n",
       "    </tr>\n",
       "  </thead>\n",
       "  <tbody>\n",
       "    <tr>\n",
       "      <th>0</th>\n",
       "      <td>1</td>\n",
       "      <td>Sara</td>\n",
       "      <td>42</td>\n",
       "      <td>33000</td>\n",
       "      <td>Sales</td>\n",
       "    </tr>\n",
       "    <tr>\n",
       "      <th>1</th>\n",
       "      <td>2</td>\n",
       "      <td>Katie</td>\n",
       "      <td>38</td>\n",
       "      <td>45000</td>\n",
       "      <td>NaN</td>\n",
       "    </tr>\n",
       "    <tr>\n",
       "      <th>2</th>\n",
       "      <td>3</td>\n",
       "      <td>David</td>\n",
       "      <td>36</td>\n",
       "      <td>65000</td>\n",
       "      <td>HR</td>\n",
       "    </tr>\n",
       "    <tr>\n",
       "      <th>3</th>\n",
       "      <td>4</td>\n",
       "      <td>Hazal</td>\n",
       "      <td>41</td>\n",
       "      <td>95000</td>\n",
       "      <td>NaN</td>\n",
       "    </tr>\n",
       "    <tr>\n",
       "      <th>4</th>\n",
       "      <td>5</td>\n",
       "      <td>Georgie</td>\n",
       "      <td>35</td>\n",
       "      <td>35000</td>\n",
       "      <td>Marketing</td>\n",
       "    </tr>\n",
       "  </tbody>\n",
       "</table>\n",
       "</div>"
      ],
      "text/plain": [
       "   ID     Name  Address  Salary     course\n",
       "0   1     Sara       42   33000      Sales\n",
       "1   2    Katie       38   45000        NaN\n",
       "2   3    David       36   65000         HR\n",
       "3   4    Hazal       41   95000        NaN\n",
       "4   5  Georgie       35   35000  Marketing"
      ]
     },
     "execution_count": 35,
     "metadata": {},
     "output_type": "execute_result"
    }
   ],
   "source": [
    "left_join = Employee.merge(Department, on= \"ID\", how= \"left\") # left join\n",
    "left_join"
   ]
  },
  {
   "cell_type": "code",
   "execution_count": 37,
   "id": "3e2cc32c",
   "metadata": {},
   "outputs": [
    {
     "data": {
      "text/html": [
       "<div>\n",
       "<style scoped>\n",
       "    .dataframe tbody tr th:only-of-type {\n",
       "        vertical-align: middle;\n",
       "    }\n",
       "\n",
       "    .dataframe tbody tr th {\n",
       "        vertical-align: top;\n",
       "    }\n",
       "\n",
       "    .dataframe thead th {\n",
       "        text-align: right;\n",
       "    }\n",
       "</style>\n",
       "<table border=\"1\" class=\"dataframe\">\n",
       "  <thead>\n",
       "    <tr style=\"text-align: right;\">\n",
       "      <th></th>\n",
       "      <th>ID</th>\n",
       "      <th>Name</th>\n",
       "      <th>Address</th>\n",
       "      <th>Salary</th>\n",
       "      <th>course</th>\n",
       "    </tr>\n",
       "  </thead>\n",
       "  <tbody>\n",
       "    <tr>\n",
       "      <th>0</th>\n",
       "      <td>1</td>\n",
       "      <td>Sara</td>\n",
       "      <td>42.0</td>\n",
       "      <td>33000.0</td>\n",
       "      <td>Sales</td>\n",
       "    </tr>\n",
       "    <tr>\n",
       "      <th>1</th>\n",
       "      <td>3</td>\n",
       "      <td>David</td>\n",
       "      <td>36.0</td>\n",
       "      <td>65000.0</td>\n",
       "      <td>HR</td>\n",
       "    </tr>\n",
       "    <tr>\n",
       "      <th>2</th>\n",
       "      <td>5</td>\n",
       "      <td>Georgie</td>\n",
       "      <td>35.0</td>\n",
       "      <td>35000.0</td>\n",
       "      <td>Marketing</td>\n",
       "    </tr>\n",
       "    <tr>\n",
       "      <th>3</th>\n",
       "      <td>7</td>\n",
       "      <td>NaN</td>\n",
       "      <td>NaN</td>\n",
       "      <td>NaN</td>\n",
       "      <td>Finance</td>\n",
       "    </tr>\n",
       "  </tbody>\n",
       "</table>\n",
       "</div>"
      ],
      "text/plain": [
       "   ID     Name  Address   Salary     course\n",
       "0   1     Sara     42.0  33000.0      Sales\n",
       "1   3    David     36.0  65000.0         HR\n",
       "2   5  Georgie     35.0  35000.0  Marketing\n",
       "3   7      NaN      NaN      NaN    Finance"
      ]
     },
     "execution_count": 37,
     "metadata": {},
     "output_type": "execute_result"
    }
   ],
   "source": [
    "right_join = Employee.merge(Department, on= \"ID\", how= \"right\") # right join\n",
    "right_join"
   ]
  },
  {
   "cell_type": "code",
   "execution_count": 38,
   "id": "2c59b2f2",
   "metadata": {},
   "outputs": [
    {
     "name": "stdout",
     "output_type": "stream",
     "text": [
      "   Emp_ID     Name  Address  Salary\n",
      "0       1     Sara       42   33000\n",
      "1       2    Katie       38   45000\n",
      "2       3    David       36   65000\n",
      "3       4    Hazal       41   95000\n",
      "4       5  Georgie       35   35000\n"
     ]
    },
    {
     "data": {
      "text/html": [
       "<div>\n",
       "<style scoped>\n",
       "    .dataframe tbody tr th:only-of-type {\n",
       "        vertical-align: middle;\n",
       "    }\n",
       "\n",
       "    .dataframe tbody tr th {\n",
       "        vertical-align: top;\n",
       "    }\n",
       "\n",
       "    .dataframe thead th {\n",
       "        text-align: right;\n",
       "    }\n",
       "</style>\n",
       "<table border=\"1\" class=\"dataframe\">\n",
       "  <thead>\n",
       "    <tr style=\"text-align: right;\">\n",
       "      <th></th>\n",
       "      <th>Dept_ID</th>\n",
       "      <th>Course</th>\n",
       "    </tr>\n",
       "  </thead>\n",
       "  <tbody>\n",
       "    <tr>\n",
       "      <th>0</th>\n",
       "      <td>1</td>\n",
       "      <td>Sales</td>\n",
       "    </tr>\n",
       "    <tr>\n",
       "      <th>1</th>\n",
       "      <td>3</td>\n",
       "      <td>HR</td>\n",
       "    </tr>\n",
       "    <tr>\n",
       "      <th>2</th>\n",
       "      <td>5</td>\n",
       "      <td>Marketing</td>\n",
       "    </tr>\n",
       "    <tr>\n",
       "      <th>3</th>\n",
       "      <td>7</td>\n",
       "      <td>Finance</td>\n",
       "    </tr>\n",
       "  </tbody>\n",
       "</table>\n",
       "</div>"
      ],
      "text/plain": [
       "   Dept_ID     Course\n",
       "0        1      Sales\n",
       "1        3         HR\n",
       "2        5  Marketing\n",
       "3        7    Finance"
      ]
     },
     "execution_count": 38,
     "metadata": {},
     "output_type": "execute_result"
    }
   ],
   "source": [
    "# if the On columns have different names\n",
    "Emp = pd.DataFrame({\n",
    "    'Emp_ID': [1, 2, 3, 4, 5],\n",
    "    'Name': ['Sara', 'Katie', 'David', 'Hazal', 'Georgie'],\n",
    "    'Address': [42, 38, 36, 41, 35],\n",
    "    'Salary': [33000, 45000, 65000, 95000, 35000]\n",
    "})\n",
    "print(Emp)\n",
    "Dept = pd.DataFrame({\n",
    "    'Dept_ID' :[1,3,5,7],\n",
    "    'Course':['Sales','HR','Marketing','Finance']\n",
    "})\n",
    "Dept"
   ]
  },
  {
   "cell_type": "code",
   "execution_count": 40,
   "id": "34264994",
   "metadata": {},
   "outputs": [
    {
     "data": {
      "text/html": [
       "<div>\n",
       "<style scoped>\n",
       "    .dataframe tbody tr th:only-of-type {\n",
       "        vertical-align: middle;\n",
       "    }\n",
       "\n",
       "    .dataframe tbody tr th {\n",
       "        vertical-align: top;\n",
       "    }\n",
       "\n",
       "    .dataframe thead th {\n",
       "        text-align: right;\n",
       "    }\n",
       "</style>\n",
       "<table border=\"1\" class=\"dataframe\">\n",
       "  <thead>\n",
       "    <tr style=\"text-align: right;\">\n",
       "      <th></th>\n",
       "      <th>Emp_ID</th>\n",
       "      <th>Name</th>\n",
       "      <th>Address</th>\n",
       "      <th>Salary</th>\n",
       "      <th>Dept_ID</th>\n",
       "      <th>Course</th>\n",
       "    </tr>\n",
       "  </thead>\n",
       "  <tbody>\n",
       "    <tr>\n",
       "      <th>0</th>\n",
       "      <td>1</td>\n",
       "      <td>Sara</td>\n",
       "      <td>42</td>\n",
       "      <td>33000</td>\n",
       "      <td>1</td>\n",
       "      <td>Sales</td>\n",
       "    </tr>\n",
       "    <tr>\n",
       "      <th>1</th>\n",
       "      <td>3</td>\n",
       "      <td>David</td>\n",
       "      <td>36</td>\n",
       "      <td>65000</td>\n",
       "      <td>3</td>\n",
       "      <td>HR</td>\n",
       "    </tr>\n",
       "    <tr>\n",
       "      <th>2</th>\n",
       "      <td>5</td>\n",
       "      <td>Georgie</td>\n",
       "      <td>35</td>\n",
       "      <td>35000</td>\n",
       "      <td>5</td>\n",
       "      <td>Marketing</td>\n",
       "    </tr>\n",
       "  </tbody>\n",
       "</table>\n",
       "</div>"
      ],
      "text/plain": [
       "   Emp_ID     Name  Address  Salary  Dept_ID     Course\n",
       "0       1     Sara       42   33000        1      Sales\n",
       "1       3    David       36   65000        3         HR\n",
       "2       5  Georgie       35   35000        5  Marketing"
      ]
     },
     "execution_count": 40,
     "metadata": {},
     "output_type": "execute_result"
    }
   ],
   "source": [
    "inner_join = Emp.merge(Dept, left_on = \"Emp_ID\", right_on = \"Dept_ID\", how= \"inner\" )\n",
    "inner_join"
   ]
  },
  {
   "cell_type": "markdown",
   "id": "7e268db2",
   "metadata": {},
   "source": [
    "### Concatenate \n",
    "Adding tables/dataframes together along a particular axis (index, not ID)."
   ]
  },
  {
   "cell_type": "code",
   "execution_count": 41,
   "id": "c94a821e",
   "metadata": {},
   "outputs": [
    {
     "data": {
      "text/html": [
       "<div>\n",
       "<style scoped>\n",
       "    .dataframe tbody tr th:only-of-type {\n",
       "        vertical-align: middle;\n",
       "    }\n",
       "\n",
       "    .dataframe tbody tr th {\n",
       "        vertical-align: top;\n",
       "    }\n",
       "\n",
       "    .dataframe thead th {\n",
       "        text-align: right;\n",
       "    }\n",
       "</style>\n",
       "<table border=\"1\" class=\"dataframe\">\n",
       "  <thead>\n",
       "    <tr style=\"text-align: right;\">\n",
       "      <th></th>\n",
       "      <th>ID</th>\n",
       "      <th>Name</th>\n",
       "      <th>Address</th>\n",
       "      <th>Salary</th>\n",
       "      <th>ID</th>\n",
       "      <th>course</th>\n",
       "    </tr>\n",
       "  </thead>\n",
       "  <tbody>\n",
       "    <tr>\n",
       "      <th>0</th>\n",
       "      <td>1</td>\n",
       "      <td>Sara</td>\n",
       "      <td>42</td>\n",
       "      <td>33000</td>\n",
       "      <td>1.0</td>\n",
       "      <td>Sales</td>\n",
       "    </tr>\n",
       "    <tr>\n",
       "      <th>1</th>\n",
       "      <td>2</td>\n",
       "      <td>Katie</td>\n",
       "      <td>38</td>\n",
       "      <td>45000</td>\n",
       "      <td>3.0</td>\n",
       "      <td>HR</td>\n",
       "    </tr>\n",
       "    <tr>\n",
       "      <th>2</th>\n",
       "      <td>3</td>\n",
       "      <td>David</td>\n",
       "      <td>36</td>\n",
       "      <td>65000</td>\n",
       "      <td>5.0</td>\n",
       "      <td>Marketing</td>\n",
       "    </tr>\n",
       "    <tr>\n",
       "      <th>3</th>\n",
       "      <td>4</td>\n",
       "      <td>Hazal</td>\n",
       "      <td>41</td>\n",
       "      <td>95000</td>\n",
       "      <td>7.0</td>\n",
       "      <td>Finance</td>\n",
       "    </tr>\n",
       "    <tr>\n",
       "      <th>4</th>\n",
       "      <td>5</td>\n",
       "      <td>Georgie</td>\n",
       "      <td>35</td>\n",
       "      <td>35000</td>\n",
       "      <td>NaN</td>\n",
       "      <td>NaN</td>\n",
       "    </tr>\n",
       "  </tbody>\n",
       "</table>\n",
       "</div>"
      ],
      "text/plain": [
       "   ID     Name  Address  Salary   ID     course\n",
       "0   1     Sara       42   33000  1.0      Sales\n",
       "1   2    Katie       38   45000  3.0         HR\n",
       "2   3    David       36   65000  5.0  Marketing\n",
       "3   4    Hazal       41   95000  7.0    Finance\n",
       "4   5  Georgie       35   35000  NaN        NaN"
      ]
     },
     "execution_count": 41,
     "metadata": {},
     "output_type": "execute_result"
    }
   ],
   "source": [
    "df_con = pd.concat([Employee, Department], axis =1)\n",
    "df_con"
   ]
  },
  {
   "cell_type": "markdown",
   "id": "92804565",
   "metadata": {},
   "source": [
    "## Mapping\n",
    "\n",
    "- Mapping applies a given function to all the values in an iterable\n",
    "- Mappings are faster than 'For Loops'\n",
    "- Similar to VLOOKUPs in Excel\n"
   ]
  },
  {
   "cell_type": "code",
   "execution_count": 44,
   "id": "bf0586fc",
   "metadata": {},
   "outputs": [
    {
     "data": {
      "text/html": [
       "<div>\n",
       "<style scoped>\n",
       "    .dataframe tbody tr th:only-of-type {\n",
       "        vertical-align: middle;\n",
       "    }\n",
       "\n",
       "    .dataframe tbody tr th {\n",
       "        vertical-align: top;\n",
       "    }\n",
       "\n",
       "    .dataframe thead th {\n",
       "        text-align: right;\n",
       "    }\n",
       "</style>\n",
       "<table border=\"1\" class=\"dataframe\">\n",
       "  <thead>\n",
       "    <tr style=\"text-align: right;\">\n",
       "      <th></th>\n",
       "      <th>ID</th>\n",
       "      <th>Name</th>\n",
       "      <th>Address</th>\n",
       "      <th>Salary</th>\n",
       "      <th>Gender</th>\n",
       "    </tr>\n",
       "  </thead>\n",
       "  <tbody>\n",
       "    <tr>\n",
       "      <th>0</th>\n",
       "      <td>1</td>\n",
       "      <td>Sara</td>\n",
       "      <td>42</td>\n",
       "      <td>33000</td>\n",
       "      <td>Female</td>\n",
       "    </tr>\n",
       "    <tr>\n",
       "      <th>1</th>\n",
       "      <td>2</td>\n",
       "      <td>Katie</td>\n",
       "      <td>38</td>\n",
       "      <td>45000</td>\n",
       "      <td>Female</td>\n",
       "    </tr>\n",
       "    <tr>\n",
       "      <th>2</th>\n",
       "      <td>3</td>\n",
       "      <td>David</td>\n",
       "      <td>36</td>\n",
       "      <td>65000</td>\n",
       "      <td>Male</td>\n",
       "    </tr>\n",
       "    <tr>\n",
       "      <th>3</th>\n",
       "      <td>4</td>\n",
       "      <td>Hazal</td>\n",
       "      <td>41</td>\n",
       "      <td>95000</td>\n",
       "      <td>Female</td>\n",
       "    </tr>\n",
       "    <tr>\n",
       "      <th>4</th>\n",
       "      <td>5</td>\n",
       "      <td>Georgie</td>\n",
       "      <td>35</td>\n",
       "      <td>35000</td>\n",
       "      <td>Female</td>\n",
       "    </tr>\n",
       "  </tbody>\n",
       "</table>\n",
       "</div>"
      ],
      "text/plain": [
       "   ID     Name  Address  Salary  Gender\n",
       "0   1     Sara       42   33000  Female\n",
       "1   2    Katie       38   45000  Female\n",
       "2   3    David       36   65000    Male\n",
       "3   4    Hazal       41   95000  Female\n",
       "4   5  Georgie       35   35000  Female"
      ]
     },
     "execution_count": 44,
     "metadata": {},
     "output_type": "execute_result"
    }
   ],
   "source": [
    "# Creating a dictionary of genders\n",
    "Genders = {'Sara': 'Female', 'Katie': 'Female', 'David': 'Male', 'Hazal': 'Female', 'Georgie': 'Female'}\n",
    "\n",
    "# Applying a dictionary to the map method\n",
    "Employee['Gender'] = Employee['Name'].map(Genders)\n",
    "Employee"
   ]
  },
  {
   "cell_type": "code",
   "execution_count": 45,
   "id": "f3e5f713",
   "metadata": {},
   "outputs": [
    {
     "data": {
      "text/plain": [
       "54600.0"
      ]
     },
     "execution_count": 45,
     "metadata": {},
     "output_type": "execute_result"
    }
   ],
   "source": [
    "# Mapping in an Anonymous Function\n",
    "mean_income = Employee[\"Salary\"].mean()\n",
    "mean_income"
   ]
  },
  {
   "cell_type": "code",
   "execution_count": 46,
   "id": "d1df455a",
   "metadata": {},
   "outputs": [
    {
     "data": {
      "text/html": [
       "<div>\n",
       "<style scoped>\n",
       "    .dataframe tbody tr th:only-of-type {\n",
       "        vertical-align: middle;\n",
       "    }\n",
       "\n",
       "    .dataframe tbody tr th {\n",
       "        vertical-align: top;\n",
       "    }\n",
       "\n",
       "    .dataframe thead th {\n",
       "        text-align: right;\n",
       "    }\n",
       "</style>\n",
       "<table border=\"1\" class=\"dataframe\">\n",
       "  <thead>\n",
       "    <tr style=\"text-align: right;\">\n",
       "      <th></th>\n",
       "      <th>ID</th>\n",
       "      <th>Name</th>\n",
       "      <th>Address</th>\n",
       "      <th>Salary</th>\n",
       "      <th>Gender</th>\n",
       "      <th>Higher_than_Avg_income</th>\n",
       "    </tr>\n",
       "  </thead>\n",
       "  <tbody>\n",
       "    <tr>\n",
       "      <th>0</th>\n",
       "      <td>1</td>\n",
       "      <td>Sara</td>\n",
       "      <td>42</td>\n",
       "      <td>33000</td>\n",
       "      <td>Female</td>\n",
       "      <td>False</td>\n",
       "    </tr>\n",
       "    <tr>\n",
       "      <th>1</th>\n",
       "      <td>2</td>\n",
       "      <td>Katie</td>\n",
       "      <td>38</td>\n",
       "      <td>45000</td>\n",
       "      <td>Female</td>\n",
       "      <td>False</td>\n",
       "    </tr>\n",
       "    <tr>\n",
       "      <th>2</th>\n",
       "      <td>3</td>\n",
       "      <td>David</td>\n",
       "      <td>36</td>\n",
       "      <td>65000</td>\n",
       "      <td>Male</td>\n",
       "      <td>True</td>\n",
       "    </tr>\n",
       "    <tr>\n",
       "      <th>3</th>\n",
       "      <td>4</td>\n",
       "      <td>Hazal</td>\n",
       "      <td>41</td>\n",
       "      <td>95000</td>\n",
       "      <td>Female</td>\n",
       "      <td>True</td>\n",
       "    </tr>\n",
       "    <tr>\n",
       "      <th>4</th>\n",
       "      <td>5</td>\n",
       "      <td>Georgie</td>\n",
       "      <td>35</td>\n",
       "      <td>35000</td>\n",
       "      <td>Female</td>\n",
       "      <td>False</td>\n",
       "    </tr>\n",
       "  </tbody>\n",
       "</table>\n",
       "</div>"
      ],
      "text/plain": [
       "   ID     Name  Address  Salary  Gender  Higher_than_Avg_income\n",
       "0   1     Sara       42   33000  Female                   False\n",
       "1   2    Katie       38   45000  Female                   False\n",
       "2   3    David       36   65000    Male                    True\n",
       "3   4    Hazal       41   95000  Female                    True\n",
       "4   5  Georgie       35   35000  Female                   False"
      ]
     },
     "execution_count": 46,
     "metadata": {},
     "output_type": "execute_result"
    }
   ],
   "source": [
    "Employee[\"Higher_than_Avg_income\"] = Employee[\"Salary\"].map(lambda x: x> mean_income)\n",
    "Employee"
   ]
  },
  {
   "cell_type": "markdown",
   "id": "df96a7c0",
   "metadata": {},
   "source": [
    "# Regression analysis - Linear regression"
   ]
  },
  {
   "cell_type": "code",
   "execution_count": 28,
   "id": "10d12952",
   "metadata": {},
   "outputs": [
    {
     "data": {
      "image/png": "[encoded data removed]",
      "text/plain": [
       "<Figure size 640x480 with 1 Axes>"
      ]
     },
     "metadata": {},
     "output_type": "display_data"
    }
   ],
   "source": [
    "import matplotlib.pyplot as plt\n",
    "\n",
    "x = [5,7,8,7,2,17,2,9,4,11,12,9,6]\n",
    "y = [99,86,87,88,111,86,103,87,94,78,77,85,86]\n",
    "\n",
    "plt.scatter(x, y)\n",
    "plt.show()"
   ]
  },
  {
   "cell_type": "code",
   "execution_count": 29,
   "id": "6de7bc3a",
   "metadata": {},
   "outputs": [
    {
     "data": {
      "image/png": "[encoded data removed]",
      "text/plain": [
       "<Figure size 640x480 with 1 Axes>"
      ]
     },
     "metadata": {},
     "output_type": "display_data"
    }
   ],
   "source": [
    "from scipy import stats\n",
    "\n",
    "slope, intercept, r, p, std_err = stats.linregress(x, y)\n",
    "\n",
    "def myfunc(x):\n",
    "    return slope * x + intercept\n",
    "\n",
    "mymodel = list(map(myfunc, x))\n",
    "\n",
    "plt.scatter(x, y)\n",
    "plt.plot(x, mymodel)\n",
    "plt.show()\n"
   ]
  },
  {
   "cell_type": "markdown",
   "id": "4f0b13b9",
   "metadata": {},
   "source": [
    "### Relationships"
   ]
  },
  {
   "cell_type": "code",
   "execution_count": 30,
   "id": "a2f578cf",
   "metadata": {},
   "outputs": [
    {
     "name": "stdout",
     "output_type": "stream",
     "text": [
      "-0.758591524376155\n"
     ]
    }
   ],
   "source": [
    "print(r)"
   ]
  },
  {
   "cell_type": "markdown",
   "id": "521a2933",
   "metadata": {},
   "source": [
    "### Predict future values\n",
    "\n",
    "- We can now use the relationship information to predict yet-unseen data points, or future values.\n",
    "- Let's try to predict the speed of a 10-year-old car\n",
    "- In order to do so we need that myfunc() function from the previous example\n"
   ]
  },
  {
   "cell_type": "code",
   "execution_count": 32,
   "id": "ef113a05",
   "metadata": {},
   "outputs": [
    {
     "name": "stdout",
     "output_type": "stream",
     "text": [
      "85.59308314937454\n"
     ]
    }
   ],
   "source": [
    "speed = myfunc(10)     # in 10 years, the car speed will be 85.6 km/h\n",
    "print(speed)\n"
   ]
  },
  {
   "cell_type": "markdown",
   "id": "85c08a31",
   "metadata": {},
   "source": [
    "## Multiple Regression\n",
    "\n",
    "- Multiple regression is like linear regression but with more than one independent value, meaning that we try to predict a value based on two or more variables.\n"
   ]
  },
  {
   "cell_type": "code",
   "execution_count": 35,
   "id": "863ce8a4",
   "metadata": {},
   "outputs": [
    {
     "data": {
      "text/html": [
       "<div>\n",
       "<style scoped>\n",
       "    .dataframe tbody tr th:only-of-type {\n",
       "        vertical-align: middle;\n",
       "    }\n",
       "\n",
       "    .dataframe tbody tr th {\n",
       "        vertical-align: top;\n",
       "    }\n",
       "\n",
       "    .dataframe thead th {\n",
       "        text-align: right;\n",
       "    }\n",
       "</style>\n",
       "<table border=\"1\" class=\"dataframe\">\n",
       "  <thead>\n",
       "    <tr style=\"text-align: right;\">\n",
       "      <th></th>\n",
       "      <th>Car</th>\n",
       "      <th>Model</th>\n",
       "      <th>Volume</th>\n",
       "      <th>Weight</th>\n",
       "      <th>CO2</th>\n",
       "    </tr>\n",
       "  </thead>\n",
       "  <tbody>\n",
       "    <tr>\n",
       "      <th>0</th>\n",
       "      <td>Toyota</td>\n",
       "      <td>Aygo</td>\n",
       "      <td>1000</td>\n",
       "      <td>790</td>\n",
       "      <td>99</td>\n",
       "    </tr>\n",
       "    <tr>\n",
       "      <th>1</th>\n",
       "      <td>Mitsubishi</td>\n",
       "      <td>Space Star</td>\n",
       "      <td>1200</td>\n",
       "      <td>1160</td>\n",
       "      <td>95</td>\n",
       "    </tr>\n",
       "    <tr>\n",
       "      <th>2</th>\n",
       "      <td>Skoda</td>\n",
       "      <td>Citigo</td>\n",
       "      <td>1000</td>\n",
       "      <td>929</td>\n",
       "      <td>95</td>\n",
       "    </tr>\n",
       "    <tr>\n",
       "      <th>3</th>\n",
       "      <td>Fiat</td>\n",
       "      <td>500</td>\n",
       "      <td>900</td>\n",
       "      <td>865</td>\n",
       "      <td>90</td>\n",
       "    </tr>\n",
       "    <tr>\n",
       "      <th>4</th>\n",
       "      <td>Mini</td>\n",
       "      <td>Cooper</td>\n",
       "      <td>1500</td>\n",
       "      <td>1140</td>\n",
       "      <td>105</td>\n",
       "    </tr>\n",
       "  </tbody>\n",
       "</table>\n",
       "</div>"
      ],
      "text/plain": [
       "          Car       Model  Volume  Weight  CO2\n",
       "0      Toyota        Aygo    1000     790   99\n",
       "1  Mitsubishi  Space Star    1200    1160   95\n",
       "2       Skoda      Citigo    1000     929   95\n",
       "3        Fiat         500     900     865   90\n",
       "4        Mini      Cooper    1500    1140  105"
      ]
     },
     "execution_count": 35,
     "metadata": {},
     "output_type": "execute_result"
    }
   ],
   "source": [
    "df = pd.read_csv(\"co2_car_data.csv\")\n",
    "df.head()"
   ]
  },
  {
   "cell_type": "code",
   "execution_count": 37,
   "id": "f818ab60",
   "metadata": {},
   "outputs": [],
   "source": [
    "X = df[[\"Weight\", \"Volume\"]] # independant variables\n",
    "y = df[\"CO2\"]  # depednant variables"
   ]
  },
  {
   "cell_type": "code",
   "execution_count": 39,
   "id": "abd43743",
   "metadata": {},
   "outputs": [],
   "source": [
    "from sklearn import linear_model"
   ]
  },
  {
   "cell_type": "code",
   "execution_count": 43,
   "id": "28420033",
   "metadata": {},
   "outputs": [
    {
     "data": {
      "text/html": [
       "<style>#sk-container-id-1 {color: black;background-color: white;}#sk-container-id-1 pre{padding: 0;}#sk-container-id-1 div.sk-toggleable {background-color: white;}#sk-container-id-1 label.sk-toggleable__label {cursor: pointer;display: block;width: 100%;margin-bottom: 0;padding: 0.3em;box-sizing: border-box;text-align: center;}#sk-container-id-1 label.sk-toggleable__label-arrow:before {content: \"▸\";float: left;margin-right: 0.25em;color: #696969;}#sk-container-id-1 label.sk-toggleable__label-arrow:hover:before {color: black;}#sk-container-id-1 div.sk-estimator:hover label.sk-toggleable__label-arrow:before {color: black;}#sk-container-id-1 div.sk-toggleable__content {max-height: 0;max-width: 0;overflow: hidden;text-align: left;background-color: #f0f8ff;}#sk-container-id-1 div.sk-toggleable__content pre {margin: 0.2em;color: black;border-radius: 0.25em;background-color: #f0f8ff;}#sk-container-id-1 input.sk-toggleable__control:checked~div.sk-toggleable__content {max-height: 200px;max-width: 100%;overflow: auto;}#sk-container-id-1 input.sk-toggleable__control:checked~label.sk-toggleable__label-arrow:before {content: \"▾\";}#sk-container-id-1 div.sk-estimator input.sk-toggleable__control:checked~label.sk-toggleable__label {background-color: #d4ebff;}#sk-container-id-1 div.sk-label input.sk-toggleable__control:checked~label.sk-toggleable__label {background-color: #d4ebff;}#sk-container-id-1 input.sk-hidden--visually {border: 0;clip: rect(1px 1px 1px 1px);clip: rect(1px, 1px, 1px, 1px);height: 1px;margin: -1px;overflow: hidden;padding: 0;position: absolute;width: 1px;}#sk-container-id-1 div.sk-estimator {font-family: monospace;background-color: #f0f8ff;border: 1px dotted black;border-radius: 0.25em;box-sizing: border-box;margin-bottom: 0.5em;}#sk-container-id-1 div.sk-estimator:hover {background-color: #d4ebff;}#sk-container-id-1 div.sk-parallel-item::after {content: \"\";width: 100%;border-bottom: 1px solid gray;flex-grow: 1;}#sk-container-id-1 div.sk-label:hover label.sk-toggleable__label {background-color: #d4ebff;}#sk-container-id-1 div.sk-serial::before {content: \"\";position: absolute;border-left: 1px solid gray;box-sizing: border-box;top: 0;bottom: 0;left: 50%;z-index: 0;}#sk-container-id-1 div.sk-serial {display: flex;flex-direction: column;align-items: center;background-color: white;padding-right: 0.2em;padding-left: 0.2em;position: relative;}#sk-container-id-1 div.sk-item {position: relative;z-index: 1;}#sk-container-id-1 div.sk-parallel {display: flex;align-items: stretch;justify-content: center;background-color: white;position: relative;}#sk-container-id-1 div.sk-item::before, #sk-container-id-1 div.sk-parallel-item::before {content: \"\";position: absolute;border-left: 1px solid gray;box-sizing: border-box;top: 0;bottom: 0;left: 50%;z-index: -1;}#sk-container-id-1 div.sk-parallel-item {display: flex;flex-direction: column;z-index: 1;position: relative;background-color: white;}#sk-container-id-1 div.sk-parallel-item:first-child::after {align-self: flex-end;width: 50%;}#sk-container-id-1 div.sk-parallel-item:last-child::after {align-self: flex-start;width: 50%;}#sk-container-id-1 div.sk-parallel-item:only-child::after {width: 0;}#sk-container-id-1 div.sk-dashed-wrapped {border: 1px dashed gray;margin: 0 0.4em 0.5em 0.4em;box-sizing: border-box;padding-bottom: 0.4em;background-color: white;}#sk-container-id-1 div.sk-label label {font-family: monospace;font-weight: bold;display: inline-block;line-height: 1.2em;}#sk-container-id-1 div.sk-label-container {text-align: center;}#sk-container-id-1 div.sk-container {/* jupyter's `normalize.less` sets `[hidden] { display: none; }` but bootstrap.min.css set `[hidden] { display: none !important; }` so we also need the `!important` here to be able to override the default hidden behavior on the sphinx rendered scikit-learn.org. See: https://github.com/scikit-learn/scikit-learn/issues/21755 */display: inline-block !important;position: relative;}#sk-container-id-1 div.sk-text-repr-fallback {display: none;}</style><div id=\"sk-container-id-1\" class=\"sk-top-container\"><div class=\"sk-text-repr-fallback\"><pre>LinearRegression()</pre><b>In a Jupyter environment, please rerun this cell to show the HTML representation or trust the notebook. <br />On GitHub, the HTML representation is unable to render, please try loading this page with nbviewer.org.</b></div><div class=\"sk-container\" hidden><div class=\"sk-item\"><div class=\"sk-estimator sk-toggleable\"><input class=\"sk-toggleable__control sk-hidden--visually\" id=\"sk-estimator-id-1\" type=\"checkbox\" checked><label for=\"sk-estimator-id-1\" class=\"sk-toggleable__label sk-toggleable__label-arrow\">LinearRegression</label><div class=\"sk-toggleable__content\"><pre>LinearRegression()</pre></div></div></div></div></div>"
      ],
      "text/plain": [
       "LinearRegression()"
      ]
     },
     "execution_count": 43,
     "metadata": {},
     "output_type": "execute_result"
    }
   ],
   "source": [
    "regr = linear_model.LinearRegression()\n",
    "regr.fit(X,y)"
   ]
  },
  {
   "cell_type": "code",
   "execution_count": 46,
   "id": "6bcf19aa",
   "metadata": {},
   "outputs": [
    {
     "name": "stderr",
     "output_type": "stream",
     "text": [
      "C:\\Users\\rania\\anaconda3\\lib\\site-packages\\sklearn\\base.py:420: UserWarning: X does not have valid feature names, but LinearRegression was fitted with feature names\n",
      "  warnings.warn(\n"
     ]
    },
    {
     "data": {
      "text/plain": [
       "array([107.2087328])"
      ]
     },
     "execution_count": 46,
     "metadata": {},
     "output_type": "execute_result"
    }
   ],
   "source": [
    "#predict the CO2 emission of a car where the weight is 2300kg, and the volume is 1300cm3:\n",
    "predictedCO2 = regr.predict([[2300, 1300]])\n",
    "predictedCO2"
   ]
  },
  {
   "cell_type": "markdown",
   "id": "2589c7c6",
   "metadata": {},
   "source": [
    "## Classification\n",
    "\n",
    "- Unlike linear regression, **logistic regression** predicts categorical outcomes, or classifications\n",
    "- KNN = K-nearest neighbours\n",
    "- In the simplest case there are two outcomes, which is called binomial\n",
    "- A binomial example is predicting if a tumour is malignant or benign. \n",
    "- Other cases have more than two outcomes to classify, in this case it is called multinomial. A common example for multinomial logistic regression would be predicting the class of a coloured shape between 3 different groups.\n"
   ]
  },
  {
   "cell_type": "code",
   "execution_count": 47,
   "id": "82c53a90",
   "metadata": {},
   "outputs": [],
   "source": [
    "import numpy as np\n",
    "\n",
    "X = np.array([3.78, 2.44, 2.09, 0.14, 1.72, 1.65, 4.92, 4.37, 4.96, 4.52, 3.69, 5.88]).reshape(-1,1)\n",
    "y = np.array([0, 0, 0, 0, 0, 0, 1, 1, 1, 1, 1, 1])"
   ]
  },
  {
   "cell_type": "code",
   "execution_count": 48,
   "id": "c126b9a9",
   "metadata": {},
   "outputs": [
    {
     "data": {
      "text/plain": [
       "array([1])"
      ]
     },
     "execution_count": 48,
     "metadata": {},
     "output_type": "execute_result"
    }
   ],
   "source": [
    "from sklearn import linear_model\n",
    "logr = linear_model.LogisticRegression()\n",
    "logr.fit(X,y)\n",
    "\n",
    "predicted = logr.predict(np.array([3.7]).reshape(-1,1))\n",
    "predicted"
   ]
  },
  {
   "cell_type": "code",
   "execution_count": null,
   "id": "1f136c7a",
   "metadata": {},
   "outputs": [],
   "source": []
  }
 ],
 "metadata": {
  "kernelspec": {
   "display_name": "Python 3 (ipykernel)",
   "language": "python",
   "name": "python3"
  },
  "language_info": {
   "codemirror_mode": {
    "name": "ipython",
    "version": 3
   },
   "file_extension": ".py",
   "mimetype": "text/x-python",
   "name": "python",
   "nbconvert_exporter": "python",
   "pygments_lexer": "ipython3",
   "version": "3.10.9"
  }
 },
 "nbformat": 4,
 "nbformat_minor": 5
}
